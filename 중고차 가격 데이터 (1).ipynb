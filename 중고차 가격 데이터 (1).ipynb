{
 "cells": [
  {
   "cell_type": "code",
   "execution_count": null,
   "id": "49b39c4b",
   "metadata": {},
   "outputs": [],
   "source": [
    "# 데이터 병합 merged_df로\n",
    "car_df['brand'] = car_df['title'].apply(lambda x: x.split()[0])\n",
    "\n",
    "brand_df.rename({'title':'brand'},axis=1,inplace=True)\n",
    "\n",
    "brand_df['brand'] = brand_df['brand'].apply(lambda x: x.upper())\n",
    "\n",
    "merged_df = car_df.merge(brand_df, on='brand' ,how='inner')"
   ]
  },
  {
   "cell_type": "code",
   "execution_count": null,
   "id": "3d81d37c",
   "metadata": {},
   "outputs": [],
   "source": [
    "# Engine 컬럼전처리\n",
    "merged_df['Engine'] = merged_df['Engine'].apply(lambda x: float(str(x).replace('L','')))"
   ]
  },
  {
   "cell_type": "code",
   "execution_count": null,
   "id": "0d8735a3",
   "metadata": {},
   "outputs": [],
   "source": [
    "# Emission Class 컬럼 전처리\n",
    "merged_df['Emission Class'] = merged_df[~(merged_df['Emission Class'].isna())]['Emission Class'].apply(lambda x: x.split()[-1])\n",
    "\n",
    "merged_df['Emission Class'] = merged_df[~(merged_df['Emission Class'].isna())]['Emission Class'].apply(lambda x: int(x))"
   ]
  },
  {
   "cell_type": "code",
   "execution_count": null,
   "id": "cd78ab5b",
   "metadata": {},
   "outputs": [],
   "source": [
    "# Service history 변수의 결측치는 'Unknown'으로 채우기\n",
    "merged_df['Service history'].fillna('Unknown', inplace=True) "
   ]
  },
  {
   "cell_type": "code",
   "execution_count": null,
   "id": "c7bb21d0",
   "metadata": {},
   "outputs": [],
   "source": [
    "# 결측치 비율 0.382696이 무조건 삭제할 정도로 높은지 모르겠다.\n",
    "# 이 피처가 중요한 피처라면 삭제하면 안되지 않나.\n",
    "# price와의 상관관계를 보니 중요한 거 같다. 대체를 해보자.\n",
    "# Registration_Year가 높으면 (최신일수록),  Previous Owners는 적을 거 같다.\n",
    "# 뭔가 관계로 대체하고싶지만 복잡하니까 모드값으로\n",
    "\n",
    "## 빈도 그래프\n",
    "correlations = merged_df.dropna(subset=['Previous Owners']).corr()['Previous Owners']\n",
    "correlations.drop('Previous Owners', errors='ignore') "
   ]
  },
  {
   "cell_type": "code",
   "execution_count": null,
   "id": "b66cd92c",
   "metadata": {},
   "outputs": [],
   "source": [
    "sns.countplot(data=merged_df, x='Previous Owners')\n",
    "mode_value = merged_df['Previous Owners'].mode()[0]\n",
    "merged_df['Previous Owners'].fillna(mode_value, inplace=True) "
   ]
  },
  {
   "cell_type": "code",
   "execution_count": null,
   "id": "d8f2d493",
   "metadata": {},
   "outputs": [],
   "source": [
    "# 결측치 변수가 일정 개수 이상 포함된 데이터는 제거합니다.\n",
    "# 행 기준으로 결측치 4개인 데이터 제거\n",
    "# 3개는?..\n",
    "null_4_index = merged_df[merged_df['Engine'].isna()&merged_df['Doors'].isna()&merged_df['Seats'].isna()&merged_df['Seats'].isna()].index\n",
    "merged_df = merged_df.drop(index=null_4_index)\n",
    "merged_df = merged_df.dropna()"
   ]
  },
  {
   "cell_type": "code",
   "execution_count": null,
   "id": "e2d56b86",
   "metadata": {},
   "outputs": [],
   "source": [
    "# 크게 보이는 이상치는 Mileage(miles)의 1개\n",
    "sns.scatterplot(data=merged_df, x=merged_df.index, y=merged_df['Mileage(miles)'])"
   ]
  },
  {
   "cell_type": "code",
   "execution_count": null,
   "id": "1a27500e",
   "metadata": {},
   "outputs": [],
   "source": [
    "# 제거\n",
    "merged_df = merged_df.drop(index=merged_df[merged_df['Mileage(miles)'] > 1e6].index)"
   ]
  },
  {
   "cell_type": "code",
   "execution_count": null,
   "id": "8a0cdaf4",
   "metadata": {},
   "outputs": [],
   "source": [
    "# 원핫인코딩\n",
    "# 일단 object 조사 1.title, 2.Fuel type, 3.Body type, 4.Gearbox, 5.Service history, 6.brand, 7.country\n",
    "# 이 중에서 unique값이 많으면 줄인다.\n",
    "merged_df.info()\n"
   ]
  },
  {
   "cell_type": "code",
   "execution_count": null,
   "id": "b845076e",
   "metadata": {},
   "outputs": [],
   "source": [
    "# title은 가격예측할 때 되게 중요할 수 있다고 생각이 드는데, \n",
    "# 원핫 인코딩이 하고 싶기때문에 brand로 묶인다 생각하고 제거.\n",
    "merged_df['title'].value_counts()"
   ]
  },
  {
   "cell_type": "code",
   "execution_count": null,
   "id": "41adad7e",
   "metadata": {},
   "outputs": [],
   "source": [
    "# 2.Fuel type #하이브리드를 묶자. 몇개 안됨.\n",
    "merged_df['Fuel type'].value_counts()"
   ]
  },
  {
   "cell_type": "code",
   "execution_count": null,
   "id": "8042288d",
   "metadata": {},
   "outputs": [],
   "source": [
    "# 처리\n",
    "merged_df['Fuel type'] = merged_df['Fuel type'].apply(lambda x: 'Hybrid' if x.split()[-1] == 'Hybrid' else x)"
   ]
  },
  {
   "cell_type": "code",
   "execution_count": null,
   "id": "4e13ce9a",
   "metadata": {},
   "outputs": [],
   "source": [
    "# 3. Body type # 밴과 픽업트럭.. \n",
    "Body_type_ratios = merged_df['Body type'].value_counts()/len(merged_df['Body type'])\n",
    "merged_df['Body type'] = merged_df['Body type'].apply(lambda x: 'Others' if Body_type_ratios[x] < 0.02 else x)\n",
    "merged_df['Body type'].value_counts()"
   ]
  },
  {
   "cell_type": "code",
   "execution_count": null,
   "id": "fad88ea8",
   "metadata": {},
   "outputs": [],
   "source": [
    "# 4.Gearbox\n",
    "merged_df['Gearbox'].value_counts()"
   ]
  },
  {
   "cell_type": "code",
   "execution_count": null,
   "id": "f00786a8",
   "metadata": {},
   "outputs": [],
   "source": [
    "# 5.Service history\n",
    "merged_df['Service history'].value_counts()"
   ]
  },
  {
   "cell_type": "code",
   "execution_count": null,
   "id": "0875f6f8",
   "metadata": {},
   "outputs": [],
   "source": [
    "# 6.brand, title까지 지울건데 brand까지 지우면 안되지 않을까요? 너무 많으니까 2프로 이하\n",
    "brand_ratios = merged_df['brand'].value_counts() / len(merged_df)\n",
    "merged_df['brand'] = merged_df['brand'].apply(lambda x: 'Others' if brand_ratios[x] < 0.02 else x)"
   ]
  },
  {
   "cell_type": "code",
   "execution_count": null,
   "id": "95d3595b",
   "metadata": {},
   "outputs": [],
   "source": [
    "# 7.country \n",
    "country_ratios = merged_df['country'].value_counts()/len(merged_df['country'])\n",
    "merged_df['country'] = merged_df['country'].apply(lambda x: 'Others' if country_ratios[x] < 0.02 else x)"
   ]
  },
  {
   "cell_type": "code",
   "execution_count": null,
   "id": "d8a91225",
   "metadata": {},
   "outputs": [],
   "source": [
    "# title drop\n",
    "merged_df_1 = merged_df.drop(columns='title')"
   ]
  },
  {
   "cell_type": "code",
   "execution_count": null,
   "id": "c425ceac",
   "metadata": {},
   "outputs": [],
   "source": [
    "# 원핫인코딩\n",
    "merged_df_2 = pd.get_dummies(merged_df_1, columns=['Fuel type', 'Body type', 'Gearbox', 'Service history', 'brand', 'country'], drop_first= True)"
   ]
  },
  {
   "cell_type": "code",
   "execution_count": null,
   "id": "60379a56",
   "metadata": {},
   "outputs": [],
   "source": [
    "# 스케일링\n",
    "from sklearn.preprocessing import StandardScaler\n",
    "ss = StandardScaler()\n",
    "ss.fit(merged_df_2)\n",
    "ss_df = pd.DataFrame(ss.transform(merged_df_2), columns = merged_df_2.columns)"
   ]
  },
  {
   "cell_type": "code",
   "execution_count": null,
   "id": "1e066459",
   "metadata": {},
   "outputs": [],
   "source": [
    "# PCA\n",
    "ss_df.head()"
   ]
  },
  {
   "cell_type": "code",
   "execution_count": null,
   "id": "02eacd4c",
   "metadata": {},
   "outputs": [],
   "source": [
    "from sklearn.decomposition import PCA"
   ]
  },
  {
   "cell_type": "code",
   "execution_count": null,
   "id": "16a56f68",
   "metadata": {},
   "outputs": [],
   "source": [
    "pca = PCA(2)\n",
    "\n",
    "pca_result = pca.fit_transform(merged_df_2)"
   ]
  },
  {
   "cell_type": "code",
   "execution_count": null,
   "id": "6bc54ffa",
   "metadata": {},
   "outputs": [],
   "source": [
    "pca.explained_variance_ratio_"
   ]
  },
  {
   "cell_type": "code",
   "execution_count": null,
   "id": "bf29101d",
   "metadata": {},
   "outputs": [],
   "source": [
    "merged_df.groupby('country')['brand'].nunique()"
   ]
  },
  {
   "cell_type": "code",
   "execution_count": null,
   "id": "6b9929d6",
   "metadata": {},
   "outputs": [],
   "source": [
    "import seaborn as sns\n",
    "import matplotlib.pyplot as plt\n",
    "\n",
    "# 상관관계 계산\n",
    "correlation_matrix = merged_df.corr()\n",
    "\n",
    "# 상관관계 히트맵 시각화\n",
    "plt.figure(figsize=(12, 10))\n",
    "sns.heatmap(correlation_matrix, annot=True, cmap='coolwarm', linewidths=0.5)"
   ]
  },
  {
   "cell_type": "code",
   "execution_count": null,
   "id": "0ad97974",
   "metadata": {},
   "outputs": [],
   "source": [
    "import seaborn as sns\n",
    "import matplotlib.pyplot as plt\n",
    "\n",
    "# 상관관계 계산\n",
    "correlation_matrix = merged_df_1.corr()\n",
    "\n",
    "# 상관관계 히트맵 시각화\n",
    "plt.figure(figsize=(12, 10))\n",
    "sns.heatmap(correlation_matrix, annot=True, cmap='coolwarm', linewidths=0.5)"
   ]
  }
 ],
 "metadata": {
  "kernelspec": {
   "display_name": "Python 3 (ipykernel)",
   "language": "python",
   "name": "python3"
  },
  "language_info": {
   "codemirror_mode": {
    "name": "ipython",
    "version": 3
   },
   "file_extension": ".py",
   "mimetype": "text/x-python",
   "name": "python",
   "nbconvert_exporter": "python",
   "pygments_lexer": "ipython3",
   "version": "3.11.4"
  }
 },
 "nbformat": 4,
 "nbformat_minor": 5
}
