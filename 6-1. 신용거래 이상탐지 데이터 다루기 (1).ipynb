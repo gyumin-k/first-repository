{
 "cells": [
  {
   "cell_type": "code",
   "execution_count": 3,
   "id": "b636fe2c",
   "metadata": {},
   "outputs": [],
   "source": [
    "import pandas as pd\n",
    "import numpy as np\n",
    "import matplotlib.pyplot as plt\n",
    "import seaborn as sns"
   ]
  },
  {
   "cell_type": "code",
   "execution_count": 4,
   "id": "dabb656e",
   "metadata": {},
   "outputs": [],
   "source": [
    "data_fraud = pd.read_csv('/aiffel/data/fraud.csv')"
   ]
  },
  {
   "cell_type": "code",
   "execution_count": 5,
   "id": "c9717744",
   "metadata": {
    "scrolled": false
   },
   "outputs": [
    {
     "name": "stdout",
     "output_type": "stream",
     "text": [
      "<class 'pandas.core.frame.DataFrame'>\n",
      "RangeIndex: 491134 entries, 0 to 491133\n",
      "Data columns (total 14 columns):\n",
      " #   Column                 Non-Null Count   Dtype  \n",
      "---  ------                 --------------   -----  \n",
      " 0   trans_date_trans_time  491134 non-null  object \n",
      " 1   merchant               491134 non-null  object \n",
      " 2   category               491134 non-null  object \n",
      " 3   amt                    491134 non-null  float64\n",
      " 4   gender                 491134 non-null  object \n",
      " 5   zip                    491134 non-null  int64  \n",
      " 6   lat                    491134 non-null  float64\n",
      " 7   long                   491134 non-null  float64\n",
      " 8   city_pop               491134 non-null  int64  \n",
      " 9   job                    491134 non-null  object \n",
      " 10  dob                    491134 non-null  object \n",
      " 11  merch_lat              491134 non-null  float64\n",
      " 12  merch_long             491134 non-null  float64\n",
      " 13  is_fraud               491134 non-null  int64  \n",
      "dtypes: float64(5), int64(3), object(6)\n",
      "memory usage: 52.5+ MB\n"
     ]
    }
   ],
   "source": [
    "# 의미상 컬럼 삭제 \n",
    "data_fraud.drop(['cc_num','first','last','trans_num','unix_time'], axis=1, inplace=True)\n",
    "# cc_num 신용카드번호\n",
    "# first 이름\n",
    "# last 이름\n",
    "# trans_num 거래번호\n",
    "# unix_time 거래시간\n",
    "\n",
    "data_fraud.drop(['street','city','state'], axis=1, inplace=True)\n",
    "# street 카드 소유자 주소상 거리이름\n",
    "# city 사는 도시\n",
    "# state 사는 주\n",
    "\n",
    "data_fraud.info()"
   ]
  },
  {
   "cell_type": "markdown",
   "id": "72864f8f",
   "metadata": {},
   "source": [
    "1. trans_date_trans_time: 거래가 발생한 날짜와 시간입니다. 거래의 타임스탬프를 의미합니다.\n",
    "12. zip: 카드 소유자의 우편번호(Zip code)입니다.\n",
    "\n",
    "13. lat: 카드 소유자의 거주지 위도 좌표입니다.\n",
    "14. long: 카드 소유자의 거주지 경도 좌표입니다."
   ]
  },
  {
   "cell_type": "markdown",
   "id": "ea7e3fb1",
   "metadata": {},
   "source": [
    "3. merchant: 거래가 이루어진 상점이나 판매자의 이름입니다.\n",
    "보류\n",
    "4. category: 거래의 유형을 나타내며, 거래가 어떤 범주에 속하는지(예: 레스토랑, 의류, 전자제품 등)를 설명합니다.\n",
    "보류\n",
    "5. amt: 거래 금액입니다. 해당 거래에서 지출된 금액을 나타냅니다.\n",
    "사기칠라면 큰걸 치지 않을까\n",
    "8. gender: 카드 소유자의 성별을 나타냅니다\n",
    "사기 거래 비중으로 보기\n",
    "카드 소유자의 거주 정보 중복 제거, 우편번호안에 담을 수 있다. 위도 경도는 상점이랑 거리 계산 가능할 거 같음.\n",
    "\n",
    "---------------------------------------------------------------\n",
    "15. city_pop: 카드 소유자가 거주하는 도시의 인구수입니다.\n",
    "보류 도시의 인구가 많고 적은 것이 영향을 미칠 수도\n",
    "16. job: 카드 소유자의 직업입니다.\n",
    "보류 사기거래의 비중을 계산해보고 \n",
    "17. dob: 카드 소유자의 생년월일입니다.\n",
    "------------------------------------------------------------------------------------------------\n",
    "\n",
    "20. merch_lat: 거래가 이루어진 상점의 위도 좌표입니다.\n",
    "21. merch_long: 거래가 이루어진 상점의 경도 좌표입니다.\n",
    "22. is_fraud: 해당 거래가 사기인지 여부를 나타내는 플래그입니다(1이면 사기, 0이면 정상 거래)."
   ]
  },
  {
   "cell_type": "code",
   "execution_count": 6,
   "id": "22e60ba8",
   "metadata": {},
   "outputs": [],
   "source": [
    "# trans_date_trans_time datetime으로 변경\n",
    "from datetime import datetime\n",
    "data_fraud['trans_date_trans_time'] = pd.to_datetime(data_fraud['trans_date_trans_time'])"
   ]
  },
  {
   "cell_type": "code",
   "execution_count": 7,
   "id": "d9356638",
   "metadata": {},
   "outputs": [],
   "source": [
    "# zip 우편번호 object 컬럼으로\n",
    "data_fraud['zip'] = data_fraud['zip'].astype('str')"
   ]
  },
  {
   "cell_type": "code",
   "execution_count": 8,
   "id": "50576d7c",
   "metadata": {},
   "outputs": [],
   "source": [
    "# dob에서 나이만 추출하기\n",
    "#data_fraud['dob'] = data_fraud['dob'].str.split('-', expand=True)[0]\n",
    "\n",
    "# dob과 거래일자로 성년인지 아닌지 피처 생성\n",
    "data_fraud['dob'] = pd.to_datetime(data_fraud['dob'])"
   ]
  },
  {
   "cell_type": "code",
   "execution_count": 9,
   "id": "7885475a",
   "metadata": {},
   "outputs": [],
   "source": [
    "data_fraud['age'] = data_fraud['trans_date_trans_time'] - data_fraud['dob']"
   ]
  },
  {
   "cell_type": "code",
   "execution_count": 10,
   "id": "94e0b139",
   "metadata": {},
   "outputs": [],
   "source": [
    "data_fraud['age'] = data_fraud['age'].dt.days"
   ]
  },
  {
   "cell_type": "code",
   "execution_count": 11,
   "id": "50244560",
   "metadata": {},
   "outputs": [],
   "source": [
    "data_fraud['age'] = data_fraud['age'].apply(lambda x : 1 if x >= 6574 else 0)"
   ]
  },
  {
   "cell_type": "code",
   "execution_count": 12,
   "id": "6216554d",
   "metadata": {},
   "outputs": [],
   "source": [
    "data_fraud.rename({'age':'adult'}, axis=1, inplace=True)"
   ]
  },
  {
   "cell_type": "code",
   "execution_count": 13,
   "id": "22443148",
   "metadata": {},
   "outputs": [],
   "source": [
    "data_fraud_real = data_fraud[data_fraud['is_fraud'] == 1]"
   ]
  },
  {
   "cell_type": "code",
   "execution_count": 14,
   "id": "db88d7cf",
   "metadata": {},
   "outputs": [
    {
     "name": "stderr",
     "output_type": "stream",
     "text": [
      "/opt/conda/lib/python3.9/site-packages/seaborn/distributions.py:2619: FutureWarning: `distplot` is a deprecated function and will be removed in a future version. Please adapt your code to use either `displot` (a figure-level function with similar flexibility) or `histplot` (an axes-level function for histograms).\n",
      "  warnings.warn(msg, FutureWarning)\n"
     ]
    },
    {
     "data": {
      "text/plain": [
       "<AxesSubplot:xlabel='amt', ylabel='Density'>"
      ]
     },
     "execution_count": 14,
     "metadata": {},
     "output_type": "execute_result"
    },
    {
     "data": {
      "image/png": "[encoded data removed]",
      "text/plain": [
       "<Figure size 432x288 with 1 Axes>"
      ]
     },
     "metadata": {
      "needs_background": "light"
     },
     "output_type": "display_data"
    }
   ],
   "source": [
    "sns.distplot(np.log(data_fraud['amt']))"
   ]
  },
  {
   "cell_type": "code",
   "execution_count": 15,
   "id": "14dffa4f",
   "metadata": {},
   "outputs": [
    {
     "data": {
      "text/plain": [
       "2980.957987041727"
      ]
     },
     "execution_count": 15,
     "metadata": {},
     "output_type": "execute_result"
    }
   ],
   "source": [
    "np.e**8"
   ]
  },
  {
   "cell_type": "code",
   "execution_count": 16,
   "id": "6ae5c937",
   "metadata": {},
   "outputs": [
    {
     "name": "stderr",
     "output_type": "stream",
     "text": [
      "/opt/conda/lib/python3.9/site-packages/seaborn/distributions.py:2619: FutureWarning: `distplot` is a deprecated function and will be removed in a future version. Please adapt your code to use either `displot` (a figure-level function with similar flexibility) or `histplot` (an axes-level function for histograms).\n",
      "  warnings.warn(msg, FutureWarning)\n"
     ]
    },
    {
     "data": {
      "text/plain": [
       "<AxesSubplot:xlabel='amt', ylabel='Density'>"
      ]
     },
     "execution_count": 16,
     "metadata": {},
     "output_type": "execute_result"
    },
    {
     "data": {
      "image/png": "[encoded data removed]",
      "text/plain": [
       "<Figure size 432x288 with 1 Axes>"
      ]
     },
     "metadata": {
      "needs_background": "light"
     },
     "output_type": "display_data"
    }
   ],
   "source": [
    "sns.distplot(data_fraud_real['amt'])"
   ]
  },
  {
   "cell_type": "code",
   "execution_count": 17,
   "id": "1ae7a04d",
   "metadata": {},
   "outputs": [
    {
     "data": {
      "text/plain": [
       "<AxesSubplot:ylabel='amt'>"
      ]
     },
     "execution_count": 17,
     "metadata": {},
     "output_type": "execute_result"
    },
    {
     "data": {
      "image/png": "[encoded data removed]",
      "text/plain": [
       "<Figure size 432x288 with 1 Axes>"
      ]
     },
     "metadata": {
      "needs_background": "light"
     },
     "output_type": "display_data"
    }
   ],
   "source": [
    "sns.scatterplot(x= data_fraud.index, y=data_fraud['amt'])"
   ]
  },
  {
   "cell_type": "code",
   "execution_count": 18,
   "id": "4643c0fc",
   "metadata": {},
   "outputs": [
    {
     "data": {
      "text/plain": [
       "<AxesSubplot:ylabel='amt'>"
      ]
     },
     "execution_count": 18,
     "metadata": {},
     "output_type": "execute_result"
    },
    {
     "data": {
      "image/png": "[encoded data removed]",
      "text/plain": [
       "<Figure size 432x288 with 1 Axes>"
      ]
     },
     "metadata": {
      "needs_background": "light"
     },
     "output_type": "display_data"
    }
   ],
   "source": [
    "sns.scatterplot(x= data_fraud_real.index, y=data_fraud_real['amt'])"
   ]
  },
  {
   "cell_type": "code",
   "execution_count": 19,
   "id": "4276b88d",
   "metadata": {},
   "outputs": [],
   "source": [
    "data_fraud_amt = data_fraud.amt"
   ]
  },
  {
   "cell_type": "code",
   "execution_count": 20,
   "id": "7b0b081d",
   "metadata": {},
   "outputs": [
    {
     "data": {
      "text/plain": [
       "154"
      ]
     },
     "execution_count": 20,
     "metadata": {},
     "output_type": "execute_result"
    }
   ],
   "source": [
    "# 사기거래의 경우 최대 1400 으로 범위가 생각보다 작았다.\n",
    "# 모든 거래의 데이터 중에 이상치들의 범위값을 제한한다. 3000으로\n",
    "(data_fraud['amt'] >= 3000).sum()"
   ]
  },
  {
   "cell_type": "code",
   "execution_count": 21,
   "id": "fce5cf84",
   "metadata": {},
   "outputs": [
    {
     "name": "stderr",
     "output_type": "stream",
     "text": [
      "/opt/conda/lib/python3.9/site-packages/seaborn/distributions.py:2619: FutureWarning: `distplot` is a deprecated function and will be removed in a future version. Please adapt your code to use either `displot` (a figure-level function with similar flexibility) or `histplot` (an axes-level function for histograms).\n",
      "  warnings.warn(msg, FutureWarning)\n"
     ]
    },
    {
     "data": {
      "text/plain": [
       "<AxesSubplot:xlabel='amt', ylabel='Density'>"
      ]
     },
     "execution_count": 21,
     "metadata": {},
     "output_type": "execute_result"
    },
    {
     "data": {
      "image/png": "[encoded data removed]",
      "text/plain": [
       "<Figure size 432x288 with 1 Axes>"
      ]
     },
     "metadata": {
      "needs_background": "light"
     },
     "output_type": "display_data"
    }
   ],
   "source": [
    "sns.distplot(data_fraud_real['amt'])"
   ]
  },
  {
   "cell_type": "code",
   "execution_count": 22,
   "id": "01e25b80",
   "metadata": {},
   "outputs": [],
   "source": [
    "data_fraud['amt'] = data_fraud['amt'].apply(lambda x: 3000 if x > 3000 else x)"
   ]
  },
  {
   "cell_type": "code",
   "execution_count": 23,
   "id": "09878a32",
   "metadata": {},
   "outputs": [
    {
     "name": "stderr",
     "output_type": "stream",
     "text": [
      "/opt/conda/lib/python3.9/site-packages/seaborn/distributions.py:2619: FutureWarning: `distplot` is a deprecated function and will be removed in a future version. Please adapt your code to use either `displot` (a figure-level function with similar flexibility) or `histplot` (an axes-level function for histograms).\n",
      "  warnings.warn(msg, FutureWarning)\n"
     ]
    },
    {
     "data": {
      "text/plain": [
       "<AxesSubplot:xlabel='city_pop', ylabel='Density'>"
      ]
     },
     "execution_count": 23,
     "metadata": {},
     "output_type": "execute_result"
    },
    {
     "data": {
      "image/png": "[encoded data removed]",
      "text/plain": [
       "<Figure size 432x288 with 1 Axes>"
      ]
     },
     "metadata": {
      "needs_background": "light"
     },
     "output_type": "display_data"
    }
   ],
   "source": [
    "sns.distplot(data_fraud['city_pop'])"
   ]
  },
  {
   "cell_type": "code",
   "execution_count": null,
   "id": "7fee73f3",
   "metadata": {},
   "outputs": [],
   "source": []
  },
  {
   "cell_type": "code",
   "execution_count": 24,
   "id": "bec9b321",
   "metadata": {},
   "outputs": [
    {
     "data": {
      "text/plain": [
       "<AxesSubplot:ylabel='city_pop'>"
      ]
     },
     "execution_count": 24,
     "metadata": {},
     "output_type": "execute_result"
    },
    {
     "data": {
      "image/png": "[encoded data removed]",
      "text/plain": [
       "<Figure size 432x288 with 1 Axes>"
      ]
     },
     "metadata": {
      "needs_background": "light"
     },
     "output_type": "display_data"
    }
   ],
   "source": [
    "sns.scatterplot(x=data_fraud.index, y= data_fraud['city_pop'])"
   ]
  },
  {
   "cell_type": "code",
   "execution_count": 25,
   "id": "21130416",
   "metadata": {},
   "outputs": [
    {
     "data": {
      "text/plain": [
       "[2906700,\n",
       " 1595797,\n",
       " 1526206,\n",
       " 1312922,\n",
       " 910148,\n",
       " 493806,\n",
       " 391389,\n",
       " 378909,\n",
       " 320420,\n",
       " 276896,\n",
       " 270712,\n",
       " 238602,\n",
       " 224256,\n",
       " 190178,\n",
       " 186140,\n",
       " 172817,\n",
       " 165556,\n",
       " 163415,\n",
       " 158701,\n",
       " 134056,\n",
       " 128715,\n",
       " 124967,\n",
       " 116001,\n",
       " 105549,\n",
       " 84106,\n",
       " 76383,\n",
       " 71485,\n",
       " 71463,\n",
       " 71335,\n",
       " 54287,\n",
       " 50835,\n",
       " 50489,\n",
       " 46563,\n",
       " 34882,\n",
       " 34496,\n",
       " 34153,\n",
       " 32891,\n",
       " 31515,\n",
       " 31394,\n",
       " 28739,\n",
       " 27971,\n",
       " 21134,\n",
       " 20478,\n",
       " 20328,\n",
       " 19685,\n",
       " 19054,\n",
       " 18408,\n",
       " 18128,\n",
       " 17867,\n",
       " 16183,\n",
       " 10076,\n",
       " 9815,\n",
       " 7646,\n",
       " 7268,\n",
       " 7155,\n",
       " 6951,\n",
       " 6841,\n",
       " 6469,\n",
       " 6120,\n",
       " 6006,\n",
       " 5895,\n",
       " 5875,\n",
       " 5760,\n",
       " 5621,\n",
       " 5512,\n",
       " 5507,\n",
       " 5196,\n",
       " 5161,\n",
       " 4575,\n",
       " 4542,\n",
       " 4090,\n",
       " 4074,\n",
       " 4056,\n",
       " 3766,\n",
       " 3684,\n",
       " 3224,\n",
       " 2872,\n",
       " 2870,\n",
       " 2607,\n",
       " 2526,\n",
       " 2408,\n",
       " 2368,\n",
       " 2135,\n",
       " 1970,\n",
       " 1847,\n",
       " 1810,\n",
       " 1789,\n",
       " 1766,\n",
       " 1725,\n",
       " 1563,\n",
       " 1523,\n",
       " 1512,\n",
       " 1423,\n",
       " 1228,\n",
       " 1089,\n",
       " 922,\n",
       " 895,\n",
       " 888,\n",
       " 878,\n",
       " 836,\n",
       " 765,\n",
       " 743,\n",
       " 725,\n",
       " 722,\n",
       " 718,\n",
       " 647,\n",
       " 606,\n",
       " 564,\n",
       " 372,\n",
       " 343,\n",
       " 328,\n",
       " 313,\n",
       " 242,\n",
       " 241,\n",
       " 217,\n",
       " 149,\n",
       " 136,\n",
       " 111,\n",
       " 85,\n",
       " 77,\n",
       " 69,\n",
       " 46]"
      ]
     },
     "execution_count": 25,
     "metadata": {},
     "output_type": "execute_result"
    }
   ],
   "source": [
    "sorted(data_fraud['city_pop'].unique(), reverse=True)"
   ]
  },
  {
   "cell_type": "code",
   "execution_count": 26,
   "id": "e7f5be0e",
   "metadata": {},
   "outputs": [
    {
     "data": {
      "text/plain": [
       "<AxesSubplot:ylabel='city_pop'>"
      ]
     },
     "execution_count": 26,
     "metadata": {},
     "output_type": "execute_result"
    },
    {
     "data": {
      "image/png": "[encoded data removed]",
      "text/plain": [
       "<Figure size 432x288 with 1 Axes>"
      ]
     },
     "metadata": {
      "needs_background": "light"
     },
     "output_type": "display_data"
    }
   ],
   "source": [
    "data_fraud_city = data_fraud[data_fraud['city_pop'] <= 493806]\n",
    "sns.scatterplot(x=data_fraud_city.index, y= data_fraud_city['city_pop'])"
   ]
  },
  {
   "cell_type": "code",
   "execution_count": 27,
   "id": "eb70dc7c",
   "metadata": {},
   "outputs": [],
   "source": [
    "# 도시 인구수로 도시 분류\n"
   ]
  },
  {
   "cell_type": "code",
   "execution_count": 28,
   "id": "ededfa5a",
   "metadata": {},
   "outputs": [],
   "source": [
    "# from math import radians, sin, cos, sqrt, atan2\n",
    "\n",
    "# # 하버사인 거리 계산 함수\n",
    "# def haversine(lat1, lon1, lat2, lon2):\n",
    "#     R = 6371.0  # 지구 반지름 (킬로미터)\n",
    "#     lat1_rad = radians(lat1)\n",
    "#     lon1_rad = radians(lon1)\n",
    "#     lat2_rad = radians(lat2)\n",
    "#     lon2_rad = radians(lon2)\n",
    "    \n",
    "#     dlat = lat2_rad - lat1_rad\n",
    "#     dlon = lon2_rad - lon1_rad\n",
    "    \n",
    "#     a = sin(dlat / 2)**2 + cos(lat1_rad) * cos(lat2_rad) * sin(dlon / 2)**2\n",
    "#     c = 2 * atan2(sqrt(a), sqrt(1 - a))\n",
    "    \n",
    "#     distance = R * c\n",
    "#     return distance\n",
    "\n",
    "# data_fraud['distance_km'] = data_fraud.apply(lambda row: haversine(row['lat'], row['long'], row['merch_lat'], row['merch_long']), axis=1)\n",
    "\n",
    "# sns.distplot(data_fraud['distance_km'])\n",
    "\n",
    "# sns.distplot(data_fraud_real['distance_km'])\n",
    "\n",
    "# data_fraud.drop(columns='distance_km', axis=1, inplace=True)"
   ]
  },
  {
   "cell_type": "code",
   "execution_count": 29,
   "id": "f9b8d209",
   "metadata": {},
   "outputs": [],
   "source": [
    "# 시간 피처 만들기\n",
    "# hour피처에서 8시부터 새벽 시간대까지 사기거래가 몰려있다.\n",
    "data_fraud['month'] = data_fraud['trans_date_trans_time'].dt.month\n",
    "data_fraud['day'] = data_fraud['trans_date_trans_time'].dt.day\n",
    "data_fraud['hour'] = data_fraud['trans_date_trans_time'].dt.hour"
   ]
  },
  {
   "cell_type": "code",
   "execution_count": 30,
   "id": "341edacf",
   "metadata": {},
   "outputs": [
    {
     "name": "stderr",
     "output_type": "stream",
     "text": [
      "/opt/conda/lib/python3.9/site-packages/seaborn/distributions.py:2619: FutureWarning: `distplot` is a deprecated function and will be removed in a future version. Please adapt your code to use either `displot` (a figure-level function with similar flexibility) or `histplot` (an axes-level function for histograms).\n",
      "  warnings.warn(msg, FutureWarning)\n"
     ]
    },
    {
     "data": {
      "text/plain": [
       "<AxesSubplot:xlabel='trans_date_trans_time', ylabel='Density'>"
      ]
     },
     "execution_count": 30,
     "metadata": {},
     "output_type": "execute_result"
    },
    {
     "data": {
      "image/png": "[encoded data removed]",
      "text/plain": [
       "<Figure size 432x288 with 1 Axes>"
      ]
     },
     "metadata": {
      "needs_background": "light"
     },
     "output_type": "display_data"
    }
   ],
   "source": [
    "sns.distplot(data_fraud['trans_date_trans_time'].dt.hour)"
   ]
  },
  {
   "cell_type": "code",
   "execution_count": 31,
   "id": "e7efbc40",
   "metadata": {},
   "outputs": [
    {
     "name": "stderr",
     "output_type": "stream",
     "text": [
      "/opt/conda/lib/python3.9/site-packages/seaborn/distributions.py:2619: FutureWarning: `distplot` is a deprecated function and will be removed in a future version. Please adapt your code to use either `displot` (a figure-level function with similar flexibility) or `histplot` (an axes-level function for histograms).\n",
      "  warnings.warn(msg, FutureWarning)\n"
     ]
    },
    {
     "data": {
      "text/plain": [
       "<AxesSubplot:xlabel='trans_date_trans_time', ylabel='Density'>"
      ]
     },
     "execution_count": 31,
     "metadata": {},
     "output_type": "execute_result"
    },
    {
     "data": {
      "image/png": "[encoded data removed]",
      "text/plain": [
       "<Figure size 432x288 with 1 Axes>"
      ]
     },
     "metadata": {
      "needs_background": "light"
     },
     "output_type": "display_data"
    }
   ],
   "source": [
    "sns.distplot(data_fraud_real['trans_date_trans_time'].dt.hour)"
   ]
  },
  {
   "cell_type": "code",
   "execution_count": 32,
   "id": "21a44c1c",
   "metadata": {},
   "outputs": [
    {
     "name": "stderr",
     "output_type": "stream",
     "text": [
      "/opt/conda/lib/python3.9/site-packages/seaborn/distributions.py:2619: FutureWarning: `distplot` is a deprecated function and will be removed in a future version. Please adapt your code to use either `displot` (a figure-level function with similar flexibility) or `histplot` (an axes-level function for histograms).\n",
      "  warnings.warn(msg, FutureWarning)\n"
     ]
    },
    {
     "data": {
      "text/plain": [
       "<AxesSubplot:xlabel='trans_date_trans_time', ylabel='Density'>"
      ]
     },
     "execution_count": 32,
     "metadata": {},
     "output_type": "execute_result"
    },
    {
     "data": {
      "image/png": "[encoded data removed]",
      "text/plain": [
       "<Figure size 432x288 with 1 Axes>"
      ]
     },
     "metadata": {
      "needs_background": "light"
     },
     "output_type": "display_data"
    }
   ],
   "source": [
    "sns.distplot(data_fraud['trans_date_trans_time'].dt.month)"
   ]
  },
  {
   "cell_type": "code",
   "execution_count": 33,
   "id": "a44fce35",
   "metadata": {},
   "outputs": [
    {
     "name": "stderr",
     "output_type": "stream",
     "text": [
      "/opt/conda/lib/python3.9/site-packages/seaborn/distributions.py:2619: FutureWarning: `distplot` is a deprecated function and will be removed in a future version. Please adapt your code to use either `displot` (a figure-level function with similar flexibility) or `histplot` (an axes-level function for histograms).\n",
      "  warnings.warn(msg, FutureWarning)\n"
     ]
    },
    {
     "data": {
      "text/plain": [
       "<AxesSubplot:xlabel='trans_date_trans_time', ylabel='Density'>"
      ]
     },
     "execution_count": 33,
     "metadata": {},
     "output_type": "execute_result"
    },
    {
     "data": {
      "image/png": "[encoded data removed]",
      "text/plain": [
       "<Figure size 432x288 with 1 Axes>"
      ]
     },
     "metadata": {
      "needs_background": "light"
     },
     "output_type": "display_data"
    }
   ],
   "source": [
    "sns.distplot(data_fraud_real['trans_date_trans_time'].dt.month)"
   ]
  },
  {
   "cell_type": "code",
   "execution_count": 34,
   "id": "163e2a75",
   "metadata": {},
   "outputs": [
    {
     "name": "stderr",
     "output_type": "stream",
     "text": [
      "/opt/conda/lib/python3.9/site-packages/seaborn/distributions.py:2619: FutureWarning: `distplot` is a deprecated function and will be removed in a future version. Please adapt your code to use either `displot` (a figure-level function with similar flexibility) or `histplot` (an axes-level function for histograms).\n",
      "  warnings.warn(msg, FutureWarning)\n"
     ]
    },
    {
     "data": {
      "text/plain": [
       "<AxesSubplot:xlabel='trans_date_trans_time', ylabel='Density'>"
      ]
     },
     "execution_count": 34,
     "metadata": {},
     "output_type": "execute_result"
    },
    {
     "data": {
      "image/png": "[encoded data removed]",
      "text/plain": [
       "<Figure size 432x288 with 1 Axes>"
      ]
     },
     "metadata": {
      "needs_background": "light"
     },
     "output_type": "display_data"
    }
   ],
   "source": [
    "sns.distplot(data_fraud['trans_date_trans_time'].dt.day)"
   ]
  },
  {
   "cell_type": "code",
   "execution_count": 35,
   "id": "51fd0890",
   "metadata": {},
   "outputs": [
    {
     "name": "stderr",
     "output_type": "stream",
     "text": [
      "/opt/conda/lib/python3.9/site-packages/seaborn/distributions.py:2619: FutureWarning: `distplot` is a deprecated function and will be removed in a future version. Please adapt your code to use either `displot` (a figure-level function with similar flexibility) or `histplot` (an axes-level function for histograms).\n",
      "  warnings.warn(msg, FutureWarning)\n"
     ]
    },
    {
     "data": {
      "text/plain": [
       "<AxesSubplot:xlabel='trans_date_trans_time', ylabel='Density'>"
      ]
     },
     "execution_count": 35,
     "metadata": {},
     "output_type": "execute_result"
    },
    {
     "data": {
      "image/png": "[encoded data removed]",
      "text/plain": [
       "<Figure size 432x288 with 1 Axes>"
      ]
     },
     "metadata": {
      "needs_background": "light"
     },
     "output_type": "display_data"
    }
   ],
   "source": [
    "sns.distplot(data_fraud_real['trans_date_trans_time'].dt.day)"
   ]
  },
  {
   "cell_type": "code",
   "execution_count": 36,
   "id": "5feb254a",
   "metadata": {},
   "outputs": [
    {
     "name": "stderr",
     "output_type": "stream",
     "text": [
      "/opt/conda/lib/python3.9/site-packages/seaborn/distributions.py:2619: FutureWarning: `distplot` is a deprecated function and will be removed in a future version. Please adapt your code to use either `displot` (a figure-level function with similar flexibility) or `histplot` (an axes-level function for histograms).\n",
      "  warnings.warn(msg, FutureWarning)\n"
     ]
    },
    {
     "data": {
      "text/plain": [
       "<AxesSubplot:xlabel='trans_date_trans_time', ylabel='Density'>"
      ]
     },
     "execution_count": 36,
     "metadata": {},
     "output_type": "execute_result"
    },
    {
     "data": {
      "image/png": "[encoded data removed]",
      "text/plain": [
       "<Figure size 432x288 with 1 Axes>"
      ]
     },
     "metadata": {
      "needs_background": "light"
     },
     "output_type": "display_data"
    }
   ],
   "source": [
    "sns.distplot(data_fraud['trans_date_trans_time'].dt.weekday)"
   ]
  },
  {
   "cell_type": "code",
   "execution_count": 37,
   "id": "9534163f",
   "metadata": {},
   "outputs": [
    {
     "name": "stderr",
     "output_type": "stream",
     "text": [
      "/opt/conda/lib/python3.9/site-packages/seaborn/distributions.py:2619: FutureWarning: `distplot` is a deprecated function and will be removed in a future version. Please adapt your code to use either `displot` (a figure-level function with similar flexibility) or `histplot` (an axes-level function for histograms).\n",
      "  warnings.warn(msg, FutureWarning)\n"
     ]
    },
    {
     "data": {
      "text/plain": [
       "<AxesSubplot:xlabel='trans_date_trans_time', ylabel='Density'>"
      ]
     },
     "execution_count": 37,
     "metadata": {},
     "output_type": "execute_result"
    },
    {
     "data": {
      "image/png": "[encoded data removed]",
      "text/plain": [
       "<Figure size 432x288 with 1 Axes>"
      ]
     },
     "metadata": {
      "needs_background": "light"
     },
     "output_type": "display_data"
    }
   ],
   "source": [
    "sns.distplot(data_fraud_real['trans_date_trans_time'].dt.weekday)"
   ]
  },
  {
   "cell_type": "code",
   "execution_count": 38,
   "id": "a5348e44",
   "metadata": {},
   "outputs": [
    {
     "data": {
      "text/plain": [
       "array(['grocery_pos', 'grocery_net', 'misc_pos', 'gas_transport',\n",
       "       'misc_net', 'health_fitness', 'travel', 'personal_care',\n",
       "       'shopping_net', 'shopping_pos', 'home', 'entertainment',\n",
       "       'food_dining', 'kids_pets'], dtype=object)"
      ]
     },
     "execution_count": 38,
     "metadata": {},
     "output_type": "execute_result"
    }
   ],
   "source": [
    "data_fraud['category'].unique()"
   ]
  },
  {
   "cell_type": "code",
   "execution_count": 39,
   "id": "ff7d63cb",
   "metadata": {},
   "outputs": [
    {
     "data": {
      "text/plain": [
       "['entertainment',\n",
       " 'food_dining',\n",
       " 'gas_transport',\n",
       " 'grocery_net',\n",
       " 'grocery_pos',\n",
       " 'health_fitness',\n",
       " 'home',\n",
       " 'kids_pets',\n",
       " 'misc_net',\n",
       " 'misc_pos',\n",
       " 'personal_care',\n",
       " 'shopping_net',\n",
       " 'shopping_pos',\n",
       " 'travel']"
      ]
     },
     "execution_count": 39,
     "metadata": {},
     "output_type": "execute_result"
    }
   ],
   "source": [
    "sorted(data_fraud_real['category'].unique())"
   ]
  },
  {
   "cell_type": "code",
   "execution_count": 40,
   "id": "fd6cf0fd",
   "metadata": {},
   "outputs": [
    {
     "name": "stderr",
     "output_type": "stream",
     "text": [
      "/opt/conda/lib/python3.9/site-packages/seaborn/_decorators.py:36: FutureWarning: Pass the following variable as a keyword arg: x. From version 0.12, the only valid positional argument will be `data`, and passing other arguments without an explicit keyword will result in an error or misinterpretation.\n",
      "  warnings.warn(\n"
     ]
    },
    {
     "data": {
      "text/plain": [
       "(array([ 0,  1,  2,  3,  4,  5,  6,  7,  8,  9, 10, 11, 12, 13]),\n",
       " [Text(0, 0, 'entertainment'),\n",
       "  Text(1, 0, 'food_dining'),\n",
       "  Text(2, 0, 'gas_transport'),\n",
       "  Text(3, 0, 'grocery_net'),\n",
       "  Text(4, 0, 'grocery_pos'),\n",
       "  Text(5, 0, 'health_fitness'),\n",
       "  Text(6, 0, 'home'),\n",
       "  Text(7, 0, 'kids_pets'),\n",
       "  Text(8, 0, 'misc_net'),\n",
       "  Text(9, 0, 'misc_pos'),\n",
       "  Text(10, 0, 'personal_care'),\n",
       "  Text(11, 0, 'shopping_net'),\n",
       "  Text(12, 0, 'shopping_pos'),\n",
       "  Text(13, 0, 'travel')])"
      ]
     },
     "execution_count": 40,
     "metadata": {},
     "output_type": "execute_result"
    },
    {
     "data": {
      "image/png": "[encoded data removed]",
      "text/plain": [
       "<Figure size 432x288 with 1 Axes>"
      ]
     },
     "metadata": {
      "needs_background": "light"
     },
     "output_type": "display_data"
    }
   ],
   "source": [
    "sns.countplot(data_fraud['category'], order = sorted(data_fraud['category'].unique()))\n",
    "plt.xticks(rotation=90)"
   ]
  },
  {
   "cell_type": "code",
   "execution_count": 41,
   "id": "8dff707e",
   "metadata": {},
   "outputs": [
    {
     "name": "stderr",
     "output_type": "stream",
     "text": [
      "/opt/conda/lib/python3.9/site-packages/seaborn/_decorators.py:36: FutureWarning: Pass the following variable as a keyword arg: x. From version 0.12, the only valid positional argument will be `data`, and passing other arguments without an explicit keyword will result in an error or misinterpretation.\n",
      "  warnings.warn(\n"
     ]
    },
    {
     "data": {
      "text/plain": [
       "(array([ 0,  1,  2,  3,  4,  5,  6,  7,  8,  9, 10, 11, 12, 13]),\n",
       " [Text(0, 0, 'entertainment'),\n",
       "  Text(1, 0, 'food_dining'),\n",
       "  Text(2, 0, 'gas_transport'),\n",
       "  Text(3, 0, 'grocery_net'),\n",
       "  Text(4, 0, 'grocery_pos'),\n",
       "  Text(5, 0, 'health_fitness'),\n",
       "  Text(6, 0, 'home'),\n",
       "  Text(7, 0, 'kids_pets'),\n",
       "  Text(8, 0, 'misc_net'),\n",
       "  Text(9, 0, 'misc_pos'),\n",
       "  Text(10, 0, 'personal_care'),\n",
       "  Text(11, 0, 'shopping_net'),\n",
       "  Text(12, 0, 'shopping_pos'),\n",
       "  Text(13, 0, 'travel')])"
      ]
     },
     "execution_count": 41,
     "metadata": {},
     "output_type": "execute_result"
    },
    {
     "data": {
      "image/png": "[encoded data removed]",
      "text/plain": [
       "<Figure size 432x288 with 1 Axes>"
      ]
     },
     "metadata": {
      "needs_background": "light"
     },
     "output_type": "display_data"
    }
   ],
   "source": [
    "sns.countplot(data_fraud_real['category'], order = sorted(data_fraud['category'].unique()))\n",
    "plt.xticks(rotation=90)"
   ]
  },
  {
   "cell_type": "code",
   "execution_count": 42,
   "id": "a0aedfa0",
   "metadata": {},
   "outputs": [
    {
     "data": {
      "text/plain": [
       "grocery_net       0.009590\n",
       "health_fitness    0.037373\n",
       "entertainment     0.046272\n",
       "personal_care     0.047937\n",
       "home              0.048761\n",
       "kids_pets         0.049532\n",
       "food_dining       0.050578\n",
       "misc_pos          0.051620\n",
       "travel            0.055815\n",
       "gas_transport     0.064405\n",
       "shopping_pos      0.081355\n",
       "misc_net          0.127063\n",
       "grocery_pos       0.148400\n",
       "shopping_net      0.181298\n",
       "Name: category, dtype: float64"
      ]
     },
     "execution_count": 42,
     "metadata": {},
     "output_type": "execute_result"
    }
   ],
   "source": [
    "((data_fraud_real['category'].value_counts() / data_fraud['category'].value_counts()).sort_values()) * (1/0.03406969946986573)"
   ]
  },
  {
   "cell_type": "code",
   "execution_count": 43,
   "id": "83f94395",
   "metadata": {},
   "outputs": [
    {
     "data": {
      "text/plain": [
       "shopping_pos      48345\n",
       "gas_transport     46029\n",
       "home              43340\n",
       "grocery_pos       42722\n",
       "kids_pets         40295\n",
       "shopping_net      39179\n",
       "food_dining       35980\n",
       "personal_care     35513\n",
       "entertainment     33619\n",
       "misc_pos          32411\n",
       "health_fitness    31415\n",
       "misc_net          25179\n",
       "grocery_net       24486\n",
       "travel            12621\n",
       "Name: category, dtype: int64"
      ]
     },
     "execution_count": 43,
     "metadata": {},
     "output_type": "execute_result"
    }
   ],
   "source": [
    "data_fraud['category'].value_counts()"
   ]
  },
  {
   "cell_type": "code",
   "execution_count": 44,
   "id": "89b189f6",
   "metadata": {},
   "outputs": [],
   "source": [
    "# gender가 얼마나 유의한지 시각적으로 확인하긴 힘들어보임."
   ]
  },
  {
   "cell_type": "code",
   "execution_count": 45,
   "id": "d3cf0395",
   "metadata": {},
   "outputs": [
    {
     "name": "stderr",
     "output_type": "stream",
     "text": [
      "/opt/conda/lib/python3.9/site-packages/seaborn/_decorators.py:36: FutureWarning: Pass the following variable as a keyword arg: x. From version 0.12, the only valid positional argument will be `data`, and passing other arguments without an explicit keyword will result in an error or misinterpretation.\n",
      "  warnings.warn(\n"
     ]
    },
    {
     "data": {
      "text/plain": [
       "<AxesSubplot:xlabel='gender', ylabel='count'>"
      ]
     },
     "execution_count": 45,
     "metadata": {},
     "output_type": "execute_result"
    },
    {
     "data": {
      "image/png": "[encoded data removed]",
      "text/plain": [
       "<Figure size 432x288 with 1 Axes>"
      ]
     },
     "metadata": {
      "needs_background": "light"
     },
     "output_type": "display_data"
    }
   ],
   "source": [
    "sns.countplot(data_fraud['gender'])"
   ]
  },
  {
   "cell_type": "code",
   "execution_count": 46,
   "id": "030fbe05",
   "metadata": {},
   "outputs": [
    {
     "name": "stderr",
     "output_type": "stream",
     "text": [
      "/opt/conda/lib/python3.9/site-packages/seaborn/_decorators.py:36: FutureWarning: Pass the following variable as a keyword arg: x. From version 0.12, the only valid positional argument will be `data`, and passing other arguments without an explicit keyword will result in an error or misinterpretation.\n",
      "  warnings.warn(\n"
     ]
    },
    {
     "data": {
      "text/plain": [
       "<AxesSubplot:xlabel='gender', ylabel='count'>"
      ]
     },
     "execution_count": 46,
     "metadata": {},
     "output_type": "execute_result"
    },
    {
     "data": {
      "image/png": "[encoded data removed]",
      "text/plain": [
       "<Figure size 432x288 with 1 Axes>"
      ]
     },
     "metadata": {
      "needs_background": "light"
     },
     "output_type": "display_data"
    }
   ],
   "source": [
    "sns.countplot(data_fraud_real['gender'])"
   ]
  },
  {
   "cell_type": "code",
   "execution_count": 47,
   "id": "a219c5ce",
   "metadata": {},
   "outputs": [
    {
     "data": {
      "text/plain": [
       "693"
      ]
     },
     "execution_count": 47,
     "metadata": {},
     "output_type": "execute_result"
    }
   ],
   "source": [
    "data_fraud['merchant'].nunique()"
   ]
  },
  {
   "cell_type": "code",
   "execution_count": 48,
   "id": "8f2e2467",
   "metadata": {},
   "outputs": [
    {
     "data": {
      "text/plain": [
       "0                 fraud_Heller, Gutmann and Zieme\n",
       "1               fraud_Schultz, Simonis and Little\n",
       "2                               fraud_Kling-Grant\n",
       "3                           fraud_Deckow-O'Conner\n",
       "4                          fraud_Balistreri-Nader\n",
       "5                           fraud_Heidenreich PLC\n",
       "6                           fraud_Halvorson Group\n",
       "7     fraud_Christiansen, Goyette and Schamberger\n",
       "8                       fraud_Ledner-Pfannerstill\n",
       "9                             fraud_Stracke-Lemke\n",
       "10                           fraud_Huel-Langworth\n",
       "11            fraud_Eichmann, Bogan and Rodriguez\n",
       "12                 fraud_Huel, Hammes and Witting\n",
       "13                        fraud_Jaskolski-Dibbert\n",
       "14                             fraud_Cummings LLC\n",
       "15                                 fraud_Howe Ltd\n",
       "16                             fraud_Torp-Labadie\n",
       "17                          fraud_VonRueden Group\n",
       "18                          fraud_Brekke and Sons\n",
       "19                            fraud_Padberg-Welch\n",
       "20                     fraud_Rippin, Kub and Mann\n",
       "21              fraud_Herman, Treutel and Dickens\n",
       "22                             fraud_Hudson-Ratke\n",
       "23                         fraud_Pacocha-O'Reilly\n",
       "24                          fraud_Friesen-D'Amore\n",
       "25                  fraud_Reilly, Heaney and Cole\n",
       "26               fraud_Adams, Kovacek and Kuhlman\n",
       "27                            fraud_Cassin-Harvey\n",
       "28                               fraud_Funk Group\n",
       "29             fraud_Monahan, Bogisich and Ledner\n",
       "dtype: object"
      ]
     },
     "execution_count": 48,
     "metadata": {},
     "output_type": "execute_result"
    }
   ],
   "source": [
    "pd.Series(data_fraud['merchant'].unique()).head(30)"
   ]
  },
  {
   "cell_type": "code",
   "execution_count": 49,
   "id": "24c8c423",
   "metadata": {},
   "outputs": [
    {
     "data": {
      "text/plain": [
       "fraud_Jerde-Hermann                      226\n",
       "fraud_Reichert-Weissnat                  226\n",
       "fraud_Satterfield-Lowe                   227\n",
       "fraud_Douglas, DuBuque and McKenzie      228\n",
       "fraud_Little-Gleichner                   228\n",
       "fraud_Larson, Quitzon and Spencer        230\n",
       "fraud_Champlin, Rolfson and Connelly     234\n",
       "fraud_Ritchie, Bradtke and Stiedemann    234\n",
       "fraud_Hodkiewicz, Prohaska and Paucek    237\n",
       "fraud_Goyette-Herzog                     237\n",
       "fraud_Medhurst, Labadie and Gottlieb     240\n",
       "fraud_Eichmann, Hayes and Treutel        241\n",
       "fraud_Ebert-Daugherty                    242\n",
       "fraud_Tromp Group                        243\n",
       "fraud_Treutel-King                       243\n",
       "fraud_Schroeder, Wolff and Hermiston     243\n",
       "fraud_Romaguera and Sons                 244\n",
       "fraud_Ankunding-Carroll                  245\n",
       "fraud_Kris-Kertzmann                     245\n",
       "fraud_Kessler Inc                        247\n",
       "fraud_Leannon-Nikolaus                   248\n",
       "fraud_Kilback, Nitzsche and Leffler      248\n",
       "fraud_Bednar Inc                         248\n",
       "fraud_Ritchie, Oberbrunner and Cremin    251\n",
       "fraud_Kessler Group                      251\n",
       "fraud_Breitenberg LLC                    252\n",
       "fraud_Boyer-Haley                        253\n",
       "fraud_Lynch-Mohr                         253\n",
       "fraud_Hahn, Douglas and Schowalter       255\n",
       "fraud_Kunze, Larkin and Mayert           257\n",
       "Name: merchant, dtype: int64"
      ]
     },
     "execution_count": 49,
     "metadata": {},
     "output_type": "execute_result"
    }
   ],
   "source": [
    "data_fraud['merchant'].value_counts().sort_values().head(30)"
   ]
  },
  {
   "cell_type": "code",
   "execution_count": 50,
   "id": "29702bd2",
   "metadata": {},
   "outputs": [],
   "source": [
    "# merchant는 고윳값개수가 많은데 어떻게 묶을 지 모르겠다. 상점이나 판매자의 이름이 크게 의미가 있어보이지는 않음. 삭제\n",
    "data_fraud.drop(columns = 'merchant', axis=1, inplace=True)"
   ]
  },
  {
   "cell_type": "code",
   "execution_count": 51,
   "id": "2e488b95",
   "metadata": {},
   "outputs": [],
   "source": [
    "# 새로운 피처들이랑 중복되니 삭제\n",
    "data_fraud.drop(columns = 'trans_date_trans_time', axis=1, inplace=True)"
   ]
  },
  {
   "cell_type": "code",
   "execution_count": 52,
   "id": "41f5d606",
   "metadata": {},
   "outputs": [],
   "source": [
    "data_fraud['dob'] = data_fraud['dob'].dt.year"
   ]
  },
  {
   "cell_type": "code",
   "execution_count": 53,
   "id": "8d986a1a",
   "metadata": {},
   "outputs": [],
   "source": [
    "data_fraud_real = data_fraud_real = data_fraud[data_fraud['is_fraud'] == 1]"
   ]
  },
  {
   "cell_type": "code",
   "execution_count": 54,
   "id": "59f19af3",
   "metadata": {},
   "outputs": [
    {
     "name": "stderr",
     "output_type": "stream",
     "text": [
      "/opt/conda/lib/python3.9/site-packages/seaborn/_decorators.py:36: FutureWarning: Pass the following variable as a keyword arg: x. From version 0.12, the only valid positional argument will be `data`, and passing other arguments without an explicit keyword will result in an error or misinterpretation.\n",
      "  warnings.warn(\n"
     ]
    },
    {
     "data": {
      "text/plain": [
       "(array([ 0,  1,  2,  3,  4,  5,  6,  7,  8,  9, 10, 11, 12, 13, 14, 15, 16,\n",
       "        17, 18, 19, 20, 21, 22, 23, 24, 25, 26, 27, 28, 29, 30, 31, 32]),\n",
       " [Text(0, 0, '1970'),\n",
       "  Text(1, 0, '1971'),\n",
       "  Text(2, 0, '1972'),\n",
       "  Text(3, 0, '1973'),\n",
       "  Text(4, 0, '1974'),\n",
       "  Text(5, 0, '1975'),\n",
       "  Text(6, 0, '1976'),\n",
       "  Text(7, 0, '1977'),\n",
       "  Text(8, 0, '1978'),\n",
       "  Text(9, 0, '1979'),\n",
       "  Text(10, 0, '1980'),\n",
       "  Text(11, 0, '1981'),\n",
       "  Text(12, 0, '1982'),\n",
       "  Text(13, 0, '1983'),\n",
       "  Text(14, 0, '1984'),\n",
       "  Text(15, 0, '1985'),\n",
       "  Text(16, 0, '1986'),\n",
       "  Text(17, 0, '1987'),\n",
       "  Text(18, 0, '1988'),\n",
       "  Text(19, 0, '1989'),\n",
       "  Text(20, 0, '1990'),\n",
       "  Text(21, 0, '1991'),\n",
       "  Text(22, 0, '1992'),\n",
       "  Text(23, 0, '1993'),\n",
       "  Text(24, 0, '1994'),\n",
       "  Text(25, 0, '1995'),\n",
       "  Text(26, 0, '1996'),\n",
       "  Text(27, 0, '1997'),\n",
       "  Text(28, 0, '1998'),\n",
       "  Text(29, 0, '1999'),\n",
       "  Text(30, 0, '2000'),\n",
       "  Text(31, 0, '2003'),\n",
       "  Text(32, 0, '2004')])"
      ]
     },
     "execution_count": 54,
     "metadata": {},
     "output_type": "execute_result"
    },
    {
     "data": {
      "image/png": "[encoded data removed]",
      "text/plain": [
       "<Figure size 432x288 with 1 Axes>"
      ]
     },
     "metadata": {
      "needs_background": "light"
     },
     "output_type": "display_data"
    }
   ],
   "source": [
    "sns.countplot(data_fraud_real['dob'], order = sorted(data_fraud_real['dob'].unique()))\n",
    "plt.xticks(rotation=90)"
   ]
  },
  {
   "cell_type": "code",
   "execution_count": 55,
   "id": "a91b78f1",
   "metadata": {},
   "outputs": [
    {
     "name": "stderr",
     "output_type": "stream",
     "text": [
      "/opt/conda/lib/python3.9/site-packages/seaborn/_decorators.py:36: FutureWarning: Pass the following variable as a keyword arg: x. From version 0.12, the only valid positional argument will be `data`, and passing other arguments without an explicit keyword will result in an error or misinterpretation.\n",
      "  warnings.warn(\n"
     ]
    },
    {
     "data": {
      "text/plain": [
       "(array([ 0,  1,  2,  3,  4,  5,  6,  7,  8,  9, 10, 11, 12, 13, 14, 15, 16,\n",
       "        17, 18, 19, 20, 21, 22, 23, 24, 25, 26, 27, 28, 29, 30, 31, 32]),\n",
       " [Text(0, 0, '1970'),\n",
       "  Text(1, 0, '1971'),\n",
       "  Text(2, 0, '1972'),\n",
       "  Text(3, 0, '1973'),\n",
       "  Text(4, 0, '1974'),\n",
       "  Text(5, 0, '1975'),\n",
       "  Text(6, 0, '1976'),\n",
       "  Text(7, 0, '1977'),\n",
       "  Text(8, 0, '1978'),\n",
       "  Text(9, 0, '1979'),\n",
       "  Text(10, 0, '1980'),\n",
       "  Text(11, 0, '1981'),\n",
       "  Text(12, 0, '1982'),\n",
       "  Text(13, 0, '1983'),\n",
       "  Text(14, 0, '1984'),\n",
       "  Text(15, 0, '1985'),\n",
       "  Text(16, 0, '1986'),\n",
       "  Text(17, 0, '1987'),\n",
       "  Text(18, 0, '1988'),\n",
       "  Text(19, 0, '1989'),\n",
       "  Text(20, 0, '1990'),\n",
       "  Text(21, 0, '1991'),\n",
       "  Text(22, 0, '1992'),\n",
       "  Text(23, 0, '1993'),\n",
       "  Text(24, 0, '1994'),\n",
       "  Text(25, 0, '1995'),\n",
       "  Text(26, 0, '1996'),\n",
       "  Text(27, 0, '1997'),\n",
       "  Text(28, 0, '1998'),\n",
       "  Text(29, 0, '1999'),\n",
       "  Text(30, 0, '2000'),\n",
       "  Text(31, 0, '2003'),\n",
       "  Text(32, 0, '2004')])"
      ]
     },
     "execution_count": 55,
     "metadata": {},
     "output_type": "execute_result"
    },
    {
     "data": {
      "image/png": "[encoded data removed]",
      "text/plain": [
       "<Figure size 432x288 with 1 Axes>"
      ]
     },
     "metadata": {
      "needs_background": "light"
     },
     "output_type": "display_data"
    }
   ],
   "source": [
    "sns.countplot(data_fraud['dob'], order = sorted(data_fraud_real['dob'].unique()))\n",
    "plt.xticks(rotation=90)"
   ]
  },
  {
   "cell_type": "code",
   "execution_count": null,
   "id": "a5434c48",
   "metadata": {},
   "outputs": [],
   "source": []
  },
  {
   "cell_type": "code",
   "execution_count": 56,
   "id": "f8138dde",
   "metadata": {},
   "outputs": [],
   "source": [
    "correlation_matrix = data_fraud.corr()"
   ]
  },
  {
   "cell_type": "code",
   "execution_count": 57,
   "id": "7c850642",
   "metadata": {},
   "outputs": [
    {
     "data": {
      "image/png": "[encoded data removed]",
      "text/plain": [
       "<Figure size 720x576 with 2 Axes>"
      ]
     },
     "metadata": {
      "needs_background": "light"
     },
     "output_type": "display_data"
    }
   ],
   "source": [
    "# 상관관계 시각화\n",
    "plt.figure(figsize=(10, 8))\n",
    "sns.heatmap(correlation_matrix, annot=True, cmap='coolwarm', vmin=-1, vmax=1, linewidths=0.5)\n",
    "plt.title('Correlation Matrix of Card Transaction Data')\n",
    "plt.show()"
   ]
  },
  {
   "cell_type": "code",
   "execution_count": 58,
   "id": "dc195f0c",
   "metadata": {},
   "outputs": [],
   "source": [
    "data_fraud['adult'] = data_fraud['adult'].astype('str')\n",
    "data_fraud['month'] = data_fraud['month'].astype('str')\n",
    "data_fraud['day'] = data_fraud['day'].astype('str')\n",
    "data_fraud['hour'] = data_fraud['hour'].astype('str')"
   ]
  },
  {
   "cell_type": "code",
   "execution_count": 59,
   "id": "afa30b6a",
   "metadata": {},
   "outputs": [
    {
     "name": "stdout",
     "output_type": "stream",
     "text": [
      "<class 'pandas.core.frame.DataFrame'>\n",
      "RangeIndex: 491134 entries, 0 to 491133\n",
      "Data columns (total 16 columns):\n",
      " #   Column      Non-Null Count   Dtype  \n",
      "---  ------      --------------   -----  \n",
      " 0   category    491134 non-null  object \n",
      " 1   amt         491134 non-null  float64\n",
      " 2   gender      491134 non-null  object \n",
      " 3   zip         491134 non-null  object \n",
      " 4   lat         491134 non-null  float64\n",
      " 5   long        491134 non-null  float64\n",
      " 6   city_pop    491134 non-null  int64  \n",
      " 7   job         491134 non-null  object \n",
      " 8   dob         491134 non-null  int64  \n",
      " 9   merch_lat   491134 non-null  float64\n",
      " 10  merch_long  491134 non-null  float64\n",
      " 11  is_fraud    491134 non-null  int64  \n",
      " 12  adult       491134 non-null  object \n",
      " 13  month       491134 non-null  object \n",
      " 14  day         491134 non-null  object \n",
      " 15  hour        491134 non-null  object \n",
      "dtypes: float64(5), int64(3), object(8)\n",
      "memory usage: 60.0+ MB\n"
     ]
    }
   ],
   "source": [
    "data_fraud.info()"
   ]
  },
  {
   "cell_type": "code",
   "execution_count": 60,
   "id": "44c1d8f4",
   "metadata": {},
   "outputs": [
    {
     "data": {
      "text/plain": [
       "0           grocery_pos\n",
       "1           grocery_pos\n",
       "2           grocery_net\n",
       "3           grocery_pos\n",
       "4              misc_pos\n",
       "              ...      \n",
       "491129             home\n",
       "491130     shopping_pos\n",
       "491131        kids_pets\n",
       "491132        kids_pets\n",
       "491133    entertainment\n",
       "Name: category, Length: 491134, dtype: object"
      ]
     },
     "execution_count": 60,
     "metadata": {},
     "output_type": "execute_result"
    }
   ],
   "source": [
    "data_fraud['category']"
   ]
  },
  {
   "cell_type": "code",
   "execution_count": 61,
   "id": "eac26bf9",
   "metadata": {},
   "outputs": [],
   "source": [
    "data_fraud['amt_1500_under'] = data_fraud['amt'].apply(lambda x: 1 if x < 1500 else 0)"
   ]
  },
  {
   "cell_type": "code",
   "execution_count": 62,
   "id": "3df53baa",
   "metadata": {},
   "outputs": [
    {
     "data": {
      "text/plain": [
       "124"
      ]
     },
     "execution_count": 62,
     "metadata": {},
     "output_type": "execute_result"
    }
   ],
   "source": [
    "data_fraud.zip.nunique()"
   ]
  },
  {
   "cell_type": "code",
   "execution_count": 63,
   "id": "f0f09638",
   "metadata": {},
   "outputs": [],
   "source": [
    "data_fraud['amt_1500_under'].value_counts()\n",
    "data_fraud.drop(columns='amt_1500_under', axis=1 , inplace=True)"
   ]
  },
  {
   "cell_type": "code",
   "execution_count": 64,
   "id": "5f9f772d",
   "metadata": {},
   "outputs": [
    {
     "data": {
      "text/plain": [
       "Environmental consultant                             29\n",
       "Surveyor, land/geomatics                             28\n",
       "Comptroller                                          26\n",
       "Immunologist                                         25\n",
       "Historic buildings inspector/conservation officer    24\n",
       "Paramedic                                            21\n",
       "Exhibition designer                                  20\n",
       "Film/video editor                                    19\n",
       "Television production assistant                      19\n",
       "Chief Executive Officer                              19\n",
       "Energy manager                                       18\n",
       "Musician                                             18\n",
       "Materials engineer                                   17\n",
       "Research scientist (physical sciences)               16\n",
       "Engineer, electronics                                16\n",
       "Futures trader                                       16\n",
       "Engineer, control and instrumentation                16\n",
       "Secondary school teacher                             16\n",
       "Development worker, international aid                16\n",
       "Hospital doctor                                      16\n",
       "Social researcher                                    15\n",
       "Insurance broker                                     15\n",
       "Claims inspector/assessor                            15\n",
       "Clothing/textile technologist                        15\n",
       "Race relations officer                               15\n",
       "Lecturer, further education                          15\n",
       "Pensions consultant                                  15\n",
       "Sub                                                  15\n",
       "Counsellor                                           14\n",
       "Camera operator                                      14\n",
       "Name: job, dtype: int64"
      ]
     },
     "execution_count": 64,
     "metadata": {},
     "output_type": "execute_result"
    }
   ],
   "source": [
    "data_fraud_real.job.value_counts().head(30)"
   ]
  },
  {
   "cell_type": "code",
   "execution_count": 65,
   "id": "4302a743",
   "metadata": {},
   "outputs": [
    {
     "name": "stderr",
     "output_type": "stream",
     "text": [
      "/opt/conda/lib/python3.9/site-packages/seaborn/_decorators.py:36: FutureWarning: Pass the following variable as a keyword arg: x. From version 0.12, the only valid positional argument will be `data`, and passing other arguments without an explicit keyword will result in an error or misinterpretation.\n",
      "  warnings.warn(\n"
     ]
    },
    {
     "data": {
      "text/plain": [
       "<AxesSubplot:xlabel='hour', ylabel='count'>"
      ]
     },
     "execution_count": 65,
     "metadata": {},
     "output_type": "execute_result"
    },
    {
     "data": {
      "image/png": "[encoded data removed]",
      "text/plain": [
       "<Figure size 432x288 with 1 Axes>"
      ]
     },
     "metadata": {
      "needs_background": "light"
     },
     "output_type": "display_data"
    }
   ],
   "source": [
    "sns.countplot(data_fraud_real.hour)"
   ]
  },
  {
   "cell_type": "code",
   "execution_count": 66,
   "id": "23088ca9",
   "metadata": {},
   "outputs": [],
   "source": [
    "data_fraud['hour'] = data_fraud['hour'].apply(lambda x: '22-23' if x in ['22','23'] else '0-3' if x in ['0','1','2','3']else '4-21')"
   ]
  },
  {
   "cell_type": "code",
   "execution_count": 67,
   "id": "e5e3a327",
   "metadata": {},
   "outputs": [],
   "source": [
    "data_fraud_real = data_fraud_real = data_fraud[data_fraud['is_fraud'] == 1]"
   ]
  },
  {
   "cell_type": "code",
   "execution_count": 68,
   "id": "7a7af830",
   "metadata": {},
   "outputs": [
    {
     "data": {
      "text/html": [
       "<div>\n",
       "<style scoped>\n",
       "    .dataframe tbody tr th:only-of-type {\n",
       "        vertical-align: middle;\n",
       "    }\n",
       "\n",
       "    .dataframe tbody tr th {\n",
       "        vertical-align: top;\n",
       "    }\n",
       "\n",
       "    .dataframe thead th {\n",
       "        text-align: right;\n",
       "    }\n",
       "</style>\n",
       "<table border=\"1\" class=\"dataframe\">\n",
       "  <thead>\n",
       "    <tr style=\"text-align: right;\">\n",
       "      <th></th>\n",
       "      <th>category</th>\n",
       "      <th>amt</th>\n",
       "      <th>gender</th>\n",
       "      <th>zip</th>\n",
       "      <th>lat</th>\n",
       "      <th>long</th>\n",
       "      <th>city_pop</th>\n",
       "      <th>job</th>\n",
       "      <th>dob</th>\n",
       "      <th>merch_lat</th>\n",
       "      <th>merch_long</th>\n",
       "      <th>is_fraud</th>\n",
       "      <th>adult</th>\n",
       "      <th>month</th>\n",
       "      <th>day</th>\n",
       "      <th>hour</th>\n",
       "    </tr>\n",
       "  </thead>\n",
       "  <tbody>\n",
       "    <tr>\n",
       "      <th>0</th>\n",
       "      <td>grocery_pos</td>\n",
       "      <td>107.23</td>\n",
       "      <td>F</td>\n",
       "      <td>99160</td>\n",
       "      <td>48.8878</td>\n",
       "      <td>-118.2105</td>\n",
       "      <td>149</td>\n",
       "      <td>Special educational needs teacher</td>\n",
       "      <td>1978</td>\n",
       "      <td>49.159047</td>\n",
       "      <td>-118.186462</td>\n",
       "      <td>0</td>\n",
       "      <td>1</td>\n",
       "      <td>1</td>\n",
       "      <td>1</td>\n",
       "      <td>0-3</td>\n",
       "    </tr>\n",
       "    <tr>\n",
       "      <th>1</th>\n",
       "      <td>grocery_pos</td>\n",
       "      <td>44.71</td>\n",
       "      <td>M</td>\n",
       "      <td>7208</td>\n",
       "      <td>40.6747</td>\n",
       "      <td>-74.2239</td>\n",
       "      <td>124967</td>\n",
       "      <td>Operational researcher</td>\n",
       "      <td>1980</td>\n",
       "      <td>40.079588</td>\n",
       "      <td>-74.848087</td>\n",
       "      <td>0</td>\n",
       "      <td>1</td>\n",
       "      <td>1</td>\n",
       "      <td>1</td>\n",
       "      <td>0-3</td>\n",
       "    </tr>\n",
       "    <tr>\n",
       "      <th>2</th>\n",
       "      <td>grocery_net</td>\n",
       "      <td>46.28</td>\n",
       "      <td>F</td>\n",
       "      <td>7060</td>\n",
       "      <td>40.6152</td>\n",
       "      <td>-74.4150</td>\n",
       "      <td>71485</td>\n",
       "      <td>Leisure centre manager</td>\n",
       "      <td>1974</td>\n",
       "      <td>40.021888</td>\n",
       "      <td>-74.228188</td>\n",
       "      <td>0</td>\n",
       "      <td>1</td>\n",
       "      <td>1</td>\n",
       "      <td>1</td>\n",
       "      <td>0-3</td>\n",
       "    </tr>\n",
       "    <tr>\n",
       "      <th>3</th>\n",
       "      <td>grocery_pos</td>\n",
       "      <td>64.09</td>\n",
       "      <td>M</td>\n",
       "      <td>48174</td>\n",
       "      <td>42.2203</td>\n",
       "      <td>-83.3583</td>\n",
       "      <td>31515</td>\n",
       "      <td>Police officer</td>\n",
       "      <td>1971</td>\n",
       "      <td>42.360426</td>\n",
       "      <td>-83.552316</td>\n",
       "      <td>0</td>\n",
       "      <td>1</td>\n",
       "      <td>1</td>\n",
       "      <td>1</td>\n",
       "      <td>0-3</td>\n",
       "    </tr>\n",
       "    <tr>\n",
       "      <th>4</th>\n",
       "      <td>misc_pos</td>\n",
       "      <td>25.58</td>\n",
       "      <td>F</td>\n",
       "      <td>70808</td>\n",
       "      <td>30.4066</td>\n",
       "      <td>-91.1468</td>\n",
       "      <td>378909</td>\n",
       "      <td>Designer, furniture</td>\n",
       "      <td>1977</td>\n",
       "      <td>29.737426</td>\n",
       "      <td>-90.853194</td>\n",
       "      <td>0</td>\n",
       "      <td>1</td>\n",
       "      <td>1</td>\n",
       "      <td>1</td>\n",
       "      <td>0-3</td>\n",
       "    </tr>\n",
       "    <tr>\n",
       "      <th>...</th>\n",
       "      <td>...</td>\n",
       "      <td>...</td>\n",
       "      <td>...</td>\n",
       "      <td>...</td>\n",
       "      <td>...</td>\n",
       "      <td>...</td>\n",
       "      <td>...</td>\n",
       "      <td>...</td>\n",
       "      <td>...</td>\n",
       "      <td>...</td>\n",
       "      <td>...</td>\n",
       "      <td>...</td>\n",
       "      <td>...</td>\n",
       "      <td>...</td>\n",
       "      <td>...</td>\n",
       "      <td>...</td>\n",
       "    </tr>\n",
       "    <tr>\n",
       "      <th>491129</th>\n",
       "      <td>home</td>\n",
       "      <td>134.26</td>\n",
       "      <td>F</td>\n",
       "      <td>28405</td>\n",
       "      <td>34.2651</td>\n",
       "      <td>-77.8670</td>\n",
       "      <td>186140</td>\n",
       "      <td>English as a second language teacher</td>\n",
       "      <td>1983</td>\n",
       "      <td>34.853497</td>\n",
       "      <td>-78.664158</td>\n",
       "      <td>0</td>\n",
       "      <td>1</td>\n",
       "      <td>12</td>\n",
       "      <td>31</td>\n",
       "      <td>22-23</td>\n",
       "    </tr>\n",
       "    <tr>\n",
       "      <th>491130</th>\n",
       "      <td>shopping_pos</td>\n",
       "      <td>25.49</td>\n",
       "      <td>F</td>\n",
       "      <td>29819</td>\n",
       "      <td>34.0326</td>\n",
       "      <td>-82.2027</td>\n",
       "      <td>1523</td>\n",
       "      <td>Research scientist (physical sciences)</td>\n",
       "      <td>1984</td>\n",
       "      <td>35.008839</td>\n",
       "      <td>-81.475156</td>\n",
       "      <td>0</td>\n",
       "      <td>1</td>\n",
       "      <td>12</td>\n",
       "      <td>31</td>\n",
       "      <td>22-23</td>\n",
       "    </tr>\n",
       "    <tr>\n",
       "      <th>491131</th>\n",
       "      <td>kids_pets</td>\n",
       "      <td>111.84</td>\n",
       "      <td>M</td>\n",
       "      <td>77566</td>\n",
       "      <td>29.0393</td>\n",
       "      <td>-95.4401</td>\n",
       "      <td>28739</td>\n",
       "      <td>Futures trader</td>\n",
       "      <td>1999</td>\n",
       "      <td>29.661049</td>\n",
       "      <td>-96.186633</td>\n",
       "      <td>0</td>\n",
       "      <td>1</td>\n",
       "      <td>12</td>\n",
       "      <td>31</td>\n",
       "      <td>22-23</td>\n",
       "    </tr>\n",
       "    <tr>\n",
       "      <th>491132</th>\n",
       "      <td>kids_pets</td>\n",
       "      <td>86.88</td>\n",
       "      <td>F</td>\n",
       "      <td>99323</td>\n",
       "      <td>46.1966</td>\n",
       "      <td>-118.9017</td>\n",
       "      <td>3684</td>\n",
       "      <td>Musician</td>\n",
       "      <td>1981</td>\n",
       "      <td>46.658340</td>\n",
       "      <td>-119.715054</td>\n",
       "      <td>0</td>\n",
       "      <td>1</td>\n",
       "      <td>12</td>\n",
       "      <td>31</td>\n",
       "      <td>22-23</td>\n",
       "    </tr>\n",
       "    <tr>\n",
       "      <th>491133</th>\n",
       "      <td>entertainment</td>\n",
       "      <td>38.13</td>\n",
       "      <td>M</td>\n",
       "      <td>73034</td>\n",
       "      <td>35.6665</td>\n",
       "      <td>-97.4798</td>\n",
       "      <td>116001</td>\n",
       "      <td>Media buyer</td>\n",
       "      <td>1993</td>\n",
       "      <td>36.210097</td>\n",
       "      <td>-97.036372</td>\n",
       "      <td>0</td>\n",
       "      <td>1</td>\n",
       "      <td>12</td>\n",
       "      <td>31</td>\n",
       "      <td>22-23</td>\n",
       "    </tr>\n",
       "  </tbody>\n",
       "</table>\n",
       "<p>462743 rows × 16 columns</p>\n",
       "</div>"
      ],
      "text/plain": [
       "             category     amt gender    zip      lat      long  city_pop  \\\n",
       "0         grocery_pos  107.23      F  99160  48.8878 -118.2105       149   \n",
       "1         grocery_pos   44.71      M   7208  40.6747  -74.2239    124967   \n",
       "2         grocery_net   46.28      F   7060  40.6152  -74.4150     71485   \n",
       "3         grocery_pos   64.09      M  48174  42.2203  -83.3583     31515   \n",
       "4            misc_pos   25.58      F  70808  30.4066  -91.1468    378909   \n",
       "...               ...     ...    ...    ...      ...       ...       ...   \n",
       "491129           home  134.26      F  28405  34.2651  -77.8670    186140   \n",
       "491130   shopping_pos   25.49      F  29819  34.0326  -82.2027      1523   \n",
       "491131      kids_pets  111.84      M  77566  29.0393  -95.4401     28739   \n",
       "491132      kids_pets   86.88      F  99323  46.1966 -118.9017      3684   \n",
       "491133  entertainment   38.13      M  73034  35.6665  -97.4798    116001   \n",
       "\n",
       "                                           job   dob  merch_lat  merch_long  \\\n",
       "0            Special educational needs teacher  1978  49.159047 -118.186462   \n",
       "1                       Operational researcher  1980  40.079588  -74.848087   \n",
       "2                       Leisure centre manager  1974  40.021888  -74.228188   \n",
       "3                               Police officer  1971  42.360426  -83.552316   \n",
       "4                          Designer, furniture  1977  29.737426  -90.853194   \n",
       "...                                        ...   ...        ...         ...   \n",
       "491129    English as a second language teacher  1983  34.853497  -78.664158   \n",
       "491130  Research scientist (physical sciences)  1984  35.008839  -81.475156   \n",
       "491131                          Futures trader  1999  29.661049  -96.186633   \n",
       "491132                                Musician  1981  46.658340 -119.715054   \n",
       "491133                             Media buyer  1993  36.210097  -97.036372   \n",
       "\n",
       "        is_fraud adult month day   hour  \n",
       "0              0     1     1   1    0-3  \n",
       "1              0     1     1   1    0-3  \n",
       "2              0     1     1   1    0-3  \n",
       "3              0     1     1   1    0-3  \n",
       "4              0     1     1   1    0-3  \n",
       "...          ...   ...   ...  ..    ...  \n",
       "491129         0     1    12  31  22-23  \n",
       "491130         0     1    12  31  22-23  \n",
       "491131         0     1    12  31  22-23  \n",
       "491132         0     1    12  31  22-23  \n",
       "491133         0     1    12  31  22-23  \n",
       "\n",
       "[462743 rows x 16 columns]"
      ]
     },
     "execution_count": 68,
     "metadata": {},
     "output_type": "execute_result"
    }
   ],
   "source": [
    "data_fraud[data_fraud['amt'] < 200]"
   ]
  },
  {
   "cell_type": "code",
   "execution_count": 69,
   "id": "434cc13f",
   "metadata": {},
   "outputs": [
    {
     "data": {
      "text/html": [
       "<div>\n",
       "<style scoped>\n",
       "    .dataframe tbody tr th:only-of-type {\n",
       "        vertical-align: middle;\n",
       "    }\n",
       "\n",
       "    .dataframe tbody tr th {\n",
       "        vertical-align: top;\n",
       "    }\n",
       "\n",
       "    .dataframe thead th {\n",
       "        text-align: right;\n",
       "    }\n",
       "</style>\n",
       "<table border=\"1\" class=\"dataframe\">\n",
       "  <thead>\n",
       "    <tr style=\"text-align: right;\">\n",
       "      <th></th>\n",
       "      <th>category</th>\n",
       "      <th>amt</th>\n",
       "      <th>gender</th>\n",
       "      <th>zip</th>\n",
       "      <th>lat</th>\n",
       "      <th>long</th>\n",
       "      <th>city_pop</th>\n",
       "      <th>job</th>\n",
       "      <th>dob</th>\n",
       "      <th>merch_lat</th>\n",
       "      <th>merch_long</th>\n",
       "      <th>is_fraud</th>\n",
       "      <th>adult</th>\n",
       "      <th>month</th>\n",
       "      <th>day</th>\n",
       "      <th>hour</th>\n",
       "    </tr>\n",
       "  </thead>\n",
       "  <tbody>\n",
       "    <tr>\n",
       "      <th>0</th>\n",
       "      <td>grocery_pos</td>\n",
       "      <td>107.23</td>\n",
       "      <td>F</td>\n",
       "      <td>99160</td>\n",
       "      <td>48.8878</td>\n",
       "      <td>-118.2105</td>\n",
       "      <td>149</td>\n",
       "      <td>Special educational needs teacher</td>\n",
       "      <td>1978</td>\n",
       "      <td>49.159047</td>\n",
       "      <td>-118.186462</td>\n",
       "      <td>0</td>\n",
       "      <td>1</td>\n",
       "      <td>1</td>\n",
       "      <td>1</td>\n",
       "      <td>0-3</td>\n",
       "    </tr>\n",
       "    <tr>\n",
       "      <th>1</th>\n",
       "      <td>grocery_pos</td>\n",
       "      <td>44.71</td>\n",
       "      <td>M</td>\n",
       "      <td>7208</td>\n",
       "      <td>40.6747</td>\n",
       "      <td>-74.2239</td>\n",
       "      <td>124967</td>\n",
       "      <td>Operational researcher</td>\n",
       "      <td>1980</td>\n",
       "      <td>40.079588</td>\n",
       "      <td>-74.848087</td>\n",
       "      <td>0</td>\n",
       "      <td>1</td>\n",
       "      <td>1</td>\n",
       "      <td>1</td>\n",
       "      <td>0-3</td>\n",
       "    </tr>\n",
       "    <tr>\n",
       "      <th>2</th>\n",
       "      <td>grocery_net</td>\n",
       "      <td>46.28</td>\n",
       "      <td>F</td>\n",
       "      <td>7060</td>\n",
       "      <td>40.6152</td>\n",
       "      <td>-74.4150</td>\n",
       "      <td>71485</td>\n",
       "      <td>Leisure centre manager</td>\n",
       "      <td>1974</td>\n",
       "      <td>40.021888</td>\n",
       "      <td>-74.228188</td>\n",
       "      <td>0</td>\n",
       "      <td>1</td>\n",
       "      <td>1</td>\n",
       "      <td>1</td>\n",
       "      <td>0-3</td>\n",
       "    </tr>\n",
       "    <tr>\n",
       "      <th>3</th>\n",
       "      <td>grocery_pos</td>\n",
       "      <td>64.09</td>\n",
       "      <td>M</td>\n",
       "      <td>48174</td>\n",
       "      <td>42.2203</td>\n",
       "      <td>-83.3583</td>\n",
       "      <td>31515</td>\n",
       "      <td>Police officer</td>\n",
       "      <td>1971</td>\n",
       "      <td>42.360426</td>\n",
       "      <td>-83.552316</td>\n",
       "      <td>0</td>\n",
       "      <td>1</td>\n",
       "      <td>1</td>\n",
       "      <td>1</td>\n",
       "      <td>0-3</td>\n",
       "    </tr>\n",
       "    <tr>\n",
       "      <th>4</th>\n",
       "      <td>misc_pos</td>\n",
       "      <td>25.58</td>\n",
       "      <td>F</td>\n",
       "      <td>70808</td>\n",
       "      <td>30.4066</td>\n",
       "      <td>-91.1468</td>\n",
       "      <td>378909</td>\n",
       "      <td>Designer, furniture</td>\n",
       "      <td>1977</td>\n",
       "      <td>29.737426</td>\n",
       "      <td>-90.853194</td>\n",
       "      <td>0</td>\n",
       "      <td>1</td>\n",
       "      <td>1</td>\n",
       "      <td>1</td>\n",
       "      <td>0-3</td>\n",
       "    </tr>\n",
       "    <tr>\n",
       "      <th>...</th>\n",
       "      <td>...</td>\n",
       "      <td>...</td>\n",
       "      <td>...</td>\n",
       "      <td>...</td>\n",
       "      <td>...</td>\n",
       "      <td>...</td>\n",
       "      <td>...</td>\n",
       "      <td>...</td>\n",
       "      <td>...</td>\n",
       "      <td>...</td>\n",
       "      <td>...</td>\n",
       "      <td>...</td>\n",
       "      <td>...</td>\n",
       "      <td>...</td>\n",
       "      <td>...</td>\n",
       "      <td>...</td>\n",
       "    </tr>\n",
       "    <tr>\n",
       "      <th>491129</th>\n",
       "      <td>home</td>\n",
       "      <td>134.26</td>\n",
       "      <td>F</td>\n",
       "      <td>28405</td>\n",
       "      <td>34.2651</td>\n",
       "      <td>-77.8670</td>\n",
       "      <td>186140</td>\n",
       "      <td>English as a second language teacher</td>\n",
       "      <td>1983</td>\n",
       "      <td>34.853497</td>\n",
       "      <td>-78.664158</td>\n",
       "      <td>0</td>\n",
       "      <td>1</td>\n",
       "      <td>12</td>\n",
       "      <td>31</td>\n",
       "      <td>22-23</td>\n",
       "    </tr>\n",
       "    <tr>\n",
       "      <th>491130</th>\n",
       "      <td>shopping_pos</td>\n",
       "      <td>25.49</td>\n",
       "      <td>F</td>\n",
       "      <td>29819</td>\n",
       "      <td>34.0326</td>\n",
       "      <td>-82.2027</td>\n",
       "      <td>1523</td>\n",
       "      <td>Research scientist (physical sciences)</td>\n",
       "      <td>1984</td>\n",
       "      <td>35.008839</td>\n",
       "      <td>-81.475156</td>\n",
       "      <td>0</td>\n",
       "      <td>1</td>\n",
       "      <td>12</td>\n",
       "      <td>31</td>\n",
       "      <td>22-23</td>\n",
       "    </tr>\n",
       "    <tr>\n",
       "      <th>491131</th>\n",
       "      <td>kids_pets</td>\n",
       "      <td>111.84</td>\n",
       "      <td>M</td>\n",
       "      <td>77566</td>\n",
       "      <td>29.0393</td>\n",
       "      <td>-95.4401</td>\n",
       "      <td>28739</td>\n",
       "      <td>Futures trader</td>\n",
       "      <td>1999</td>\n",
       "      <td>29.661049</td>\n",
       "      <td>-96.186633</td>\n",
       "      <td>0</td>\n",
       "      <td>1</td>\n",
       "      <td>12</td>\n",
       "      <td>31</td>\n",
       "      <td>22-23</td>\n",
       "    </tr>\n",
       "    <tr>\n",
       "      <th>491132</th>\n",
       "      <td>kids_pets</td>\n",
       "      <td>86.88</td>\n",
       "      <td>F</td>\n",
       "      <td>99323</td>\n",
       "      <td>46.1966</td>\n",
       "      <td>-118.9017</td>\n",
       "      <td>3684</td>\n",
       "      <td>Musician</td>\n",
       "      <td>1981</td>\n",
       "      <td>46.658340</td>\n",
       "      <td>-119.715054</td>\n",
       "      <td>0</td>\n",
       "      <td>1</td>\n",
       "      <td>12</td>\n",
       "      <td>31</td>\n",
       "      <td>22-23</td>\n",
       "    </tr>\n",
       "    <tr>\n",
       "      <th>491133</th>\n",
       "      <td>entertainment</td>\n",
       "      <td>38.13</td>\n",
       "      <td>M</td>\n",
       "      <td>73034</td>\n",
       "      <td>35.6665</td>\n",
       "      <td>-97.4798</td>\n",
       "      <td>116001</td>\n",
       "      <td>Media buyer</td>\n",
       "      <td>1993</td>\n",
       "      <td>36.210097</td>\n",
       "      <td>-97.036372</td>\n",
       "      <td>0</td>\n",
       "      <td>1</td>\n",
       "      <td>12</td>\n",
       "      <td>31</td>\n",
       "      <td>22-23</td>\n",
       "    </tr>\n",
       "  </tbody>\n",
       "</table>\n",
       "<p>462743 rows × 16 columns</p>\n",
       "</div>"
      ],
      "text/plain": [
       "             category     amt gender    zip      lat      long  city_pop  \\\n",
       "0         grocery_pos  107.23      F  99160  48.8878 -118.2105       149   \n",
       "1         grocery_pos   44.71      M   7208  40.6747  -74.2239    124967   \n",
       "2         grocery_net   46.28      F   7060  40.6152  -74.4150     71485   \n",
       "3         grocery_pos   64.09      M  48174  42.2203  -83.3583     31515   \n",
       "4            misc_pos   25.58      F  70808  30.4066  -91.1468    378909   \n",
       "...               ...     ...    ...    ...      ...       ...       ...   \n",
       "491129           home  134.26      F  28405  34.2651  -77.8670    186140   \n",
       "491130   shopping_pos   25.49      F  29819  34.0326  -82.2027      1523   \n",
       "491131      kids_pets  111.84      M  77566  29.0393  -95.4401     28739   \n",
       "491132      kids_pets   86.88      F  99323  46.1966 -118.9017      3684   \n",
       "491133  entertainment   38.13      M  73034  35.6665  -97.4798    116001   \n",
       "\n",
       "                                           job   dob  merch_lat  merch_long  \\\n",
       "0            Special educational needs teacher  1978  49.159047 -118.186462   \n",
       "1                       Operational researcher  1980  40.079588  -74.848087   \n",
       "2                       Leisure centre manager  1974  40.021888  -74.228188   \n",
       "3                               Police officer  1971  42.360426  -83.552316   \n",
       "4                          Designer, furniture  1977  29.737426  -90.853194   \n",
       "...                                        ...   ...        ...         ...   \n",
       "491129    English as a second language teacher  1983  34.853497  -78.664158   \n",
       "491130  Research scientist (physical sciences)  1984  35.008839  -81.475156   \n",
       "491131                          Futures trader  1999  29.661049  -96.186633   \n",
       "491132                                Musician  1981  46.658340 -119.715054   \n",
       "491133                             Media buyer  1993  36.210097  -97.036372   \n",
       "\n",
       "        is_fraud adult month day   hour  \n",
       "0              0     1     1   1    0-3  \n",
       "1              0     1     1   1    0-3  \n",
       "2              0     1     1   1    0-3  \n",
       "3              0     1     1   1    0-3  \n",
       "4              0     1     1   1    0-3  \n",
       "...          ...   ...   ...  ..    ...  \n",
       "491129         0     1    12  31  22-23  \n",
       "491130         0     1    12  31  22-23  \n",
       "491131         0     1    12  31  22-23  \n",
       "491132         0     1    12  31  22-23  \n",
       "491133         0     1    12  31  22-23  \n",
       "\n",
       "[462743 rows x 16 columns]"
      ]
     },
     "execution_count": 69,
     "metadata": {},
     "output_type": "execute_result"
    }
   ],
   "source": [
    "data_fraud[data_fraud['amt'] < 200]"
   ]
  },
  {
   "cell_type": "code",
   "execution_count": 70,
   "id": "3b27896e",
   "metadata": {},
   "outputs": [
    {
     "name": "stderr",
     "output_type": "stream",
     "text": [
      "/opt/conda/lib/python3.9/site-packages/seaborn/distributions.py:2619: FutureWarning: `distplot` is a deprecated function and will be removed in a future version. Please adapt your code to use either `displot` (a figure-level function with similar flexibility) or `histplot` (an axes-level function for histograms).\n",
      "  warnings.warn(msg, FutureWarning)\n"
     ]
    },
    {
     "data": {
      "text/plain": [
       "<AxesSubplot:xlabel='amt', ylabel='Density'>"
      ]
     },
     "execution_count": 70,
     "metadata": {},
     "output_type": "execute_result"
    },
    {
     "data": {
      "image/png": "[encoded data removed]",
      "text/plain": [
       "<Figure size 432x288 with 1 Axes>"
      ]
     },
     "metadata": {
      "needs_background": "light"
     },
     "output_type": "display_data"
    }
   ],
   "source": [
    "sns.distplot(data_fraud[data_fraud['amt'] < 1500]['amt'])"
   ]
  },
  {
   "cell_type": "code",
   "execution_count": 71,
   "id": "1e93ef1f",
   "metadata": {},
   "outputs": [
    {
     "name": "stderr",
     "output_type": "stream",
     "text": [
      "/opt/conda/lib/python3.9/site-packages/seaborn/distributions.py:2619: FutureWarning: `distplot` is a deprecated function and will be removed in a future version. Please adapt your code to use either `displot` (a figure-level function with similar flexibility) or `histplot` (an axes-level function for histograms).\n",
      "  warnings.warn(msg, FutureWarning)\n"
     ]
    },
    {
     "data": {
      "text/plain": [
       "<AxesSubplot:xlabel='amt', ylabel='Density'>"
      ]
     },
     "execution_count": 71,
     "metadata": {},
     "output_type": "execute_result"
    },
    {
     "data": {
      "image/png": "[encoded data removed]",
      "text/plain": [
       "<Figure size 432x288 with 1 Axes>"
      ]
     },
     "metadata": {
      "needs_background": "light"
     },
     "output_type": "display_data"
    }
   ],
   "source": [
    "sns.distplot(data_fraud_real[data_fraud_real['amt'] < 1500]['amt'])"
   ]
  },
  {
   "cell_type": "code",
   "execution_count": 72,
   "id": "c4185b3e",
   "metadata": {},
   "outputs": [],
   "source": [
    "# 거래 전체를 보면 200이하의 값들이 대부분인데.\n",
    "# 사기 거래를 보면 0부터 거래전체의 빈도를 따르다가 . 500부터 다시 올라간다.\n",
    "# 거래의 액수가 클수록 사기거래일 가능성이 높아진다. 1500이상의 값들은 이상치로.\n",
    "# 0~ 500 500~1500 others로 나누기\n",
    "data_fraud['amt_new'] = data_fraud['amt'].apply(lambda x: '0-500' if x < 500 else '500-1500'if x < 1500 else 'others')"
   ]
  },
  {
   "cell_type": "code",
   "execution_count": 73,
   "id": "0b2fd334",
   "metadata": {},
   "outputs": [
    {
     "name": "stdout",
     "output_type": "stream",
     "text": [
      "<class 'pandas.core.frame.DataFrame'>\n",
      "RangeIndex: 491134 entries, 0 to 491133\n",
      "Data columns (total 17 columns):\n",
      " #   Column      Non-Null Count   Dtype  \n",
      "---  ------      --------------   -----  \n",
      " 0   category    491134 non-null  object \n",
      " 1   amt         491134 non-null  float64\n",
      " 2   gender      491134 non-null  object \n",
      " 3   zip         491134 non-null  object \n",
      " 4   lat         491134 non-null  float64\n",
      " 5   long        491134 non-null  float64\n",
      " 6   city_pop    491134 non-null  int64  \n",
      " 7   job         491134 non-null  object \n",
      " 8   dob         491134 non-null  int64  \n",
      " 9   merch_lat   491134 non-null  float64\n",
      " 10  merch_long  491134 non-null  float64\n",
      " 11  is_fraud    491134 non-null  int64  \n",
      " 12  adult       491134 non-null  object \n",
      " 13  month       491134 non-null  object \n",
      " 14  day         491134 non-null  object \n",
      " 15  hour        491134 non-null  object \n",
      " 16  amt_new     491134 non-null  object \n",
      "dtypes: float64(5), int64(3), object(9)\n",
      "memory usage: 63.7+ MB\n"
     ]
    }
   ],
   "source": [
    "data_fraud.info()"
   ]
  },
  {
   "cell_type": "code",
   "execution_count": 74,
   "id": "d7f9dc67",
   "metadata": {},
   "outputs": [
    {
     "data": {
      "text/plain": [
       "16114    4392\n",
       "61454    4392\n",
       "89512    4386\n",
       "84540    4386\n",
       "72476    4386\n",
       "         ... \n",
       "83646    3641\n",
       "26041    3638\n",
       "28073    3638\n",
       "70726    3638\n",
       "35811    3628\n",
       "Name: zip, Length: 124, dtype: int64"
      ]
     },
     "execution_count": 74,
     "metadata": {},
     "output_type": "execute_result"
    }
   ],
   "source": [
    "data_fraud.zip.value_counts()"
   ]
  },
  {
   "cell_type": "code",
   "execution_count": 75,
   "id": "83da5064",
   "metadata": {},
   "outputs": [
    {
     "data": {
      "text/html": [
       "<div>\n",
       "<style scoped>\n",
       "    .dataframe tbody tr th:only-of-type {\n",
       "        vertical-align: middle;\n",
       "    }\n",
       "\n",
       "    .dataframe tbody tr th {\n",
       "        vertical-align: top;\n",
       "    }\n",
       "\n",
       "    .dataframe thead th {\n",
       "        text-align: right;\n",
       "    }\n",
       "</style>\n",
       "<table border=\"1\" class=\"dataframe\">\n",
       "  <thead>\n",
       "    <tr style=\"text-align: right;\">\n",
       "      <th></th>\n",
       "      <th>category</th>\n",
       "      <th>amt</th>\n",
       "      <th>gender</th>\n",
       "      <th>zip</th>\n",
       "      <th>lat</th>\n",
       "      <th>long</th>\n",
       "      <th>city_pop</th>\n",
       "      <th>job</th>\n",
       "      <th>dob</th>\n",
       "      <th>merch_lat</th>\n",
       "      <th>merch_long</th>\n",
       "      <th>is_fraud</th>\n",
       "      <th>adult</th>\n",
       "      <th>month</th>\n",
       "      <th>day</th>\n",
       "      <th>hour</th>\n",
       "      <th>amt_new</th>\n",
       "    </tr>\n",
       "  </thead>\n",
       "  <tbody>\n",
       "    <tr>\n",
       "      <th>0</th>\n",
       "      <td>grocery_pos</td>\n",
       "      <td>107.23</td>\n",
       "      <td>F</td>\n",
       "      <td>99160</td>\n",
       "      <td>48.8878</td>\n",
       "      <td>-118.2105</td>\n",
       "      <td>149</td>\n",
       "      <td>Special educational needs teacher</td>\n",
       "      <td>1978</td>\n",
       "      <td>49.159047</td>\n",
       "      <td>-118.186462</td>\n",
       "      <td>0</td>\n",
       "      <td>1</td>\n",
       "      <td>1</td>\n",
       "      <td>1</td>\n",
       "      <td>0-3</td>\n",
       "      <td>0-500</td>\n",
       "    </tr>\n",
       "    <tr>\n",
       "      <th>1</th>\n",
       "      <td>grocery_pos</td>\n",
       "      <td>44.71</td>\n",
       "      <td>M</td>\n",
       "      <td>7208</td>\n",
       "      <td>40.6747</td>\n",
       "      <td>-74.2239</td>\n",
       "      <td>124967</td>\n",
       "      <td>Operational researcher</td>\n",
       "      <td>1980</td>\n",
       "      <td>40.079588</td>\n",
       "      <td>-74.848087</td>\n",
       "      <td>0</td>\n",
       "      <td>1</td>\n",
       "      <td>1</td>\n",
       "      <td>1</td>\n",
       "      <td>0-3</td>\n",
       "      <td>0-500</td>\n",
       "    </tr>\n",
       "    <tr>\n",
       "      <th>2</th>\n",
       "      <td>grocery_net</td>\n",
       "      <td>46.28</td>\n",
       "      <td>F</td>\n",
       "      <td>7060</td>\n",
       "      <td>40.6152</td>\n",
       "      <td>-74.4150</td>\n",
       "      <td>71485</td>\n",
       "      <td>Leisure centre manager</td>\n",
       "      <td>1974</td>\n",
       "      <td>40.021888</td>\n",
       "      <td>-74.228188</td>\n",
       "      <td>0</td>\n",
       "      <td>1</td>\n",
       "      <td>1</td>\n",
       "      <td>1</td>\n",
       "      <td>0-3</td>\n",
       "      <td>0-500</td>\n",
       "    </tr>\n",
       "    <tr>\n",
       "      <th>3</th>\n",
       "      <td>grocery_pos</td>\n",
       "      <td>64.09</td>\n",
       "      <td>M</td>\n",
       "      <td>48174</td>\n",
       "      <td>42.2203</td>\n",
       "      <td>-83.3583</td>\n",
       "      <td>31515</td>\n",
       "      <td>Police officer</td>\n",
       "      <td>1971</td>\n",
       "      <td>42.360426</td>\n",
       "      <td>-83.552316</td>\n",
       "      <td>0</td>\n",
       "      <td>1</td>\n",
       "      <td>1</td>\n",
       "      <td>1</td>\n",
       "      <td>0-3</td>\n",
       "      <td>0-500</td>\n",
       "    </tr>\n",
       "    <tr>\n",
       "      <th>4</th>\n",
       "      <td>misc_pos</td>\n",
       "      <td>25.58</td>\n",
       "      <td>F</td>\n",
       "      <td>70808</td>\n",
       "      <td>30.4066</td>\n",
       "      <td>-91.1468</td>\n",
       "      <td>378909</td>\n",
       "      <td>Designer, furniture</td>\n",
       "      <td>1977</td>\n",
       "      <td>29.737426</td>\n",
       "      <td>-90.853194</td>\n",
       "      <td>0</td>\n",
       "      <td>1</td>\n",
       "      <td>1</td>\n",
       "      <td>1</td>\n",
       "      <td>0-3</td>\n",
       "      <td>0-500</td>\n",
       "    </tr>\n",
       "    <tr>\n",
       "      <th>...</th>\n",
       "      <td>...</td>\n",
       "      <td>...</td>\n",
       "      <td>...</td>\n",
       "      <td>...</td>\n",
       "      <td>...</td>\n",
       "      <td>...</td>\n",
       "      <td>...</td>\n",
       "      <td>...</td>\n",
       "      <td>...</td>\n",
       "      <td>...</td>\n",
       "      <td>...</td>\n",
       "      <td>...</td>\n",
       "      <td>...</td>\n",
       "      <td>...</td>\n",
       "      <td>...</td>\n",
       "      <td>...</td>\n",
       "      <td>...</td>\n",
       "    </tr>\n",
       "    <tr>\n",
       "      <th>491129</th>\n",
       "      <td>home</td>\n",
       "      <td>134.26</td>\n",
       "      <td>F</td>\n",
       "      <td>28405</td>\n",
       "      <td>34.2651</td>\n",
       "      <td>-77.8670</td>\n",
       "      <td>186140</td>\n",
       "      <td>English as a second language teacher</td>\n",
       "      <td>1983</td>\n",
       "      <td>34.853497</td>\n",
       "      <td>-78.664158</td>\n",
       "      <td>0</td>\n",
       "      <td>1</td>\n",
       "      <td>12</td>\n",
       "      <td>31</td>\n",
       "      <td>22-23</td>\n",
       "      <td>0-500</td>\n",
       "    </tr>\n",
       "    <tr>\n",
       "      <th>491130</th>\n",
       "      <td>shopping_pos</td>\n",
       "      <td>25.49</td>\n",
       "      <td>F</td>\n",
       "      <td>29819</td>\n",
       "      <td>34.0326</td>\n",
       "      <td>-82.2027</td>\n",
       "      <td>1523</td>\n",
       "      <td>Research scientist (physical sciences)</td>\n",
       "      <td>1984</td>\n",
       "      <td>35.008839</td>\n",
       "      <td>-81.475156</td>\n",
       "      <td>0</td>\n",
       "      <td>1</td>\n",
       "      <td>12</td>\n",
       "      <td>31</td>\n",
       "      <td>22-23</td>\n",
       "      <td>0-500</td>\n",
       "    </tr>\n",
       "    <tr>\n",
       "      <th>491131</th>\n",
       "      <td>kids_pets</td>\n",
       "      <td>111.84</td>\n",
       "      <td>M</td>\n",
       "      <td>77566</td>\n",
       "      <td>29.0393</td>\n",
       "      <td>-95.4401</td>\n",
       "      <td>28739</td>\n",
       "      <td>Futures trader</td>\n",
       "      <td>1999</td>\n",
       "      <td>29.661049</td>\n",
       "      <td>-96.186633</td>\n",
       "      <td>0</td>\n",
       "      <td>1</td>\n",
       "      <td>12</td>\n",
       "      <td>31</td>\n",
       "      <td>22-23</td>\n",
       "      <td>0-500</td>\n",
       "    </tr>\n",
       "    <tr>\n",
       "      <th>491132</th>\n",
       "      <td>kids_pets</td>\n",
       "      <td>86.88</td>\n",
       "      <td>F</td>\n",
       "      <td>99323</td>\n",
       "      <td>46.1966</td>\n",
       "      <td>-118.9017</td>\n",
       "      <td>3684</td>\n",
       "      <td>Musician</td>\n",
       "      <td>1981</td>\n",
       "      <td>46.658340</td>\n",
       "      <td>-119.715054</td>\n",
       "      <td>0</td>\n",
       "      <td>1</td>\n",
       "      <td>12</td>\n",
       "      <td>31</td>\n",
       "      <td>22-23</td>\n",
       "      <td>0-500</td>\n",
       "    </tr>\n",
       "    <tr>\n",
       "      <th>491133</th>\n",
       "      <td>entertainment</td>\n",
       "      <td>38.13</td>\n",
       "      <td>M</td>\n",
       "      <td>73034</td>\n",
       "      <td>35.6665</td>\n",
       "      <td>-97.4798</td>\n",
       "      <td>116001</td>\n",
       "      <td>Media buyer</td>\n",
       "      <td>1993</td>\n",
       "      <td>36.210097</td>\n",
       "      <td>-97.036372</td>\n",
       "      <td>0</td>\n",
       "      <td>1</td>\n",
       "      <td>12</td>\n",
       "      <td>31</td>\n",
       "      <td>22-23</td>\n",
       "      <td>0-500</td>\n",
       "    </tr>\n",
       "  </tbody>\n",
       "</table>\n",
       "<p>491134 rows × 17 columns</p>\n",
       "</div>"
      ],
      "text/plain": [
       "             category     amt gender    zip      lat      long  city_pop  \\\n",
       "0         grocery_pos  107.23      F  99160  48.8878 -118.2105       149   \n",
       "1         grocery_pos   44.71      M   7208  40.6747  -74.2239    124967   \n",
       "2         grocery_net   46.28      F   7060  40.6152  -74.4150     71485   \n",
       "3         grocery_pos   64.09      M  48174  42.2203  -83.3583     31515   \n",
       "4            misc_pos   25.58      F  70808  30.4066  -91.1468    378909   \n",
       "...               ...     ...    ...    ...      ...       ...       ...   \n",
       "491129           home  134.26      F  28405  34.2651  -77.8670    186140   \n",
       "491130   shopping_pos   25.49      F  29819  34.0326  -82.2027      1523   \n",
       "491131      kids_pets  111.84      M  77566  29.0393  -95.4401     28739   \n",
       "491132      kids_pets   86.88      F  99323  46.1966 -118.9017      3684   \n",
       "491133  entertainment   38.13      M  73034  35.6665  -97.4798    116001   \n",
       "\n",
       "                                           job   dob  merch_lat  merch_long  \\\n",
       "0            Special educational needs teacher  1978  49.159047 -118.186462   \n",
       "1                       Operational researcher  1980  40.079588  -74.848087   \n",
       "2                       Leisure centre manager  1974  40.021888  -74.228188   \n",
       "3                               Police officer  1971  42.360426  -83.552316   \n",
       "4                          Designer, furniture  1977  29.737426  -90.853194   \n",
       "...                                        ...   ...        ...         ...   \n",
       "491129    English as a second language teacher  1983  34.853497  -78.664158   \n",
       "491130  Research scientist (physical sciences)  1984  35.008839  -81.475156   \n",
       "491131                          Futures trader  1999  29.661049  -96.186633   \n",
       "491132                                Musician  1981  46.658340 -119.715054   \n",
       "491133                             Media buyer  1993  36.210097  -97.036372   \n",
       "\n",
       "        is_fraud adult month day   hour amt_new  \n",
       "0              0     1     1   1    0-3   0-500  \n",
       "1              0     1     1   1    0-3   0-500  \n",
       "2              0     1     1   1    0-3   0-500  \n",
       "3              0     1     1   1    0-3   0-500  \n",
       "4              0     1     1   1    0-3   0-500  \n",
       "...          ...   ...   ...  ..    ...     ...  \n",
       "491129         0     1    12  31  22-23   0-500  \n",
       "491130         0     1    12  31  22-23   0-500  \n",
       "491131         0     1    12  31  22-23   0-500  \n",
       "491132         0     1    12  31  22-23   0-500  \n",
       "491133         0     1    12  31  22-23   0-500  \n",
       "\n",
       "[491134 rows x 17 columns]"
      ]
     },
     "execution_count": 75,
     "metadata": {},
     "output_type": "execute_result"
    }
   ],
   "source": [
    "data_fraud"
   ]
  },
  {
   "cell_type": "code",
   "execution_count": 76,
   "id": "82260bc1",
   "metadata": {},
   "outputs": [
    {
     "data": {
      "text/plain": [
       "0              Special educational needs teacher\n",
       "1                         Operational researcher\n",
       "2                         Leisure centre manager\n",
       "3                                 Police officer\n",
       "4                            Designer, furniture\n",
       "                           ...                  \n",
       "491129      English as a second language teacher\n",
       "491130    Research scientist (physical sciences)\n",
       "491131                            Futures trader\n",
       "491132                                  Musician\n",
       "491133                               Media buyer\n",
       "Name: job, Length: 491134, dtype: object"
      ]
     },
     "execution_count": 76,
     "metadata": {},
     "output_type": "execute_result"
    }
   ],
   "source": [
    "data_fraud['job']"
   ]
  },
  {
   "cell_type": "code",
   "execution_count": 82,
   "id": "e492785a",
   "metadata": {},
   "outputs": [
    {
     "ename": "KeyError",
     "evalue": "\"['lat' 'long'] not found in axis\"",
     "output_type": "error",
     "traceback": [
      "\u001b[0;31m---------------------------------------------------------------------------\u001b[0m",
      "\u001b[0;31mKeyError\u001b[0m                                  Traceback (most recent call last)",
      "\u001b[0;32m/tmp/ipykernel_95/2552518232.py\u001b[0m in \u001b[0;36m<module>\u001b[0;34m\u001b[0m\n\u001b[1;32m      1\u001b[0m \u001b[0;31m#\u001b[0m\u001b[0;34m\u001b[0m\u001b[0;34m\u001b[0m\u001b[0m\n\u001b[0;32m----> 2\u001b[0;31m \u001b[0mdata_fraud\u001b[0m\u001b[0;34m.\u001b[0m\u001b[0mdrop\u001b[0m\u001b[0;34m(\u001b[0m\u001b[0mcolumns\u001b[0m \u001b[0;34m=\u001b[0m \u001b[0;34m[\u001b[0m\u001b[0;34m'lat'\u001b[0m\u001b[0;34m,\u001b[0m\u001b[0;34m'long'\u001b[0m\u001b[0;34m,\u001b[0m\u001b[0;34m'zip'\u001b[0m\u001b[0;34m,\u001b[0m\u001b[0;34m'job'\u001b[0m\u001b[0;34m,\u001b[0m\u001b[0;34m'dob'\u001b[0m\u001b[0;34m]\u001b[0m\u001b[0;34m,\u001b[0m\u001b[0maxis\u001b[0m\u001b[0;34m=\u001b[0m\u001b[0;36m1\u001b[0m\u001b[0;34m,\u001b[0m\u001b[0minplace\u001b[0m\u001b[0;34m=\u001b[0m\u001b[0;32mTrue\u001b[0m\u001b[0;34m)\u001b[0m\u001b[0;34m\u001b[0m\u001b[0;34m\u001b[0m\u001b[0m\n\u001b[0m",
      "\u001b[0;32m/opt/conda/lib/python3.9/site-packages/pandas/util/_decorators.py\u001b[0m in \u001b[0;36mwrapper\u001b[0;34m(*args, **kwargs)\u001b[0m\n\u001b[1;32m    309\u001b[0m                     \u001b[0mstacklevel\u001b[0m\u001b[0;34m=\u001b[0m\u001b[0mstacklevel\u001b[0m\u001b[0;34m,\u001b[0m\u001b[0;34m\u001b[0m\u001b[0;34m\u001b[0m\u001b[0m\n\u001b[1;32m    310\u001b[0m                 )\n\u001b[0;32m--> 311\u001b[0;31m             \u001b[0;32mreturn\u001b[0m \u001b[0mfunc\u001b[0m\u001b[0;34m(\u001b[0m\u001b[0;34m*\u001b[0m\u001b[0margs\u001b[0m\u001b[0;34m,\u001b[0m \u001b[0;34m**\u001b[0m\u001b[0mkwargs\u001b[0m\u001b[0;34m)\u001b[0m\u001b[0;34m\u001b[0m\u001b[0;34m\u001b[0m\u001b[0m\n\u001b[0m\u001b[1;32m    312\u001b[0m \u001b[0;34m\u001b[0m\u001b[0m\n\u001b[1;32m    313\u001b[0m         \u001b[0;32mreturn\u001b[0m \u001b[0mwrapper\u001b[0m\u001b[0;34m\u001b[0m\u001b[0;34m\u001b[0m\u001b[0m\n",
      "\u001b[0;32m/opt/conda/lib/python3.9/site-packages/pandas/core/frame.py\u001b[0m in \u001b[0;36mdrop\u001b[0;34m(self, labels, axis, index, columns, level, inplace, errors)\u001b[0m\n\u001b[1;32m   4904\u001b[0m                 \u001b[0mweight\u001b[0m  \u001b[0;36m1.0\u001b[0m     \u001b[0;36m0.8\u001b[0m\u001b[0;34m\u001b[0m\u001b[0;34m\u001b[0m\u001b[0m\n\u001b[1;32m   4905\u001b[0m         \"\"\"\n\u001b[0;32m-> 4906\u001b[0;31m         return super().drop(\n\u001b[0m\u001b[1;32m   4907\u001b[0m             \u001b[0mlabels\u001b[0m\u001b[0;34m=\u001b[0m\u001b[0mlabels\u001b[0m\u001b[0;34m,\u001b[0m\u001b[0;34m\u001b[0m\u001b[0;34m\u001b[0m\u001b[0m\n\u001b[1;32m   4908\u001b[0m             \u001b[0maxis\u001b[0m\u001b[0;34m=\u001b[0m\u001b[0maxis\u001b[0m\u001b[0;34m,\u001b[0m\u001b[0;34m\u001b[0m\u001b[0;34m\u001b[0m\u001b[0m\n",
      "\u001b[0;32m/opt/conda/lib/python3.9/site-packages/pandas/core/generic.py\u001b[0m in \u001b[0;36mdrop\u001b[0;34m(self, labels, axis, index, columns, level, inplace, errors)\u001b[0m\n\u001b[1;32m   4148\u001b[0m         \u001b[0;32mfor\u001b[0m \u001b[0maxis\u001b[0m\u001b[0;34m,\u001b[0m \u001b[0mlabels\u001b[0m \u001b[0;32min\u001b[0m \u001b[0maxes\u001b[0m\u001b[0;34m.\u001b[0m\u001b[0mitems\u001b[0m\u001b[0;34m(\u001b[0m\u001b[0;34m)\u001b[0m\u001b[0;34m:\u001b[0m\u001b[0;34m\u001b[0m\u001b[0;34m\u001b[0m\u001b[0m\n\u001b[1;32m   4149\u001b[0m             \u001b[0;32mif\u001b[0m \u001b[0mlabels\u001b[0m \u001b[0;32mis\u001b[0m \u001b[0;32mnot\u001b[0m \u001b[0;32mNone\u001b[0m\u001b[0;34m:\u001b[0m\u001b[0;34m\u001b[0m\u001b[0;34m\u001b[0m\u001b[0m\n\u001b[0;32m-> 4150\u001b[0;31m                 \u001b[0mobj\u001b[0m \u001b[0;34m=\u001b[0m \u001b[0mobj\u001b[0m\u001b[0;34m.\u001b[0m\u001b[0m_drop_axis\u001b[0m\u001b[0;34m(\u001b[0m\u001b[0mlabels\u001b[0m\u001b[0;34m,\u001b[0m \u001b[0maxis\u001b[0m\u001b[0;34m,\u001b[0m \u001b[0mlevel\u001b[0m\u001b[0;34m=\u001b[0m\u001b[0mlevel\u001b[0m\u001b[0;34m,\u001b[0m \u001b[0merrors\u001b[0m\u001b[0;34m=\u001b[0m\u001b[0merrors\u001b[0m\u001b[0;34m)\u001b[0m\u001b[0;34m\u001b[0m\u001b[0;34m\u001b[0m\u001b[0m\n\u001b[0m\u001b[1;32m   4151\u001b[0m \u001b[0;34m\u001b[0m\u001b[0m\n\u001b[1;32m   4152\u001b[0m         \u001b[0;32mif\u001b[0m \u001b[0minplace\u001b[0m\u001b[0;34m:\u001b[0m\u001b[0;34m\u001b[0m\u001b[0;34m\u001b[0m\u001b[0m\n",
      "\u001b[0;32m/opt/conda/lib/python3.9/site-packages/pandas/core/generic.py\u001b[0m in \u001b[0;36m_drop_axis\u001b[0;34m(self, labels, axis, level, errors)\u001b[0m\n\u001b[1;32m   4183\u001b[0m                 \u001b[0mnew_axis\u001b[0m \u001b[0;34m=\u001b[0m \u001b[0maxis\u001b[0m\u001b[0;34m.\u001b[0m\u001b[0mdrop\u001b[0m\u001b[0;34m(\u001b[0m\u001b[0mlabels\u001b[0m\u001b[0;34m,\u001b[0m \u001b[0mlevel\u001b[0m\u001b[0;34m=\u001b[0m\u001b[0mlevel\u001b[0m\u001b[0;34m,\u001b[0m \u001b[0merrors\u001b[0m\u001b[0;34m=\u001b[0m\u001b[0merrors\u001b[0m\u001b[0;34m)\u001b[0m\u001b[0;34m\u001b[0m\u001b[0;34m\u001b[0m\u001b[0m\n\u001b[1;32m   4184\u001b[0m             \u001b[0;32melse\u001b[0m\u001b[0;34m:\u001b[0m\u001b[0;34m\u001b[0m\u001b[0;34m\u001b[0m\u001b[0m\n\u001b[0;32m-> 4185\u001b[0;31m                 \u001b[0mnew_axis\u001b[0m \u001b[0;34m=\u001b[0m \u001b[0maxis\u001b[0m\u001b[0;34m.\u001b[0m\u001b[0mdrop\u001b[0m\u001b[0;34m(\u001b[0m\u001b[0mlabels\u001b[0m\u001b[0;34m,\u001b[0m \u001b[0merrors\u001b[0m\u001b[0;34m=\u001b[0m\u001b[0merrors\u001b[0m\u001b[0;34m)\u001b[0m\u001b[0;34m\u001b[0m\u001b[0;34m\u001b[0m\u001b[0m\n\u001b[0m\u001b[1;32m   4186\u001b[0m             \u001b[0mresult\u001b[0m \u001b[0;34m=\u001b[0m \u001b[0mself\u001b[0m\u001b[0;34m.\u001b[0m\u001b[0mreindex\u001b[0m\u001b[0;34m(\u001b[0m\u001b[0;34m**\u001b[0m\u001b[0;34m{\u001b[0m\u001b[0maxis_name\u001b[0m\u001b[0;34m:\u001b[0m \u001b[0mnew_axis\u001b[0m\u001b[0;34m}\u001b[0m\u001b[0;34m)\u001b[0m\u001b[0;34m\u001b[0m\u001b[0;34m\u001b[0m\u001b[0m\n\u001b[1;32m   4187\u001b[0m \u001b[0;34m\u001b[0m\u001b[0m\n",
      "\u001b[0;32m/opt/conda/lib/python3.9/site-packages/pandas/core/indexes/base.py\u001b[0m in \u001b[0;36mdrop\u001b[0;34m(self, labels, errors)\u001b[0m\n\u001b[1;32m   6015\u001b[0m         \u001b[0;32mif\u001b[0m \u001b[0mmask\u001b[0m\u001b[0;34m.\u001b[0m\u001b[0many\u001b[0m\u001b[0;34m(\u001b[0m\u001b[0;34m)\u001b[0m\u001b[0;34m:\u001b[0m\u001b[0;34m\u001b[0m\u001b[0;34m\u001b[0m\u001b[0m\n\u001b[1;32m   6016\u001b[0m             \u001b[0;32mif\u001b[0m \u001b[0merrors\u001b[0m \u001b[0;34m!=\u001b[0m \u001b[0;34m\"ignore\"\u001b[0m\u001b[0;34m:\u001b[0m\u001b[0;34m\u001b[0m\u001b[0;34m\u001b[0m\u001b[0m\n\u001b[0;32m-> 6017\u001b[0;31m                 \u001b[0;32mraise\u001b[0m \u001b[0mKeyError\u001b[0m\u001b[0;34m(\u001b[0m\u001b[0;34mf\"{labels[mask]} not found in axis\"\u001b[0m\u001b[0;34m)\u001b[0m\u001b[0;34m\u001b[0m\u001b[0;34m\u001b[0m\u001b[0m\n\u001b[0m\u001b[1;32m   6018\u001b[0m             \u001b[0mindexer\u001b[0m \u001b[0;34m=\u001b[0m \u001b[0mindexer\u001b[0m\u001b[0;34m[\u001b[0m\u001b[0;34m~\u001b[0m\u001b[0mmask\u001b[0m\u001b[0;34m]\u001b[0m\u001b[0;34m\u001b[0m\u001b[0;34m\u001b[0m\u001b[0m\n\u001b[1;32m   6019\u001b[0m         \u001b[0;32mreturn\u001b[0m \u001b[0mself\u001b[0m\u001b[0;34m.\u001b[0m\u001b[0mdelete\u001b[0m\u001b[0;34m(\u001b[0m\u001b[0mindexer\u001b[0m\u001b[0;34m)\u001b[0m\u001b[0;34m\u001b[0m\u001b[0;34m\u001b[0m\u001b[0m\n",
      "\u001b[0;31mKeyError\u001b[0m: \"['lat' 'long'] not found in axis\""
     ]
    }
   ],
   "source": [
    "#\n",
    "data_fraud.drop(columns = ['lat','long'],axis=1,inplace=True)"
   ]
  },
  {
   "cell_type": "code",
   "execution_count": 84,
   "id": "2c2cb440",
   "metadata": {},
   "outputs": [],
   "source": [
    "data_fraud.drop(columns = ['zip','job','dob'],axis=1,inplace=True)"
   ]
  },
  {
   "cell_type": "code",
   "execution_count": 85,
   "id": "1c104863",
   "metadata": {},
   "outputs": [
    {
     "data": {
      "text/html": [
       "<div>\n",
       "<style scoped>\n",
       "    .dataframe tbody tr th:only-of-type {\n",
       "        vertical-align: middle;\n",
       "    }\n",
       "\n",
       "    .dataframe tbody tr th {\n",
       "        vertical-align: top;\n",
       "    }\n",
       "\n",
       "    .dataframe thead th {\n",
       "        text-align: right;\n",
       "    }\n",
       "</style>\n",
       "<table border=\"1\" class=\"dataframe\">\n",
       "  <thead>\n",
       "    <tr style=\"text-align: right;\">\n",
       "      <th></th>\n",
       "      <th>category</th>\n",
       "      <th>amt</th>\n",
       "      <th>gender</th>\n",
       "      <th>city_pop</th>\n",
       "      <th>merch_lat</th>\n",
       "      <th>merch_long</th>\n",
       "      <th>is_fraud</th>\n",
       "      <th>adult</th>\n",
       "      <th>month</th>\n",
       "      <th>day</th>\n",
       "      <th>hour</th>\n",
       "      <th>amt_new</th>\n",
       "    </tr>\n",
       "  </thead>\n",
       "  <tbody>\n",
       "    <tr>\n",
       "      <th>0</th>\n",
       "      <td>grocery_pos</td>\n",
       "      <td>107.23</td>\n",
       "      <td>F</td>\n",
       "      <td>149</td>\n",
       "      <td>49.159047</td>\n",
       "      <td>-118.186462</td>\n",
       "      <td>0</td>\n",
       "      <td>1</td>\n",
       "      <td>1</td>\n",
       "      <td>1</td>\n",
       "      <td>0-3</td>\n",
       "      <td>0-500</td>\n",
       "    </tr>\n",
       "    <tr>\n",
       "      <th>1</th>\n",
       "      <td>grocery_pos</td>\n",
       "      <td>44.71</td>\n",
       "      <td>M</td>\n",
       "      <td>124967</td>\n",
       "      <td>40.079588</td>\n",
       "      <td>-74.848087</td>\n",
       "      <td>0</td>\n",
       "      <td>1</td>\n",
       "      <td>1</td>\n",
       "      <td>1</td>\n",
       "      <td>0-3</td>\n",
       "      <td>0-500</td>\n",
       "    </tr>\n",
       "    <tr>\n",
       "      <th>2</th>\n",
       "      <td>grocery_net</td>\n",
       "      <td>46.28</td>\n",
       "      <td>F</td>\n",
       "      <td>71485</td>\n",
       "      <td>40.021888</td>\n",
       "      <td>-74.228188</td>\n",
       "      <td>0</td>\n",
       "      <td>1</td>\n",
       "      <td>1</td>\n",
       "      <td>1</td>\n",
       "      <td>0-3</td>\n",
       "      <td>0-500</td>\n",
       "    </tr>\n",
       "    <tr>\n",
       "      <th>3</th>\n",
       "      <td>grocery_pos</td>\n",
       "      <td>64.09</td>\n",
       "      <td>M</td>\n",
       "      <td>31515</td>\n",
       "      <td>42.360426</td>\n",
       "      <td>-83.552316</td>\n",
       "      <td>0</td>\n",
       "      <td>1</td>\n",
       "      <td>1</td>\n",
       "      <td>1</td>\n",
       "      <td>0-3</td>\n",
       "      <td>0-500</td>\n",
       "    </tr>\n",
       "    <tr>\n",
       "      <th>4</th>\n",
       "      <td>misc_pos</td>\n",
       "      <td>25.58</td>\n",
       "      <td>F</td>\n",
       "      <td>378909</td>\n",
       "      <td>29.737426</td>\n",
       "      <td>-90.853194</td>\n",
       "      <td>0</td>\n",
       "      <td>1</td>\n",
       "      <td>1</td>\n",
       "      <td>1</td>\n",
       "      <td>0-3</td>\n",
       "      <td>0-500</td>\n",
       "    </tr>\n",
       "    <tr>\n",
       "      <th>...</th>\n",
       "      <td>...</td>\n",
       "      <td>...</td>\n",
       "      <td>...</td>\n",
       "      <td>...</td>\n",
       "      <td>...</td>\n",
       "      <td>...</td>\n",
       "      <td>...</td>\n",
       "      <td>...</td>\n",
       "      <td>...</td>\n",
       "      <td>...</td>\n",
       "      <td>...</td>\n",
       "      <td>...</td>\n",
       "    </tr>\n",
       "    <tr>\n",
       "      <th>491129</th>\n",
       "      <td>home</td>\n",
       "      <td>134.26</td>\n",
       "      <td>F</td>\n",
       "      <td>186140</td>\n",
       "      <td>34.853497</td>\n",
       "      <td>-78.664158</td>\n",
       "      <td>0</td>\n",
       "      <td>1</td>\n",
       "      <td>12</td>\n",
       "      <td>31</td>\n",
       "      <td>22-23</td>\n",
       "      <td>0-500</td>\n",
       "    </tr>\n",
       "    <tr>\n",
       "      <th>491130</th>\n",
       "      <td>shopping_pos</td>\n",
       "      <td>25.49</td>\n",
       "      <td>F</td>\n",
       "      <td>1523</td>\n",
       "      <td>35.008839</td>\n",
       "      <td>-81.475156</td>\n",
       "      <td>0</td>\n",
       "      <td>1</td>\n",
       "      <td>12</td>\n",
       "      <td>31</td>\n",
       "      <td>22-23</td>\n",
       "      <td>0-500</td>\n",
       "    </tr>\n",
       "    <tr>\n",
       "      <th>491131</th>\n",
       "      <td>kids_pets</td>\n",
       "      <td>111.84</td>\n",
       "      <td>M</td>\n",
       "      <td>28739</td>\n",
       "      <td>29.661049</td>\n",
       "      <td>-96.186633</td>\n",
       "      <td>0</td>\n",
       "      <td>1</td>\n",
       "      <td>12</td>\n",
       "      <td>31</td>\n",
       "      <td>22-23</td>\n",
       "      <td>0-500</td>\n",
       "    </tr>\n",
       "    <tr>\n",
       "      <th>491132</th>\n",
       "      <td>kids_pets</td>\n",
       "      <td>86.88</td>\n",
       "      <td>F</td>\n",
       "      <td>3684</td>\n",
       "      <td>46.658340</td>\n",
       "      <td>-119.715054</td>\n",
       "      <td>0</td>\n",
       "      <td>1</td>\n",
       "      <td>12</td>\n",
       "      <td>31</td>\n",
       "      <td>22-23</td>\n",
       "      <td>0-500</td>\n",
       "    </tr>\n",
       "    <tr>\n",
       "      <th>491133</th>\n",
       "      <td>entertainment</td>\n",
       "      <td>38.13</td>\n",
       "      <td>M</td>\n",
       "      <td>116001</td>\n",
       "      <td>36.210097</td>\n",
       "      <td>-97.036372</td>\n",
       "      <td>0</td>\n",
       "      <td>1</td>\n",
       "      <td>12</td>\n",
       "      <td>31</td>\n",
       "      <td>22-23</td>\n",
       "      <td>0-500</td>\n",
       "    </tr>\n",
       "  </tbody>\n",
       "</table>\n",
       "<p>491134 rows × 12 columns</p>\n",
       "</div>"
      ],
      "text/plain": [
       "             category     amt gender  city_pop  merch_lat  merch_long  \\\n",
       "0         grocery_pos  107.23      F       149  49.159047 -118.186462   \n",
       "1         grocery_pos   44.71      M    124967  40.079588  -74.848087   \n",
       "2         grocery_net   46.28      F     71485  40.021888  -74.228188   \n",
       "3         grocery_pos   64.09      M     31515  42.360426  -83.552316   \n",
       "4            misc_pos   25.58      F    378909  29.737426  -90.853194   \n",
       "...               ...     ...    ...       ...        ...         ...   \n",
       "491129           home  134.26      F    186140  34.853497  -78.664158   \n",
       "491130   shopping_pos   25.49      F      1523  35.008839  -81.475156   \n",
       "491131      kids_pets  111.84      M     28739  29.661049  -96.186633   \n",
       "491132      kids_pets   86.88      F      3684  46.658340 -119.715054   \n",
       "491133  entertainment   38.13      M    116001  36.210097  -97.036372   \n",
       "\n",
       "        is_fraud adult month day   hour amt_new  \n",
       "0              0     1     1   1    0-3   0-500  \n",
       "1              0     1     1   1    0-3   0-500  \n",
       "2              0     1     1   1    0-3   0-500  \n",
       "3              0     1     1   1    0-3   0-500  \n",
       "4              0     1     1   1    0-3   0-500  \n",
       "...          ...   ...   ...  ..    ...     ...  \n",
       "491129         0     1    12  31  22-23   0-500  \n",
       "491130         0     1    12  31  22-23   0-500  \n",
       "491131         0     1    12  31  22-23   0-500  \n",
       "491132         0     1    12  31  22-23   0-500  \n",
       "491133         0     1    12  31  22-23   0-500  \n",
       "\n",
       "[491134 rows x 12 columns]"
      ]
     },
     "execution_count": 85,
     "metadata": {},
     "output_type": "execute_result"
    }
   ],
   "source": [
    "data_fraud"
   ]
  },
  {
   "cell_type": "code",
   "execution_count": 86,
   "id": "3792fc78",
   "metadata": {},
   "outputs": [],
   "source": [
    "data_fraud_x = data_fraud.drop(columns = 'is_fraud' , axis=1)"
   ]
  },
  {
   "cell_type": "code",
   "execution_count": 87,
   "id": "c0f645d4",
   "metadata": {},
   "outputs": [],
   "source": [
    "data_fraud_x = pd.get_dummies(data_fraud_x, columns=['category','gender','adult','month','day','hour','amt_new'], drop_first =True,)"
   ]
  },
  {
   "cell_type": "code",
   "execution_count": 88,
   "id": "d261a02b",
   "metadata": {},
   "outputs": [
    {
     "data": {
      "text/html": [
       "<div>\n",
       "<style scoped>\n",
       "    .dataframe tbody tr th:only-of-type {\n",
       "        vertical-align: middle;\n",
       "    }\n",
       "\n",
       "    .dataframe tbody tr th {\n",
       "        vertical-align: top;\n",
       "    }\n",
       "\n",
       "    .dataframe thead th {\n",
       "        text-align: right;\n",
       "    }\n",
       "</style>\n",
       "<table border=\"1\" class=\"dataframe\">\n",
       "  <thead>\n",
       "    <tr style=\"text-align: right;\">\n",
       "      <th></th>\n",
       "      <th>amt</th>\n",
       "      <th>city_pop</th>\n",
       "      <th>merch_lat</th>\n",
       "      <th>merch_long</th>\n",
       "      <th>category_food_dining</th>\n",
       "      <th>category_gas_transport</th>\n",
       "      <th>category_grocery_net</th>\n",
       "      <th>category_grocery_pos</th>\n",
       "      <th>category_health_fitness</th>\n",
       "      <th>category_home</th>\n",
       "      <th>...</th>\n",
       "      <th>day_4</th>\n",
       "      <th>day_5</th>\n",
       "      <th>day_6</th>\n",
       "      <th>day_7</th>\n",
       "      <th>day_8</th>\n",
       "      <th>day_9</th>\n",
       "      <th>hour_22-23</th>\n",
       "      <th>hour_4-21</th>\n",
       "      <th>amt_new_500-1500</th>\n",
       "      <th>amt_new_others</th>\n",
       "    </tr>\n",
       "  </thead>\n",
       "  <tbody>\n",
       "    <tr>\n",
       "      <th>0</th>\n",
       "      <td>107.23</td>\n",
       "      <td>149</td>\n",
       "      <td>49.159047</td>\n",
       "      <td>-118.186462</td>\n",
       "      <td>0</td>\n",
       "      <td>0</td>\n",
       "      <td>0</td>\n",
       "      <td>1</td>\n",
       "      <td>0</td>\n",
       "      <td>0</td>\n",
       "      <td>...</td>\n",
       "      <td>0</td>\n",
       "      <td>0</td>\n",
       "      <td>0</td>\n",
       "      <td>0</td>\n",
       "      <td>0</td>\n",
       "      <td>0</td>\n",
       "      <td>0</td>\n",
       "      <td>0</td>\n",
       "      <td>0</td>\n",
       "      <td>0</td>\n",
       "    </tr>\n",
       "    <tr>\n",
       "      <th>1</th>\n",
       "      <td>44.71</td>\n",
       "      <td>124967</td>\n",
       "      <td>40.079588</td>\n",
       "      <td>-74.848087</td>\n",
       "      <td>0</td>\n",
       "      <td>0</td>\n",
       "      <td>0</td>\n",
       "      <td>1</td>\n",
       "      <td>0</td>\n",
       "      <td>0</td>\n",
       "      <td>...</td>\n",
       "      <td>0</td>\n",
       "      <td>0</td>\n",
       "      <td>0</td>\n",
       "      <td>0</td>\n",
       "      <td>0</td>\n",
       "      <td>0</td>\n",
       "      <td>0</td>\n",
       "      <td>0</td>\n",
       "      <td>0</td>\n",
       "      <td>0</td>\n",
       "    </tr>\n",
       "    <tr>\n",
       "      <th>2</th>\n",
       "      <td>46.28</td>\n",
       "      <td>71485</td>\n",
       "      <td>40.021888</td>\n",
       "      <td>-74.228188</td>\n",
       "      <td>0</td>\n",
       "      <td>0</td>\n",
       "      <td>1</td>\n",
       "      <td>0</td>\n",
       "      <td>0</td>\n",
       "      <td>0</td>\n",
       "      <td>...</td>\n",
       "      <td>0</td>\n",
       "      <td>0</td>\n",
       "      <td>0</td>\n",
       "      <td>0</td>\n",
       "      <td>0</td>\n",
       "      <td>0</td>\n",
       "      <td>0</td>\n",
       "      <td>0</td>\n",
       "      <td>0</td>\n",
       "      <td>0</td>\n",
       "    </tr>\n",
       "    <tr>\n",
       "      <th>3</th>\n",
       "      <td>64.09</td>\n",
       "      <td>31515</td>\n",
       "      <td>42.360426</td>\n",
       "      <td>-83.552316</td>\n",
       "      <td>0</td>\n",
       "      <td>0</td>\n",
       "      <td>0</td>\n",
       "      <td>1</td>\n",
       "      <td>0</td>\n",
       "      <td>0</td>\n",
       "      <td>...</td>\n",
       "      <td>0</td>\n",
       "      <td>0</td>\n",
       "      <td>0</td>\n",
       "      <td>0</td>\n",
       "      <td>0</td>\n",
       "      <td>0</td>\n",
       "      <td>0</td>\n",
       "      <td>0</td>\n",
       "      <td>0</td>\n",
       "      <td>0</td>\n",
       "    </tr>\n",
       "    <tr>\n",
       "      <th>4</th>\n",
       "      <td>25.58</td>\n",
       "      <td>378909</td>\n",
       "      <td>29.737426</td>\n",
       "      <td>-90.853194</td>\n",
       "      <td>0</td>\n",
       "      <td>0</td>\n",
       "      <td>0</td>\n",
       "      <td>0</td>\n",
       "      <td>0</td>\n",
       "      <td>0</td>\n",
       "      <td>...</td>\n",
       "      <td>0</td>\n",
       "      <td>0</td>\n",
       "      <td>0</td>\n",
       "      <td>0</td>\n",
       "      <td>0</td>\n",
       "      <td>0</td>\n",
       "      <td>0</td>\n",
       "      <td>0</td>\n",
       "      <td>0</td>\n",
       "      <td>0</td>\n",
       "    </tr>\n",
       "    <tr>\n",
       "      <th>...</th>\n",
       "      <td>...</td>\n",
       "      <td>...</td>\n",
       "      <td>...</td>\n",
       "      <td>...</td>\n",
       "      <td>...</td>\n",
       "      <td>...</td>\n",
       "      <td>...</td>\n",
       "      <td>...</td>\n",
       "      <td>...</td>\n",
       "      <td>...</td>\n",
       "      <td>...</td>\n",
       "      <td>...</td>\n",
       "      <td>...</td>\n",
       "      <td>...</td>\n",
       "      <td>...</td>\n",
       "      <td>...</td>\n",
       "      <td>...</td>\n",
       "      <td>...</td>\n",
       "      <td>...</td>\n",
       "      <td>...</td>\n",
       "      <td>...</td>\n",
       "    </tr>\n",
       "    <tr>\n",
       "      <th>491129</th>\n",
       "      <td>134.26</td>\n",
       "      <td>186140</td>\n",
       "      <td>34.853497</td>\n",
       "      <td>-78.664158</td>\n",
       "      <td>0</td>\n",
       "      <td>0</td>\n",
       "      <td>0</td>\n",
       "      <td>0</td>\n",
       "      <td>0</td>\n",
       "      <td>1</td>\n",
       "      <td>...</td>\n",
       "      <td>0</td>\n",
       "      <td>0</td>\n",
       "      <td>0</td>\n",
       "      <td>0</td>\n",
       "      <td>0</td>\n",
       "      <td>0</td>\n",
       "      <td>1</td>\n",
       "      <td>0</td>\n",
       "      <td>0</td>\n",
       "      <td>0</td>\n",
       "    </tr>\n",
       "    <tr>\n",
       "      <th>491130</th>\n",
       "      <td>25.49</td>\n",
       "      <td>1523</td>\n",
       "      <td>35.008839</td>\n",
       "      <td>-81.475156</td>\n",
       "      <td>0</td>\n",
       "      <td>0</td>\n",
       "      <td>0</td>\n",
       "      <td>0</td>\n",
       "      <td>0</td>\n",
       "      <td>0</td>\n",
       "      <td>...</td>\n",
       "      <td>0</td>\n",
       "      <td>0</td>\n",
       "      <td>0</td>\n",
       "      <td>0</td>\n",
       "      <td>0</td>\n",
       "      <td>0</td>\n",
       "      <td>1</td>\n",
       "      <td>0</td>\n",
       "      <td>0</td>\n",
       "      <td>0</td>\n",
       "    </tr>\n",
       "    <tr>\n",
       "      <th>491131</th>\n",
       "      <td>111.84</td>\n",
       "      <td>28739</td>\n",
       "      <td>29.661049</td>\n",
       "      <td>-96.186633</td>\n",
       "      <td>0</td>\n",
       "      <td>0</td>\n",
       "      <td>0</td>\n",
       "      <td>0</td>\n",
       "      <td>0</td>\n",
       "      <td>0</td>\n",
       "      <td>...</td>\n",
       "      <td>0</td>\n",
       "      <td>0</td>\n",
       "      <td>0</td>\n",
       "      <td>0</td>\n",
       "      <td>0</td>\n",
       "      <td>0</td>\n",
       "      <td>1</td>\n",
       "      <td>0</td>\n",
       "      <td>0</td>\n",
       "      <td>0</td>\n",
       "    </tr>\n",
       "    <tr>\n",
       "      <th>491132</th>\n",
       "      <td>86.88</td>\n",
       "      <td>3684</td>\n",
       "      <td>46.658340</td>\n",
       "      <td>-119.715054</td>\n",
       "      <td>0</td>\n",
       "      <td>0</td>\n",
       "      <td>0</td>\n",
       "      <td>0</td>\n",
       "      <td>0</td>\n",
       "      <td>0</td>\n",
       "      <td>...</td>\n",
       "      <td>0</td>\n",
       "      <td>0</td>\n",
       "      <td>0</td>\n",
       "      <td>0</td>\n",
       "      <td>0</td>\n",
       "      <td>0</td>\n",
       "      <td>1</td>\n",
       "      <td>0</td>\n",
       "      <td>0</td>\n",
       "      <td>0</td>\n",
       "    </tr>\n",
       "    <tr>\n",
       "      <th>491133</th>\n",
       "      <td>38.13</td>\n",
       "      <td>116001</td>\n",
       "      <td>36.210097</td>\n",
       "      <td>-97.036372</td>\n",
       "      <td>0</td>\n",
       "      <td>0</td>\n",
       "      <td>0</td>\n",
       "      <td>0</td>\n",
       "      <td>0</td>\n",
       "      <td>0</td>\n",
       "      <td>...</td>\n",
       "      <td>0</td>\n",
       "      <td>0</td>\n",
       "      <td>0</td>\n",
       "      <td>0</td>\n",
       "      <td>0</td>\n",
       "      <td>0</td>\n",
       "      <td>1</td>\n",
       "      <td>0</td>\n",
       "      <td>0</td>\n",
       "      <td>0</td>\n",
       "    </tr>\n",
       "  </tbody>\n",
       "</table>\n",
       "<p>491134 rows × 64 columns</p>\n",
       "</div>"
      ],
      "text/plain": [
       "           amt  city_pop  merch_lat  merch_long  category_food_dining  \\\n",
       "0       107.23       149  49.159047 -118.186462                     0   \n",
       "1        44.71    124967  40.079588  -74.848087                     0   \n",
       "2        46.28     71485  40.021888  -74.228188                     0   \n",
       "3        64.09     31515  42.360426  -83.552316                     0   \n",
       "4        25.58    378909  29.737426  -90.853194                     0   \n",
       "...        ...       ...        ...         ...                   ...   \n",
       "491129  134.26    186140  34.853497  -78.664158                     0   \n",
       "491130   25.49      1523  35.008839  -81.475156                     0   \n",
       "491131  111.84     28739  29.661049  -96.186633                     0   \n",
       "491132   86.88      3684  46.658340 -119.715054                     0   \n",
       "491133   38.13    116001  36.210097  -97.036372                     0   \n",
       "\n",
       "        category_gas_transport  category_grocery_net  category_grocery_pos  \\\n",
       "0                            0                     0                     1   \n",
       "1                            0                     0                     1   \n",
       "2                            0                     1                     0   \n",
       "3                            0                     0                     1   \n",
       "4                            0                     0                     0   \n",
       "...                        ...                   ...                   ...   \n",
       "491129                       0                     0                     0   \n",
       "491130                       0                     0                     0   \n",
       "491131                       0                     0                     0   \n",
       "491132                       0                     0                     0   \n",
       "491133                       0                     0                     0   \n",
       "\n",
       "        category_health_fitness  category_home  ...  day_4  day_5  day_6  \\\n",
       "0                             0              0  ...      0      0      0   \n",
       "1                             0              0  ...      0      0      0   \n",
       "2                             0              0  ...      0      0      0   \n",
       "3                             0              0  ...      0      0      0   \n",
       "4                             0              0  ...      0      0      0   \n",
       "...                         ...            ...  ...    ...    ...    ...   \n",
       "491129                        0              1  ...      0      0      0   \n",
       "491130                        0              0  ...      0      0      0   \n",
       "491131                        0              0  ...      0      0      0   \n",
       "491132                        0              0  ...      0      0      0   \n",
       "491133                        0              0  ...      0      0      0   \n",
       "\n",
       "        day_7  day_8  day_9  hour_22-23  hour_4-21  amt_new_500-1500  \\\n",
       "0           0      0      0           0          0                 0   \n",
       "1           0      0      0           0          0                 0   \n",
       "2           0      0      0           0          0                 0   \n",
       "3           0      0      0           0          0                 0   \n",
       "4           0      0      0           0          0                 0   \n",
       "...       ...    ...    ...         ...        ...               ...   \n",
       "491129      0      0      0           1          0                 0   \n",
       "491130      0      0      0           1          0                 0   \n",
       "491131      0      0      0           1          0                 0   \n",
       "491132      0      0      0           1          0                 0   \n",
       "491133      0      0      0           1          0                 0   \n",
       "\n",
       "        amt_new_others  \n",
       "0                    0  \n",
       "1                    0  \n",
       "2                    0  \n",
       "3                    0  \n",
       "4                    0  \n",
       "...                ...  \n",
       "491129               0  \n",
       "491130               0  \n",
       "491131               0  \n",
       "491132               0  \n",
       "491133               0  \n",
       "\n",
       "[491134 rows x 64 columns]"
      ]
     },
     "execution_count": 88,
     "metadata": {},
     "output_type": "execute_result"
    }
   ],
   "source": [
    "data_fraud_x"
   ]
  },
  {
   "cell_type": "code",
   "execution_count": 89,
   "id": "89142a7a",
   "metadata": {},
   "outputs": [],
   "source": [
    "from sklearn.preprocessing import StandardScaler"
   ]
  },
  {
   "cell_type": "code",
   "execution_count": 90,
   "id": "7e5dfdea",
   "metadata": {},
   "outputs": [],
   "source": [
    "ss = StandardScaler()"
   ]
  },
  {
   "cell_type": "code",
   "execution_count": 91,
   "id": "3a5ebbc5",
   "metadata": {},
   "outputs": [
    {
     "data": {
      "text/plain": [
       "StandardScaler()"
      ]
     },
     "execution_count": 91,
     "metadata": {},
     "output_type": "execute_result"
    }
   ],
   "source": [
    "ss.fit(data_fraud_x)"
   ]
  },
  {
   "cell_type": "code",
   "execution_count": 92,
   "id": "e26eacbd",
   "metadata": {},
   "outputs": [
    {
     "data": {
      "text/plain": [
       "array([[ 0.30431674, -0.32541987,  2.08985968, ..., -1.91537539,\n",
       "        -0.09503448, -0.03603724],\n",
       "       [-0.18462368,  0.00959477,  0.40002309, ..., -1.91537539,\n",
       "        -0.09503448, -0.03603724],\n",
       "       [-0.17234543, -0.13395226,  0.38928418, ..., -1.91537539,\n",
       "        -0.09503448, -0.03603724],\n",
       "       ...,\n",
       "       [ 0.34036945, -0.24868359, -1.53903829, ..., -1.91537539,\n",
       "        -0.09503448, -0.03603724],\n",
       "       [ 0.14516867, -0.31593184,  1.62443699, ..., -1.91537539,\n",
       "        -0.09503448, -0.03603724],\n",
       "       [-0.23608286, -0.0144702 , -0.32015279, ..., -1.91537539,\n",
       "        -0.09503448, -0.03603724]])"
      ]
     },
     "execution_count": 92,
     "metadata": {},
     "output_type": "execute_result"
    }
   ],
   "source": [
    "ss.transform(data_fraud_x)"
   ]
  },
  {
   "cell_type": "code",
   "execution_count": 103,
   "id": "a41b8cd3",
   "metadata": {},
   "outputs": [
    {
     "data": {
      "text/html": [
       "<div>\n",
       "<style scoped>\n",
       "    .dataframe tbody tr th:only-of-type {\n",
       "        vertical-align: middle;\n",
       "    }\n",
       "\n",
       "    .dataframe tbody tr th {\n",
       "        vertical-align: top;\n",
       "    }\n",
       "\n",
       "    .dataframe thead th {\n",
       "        text-align: right;\n",
       "    }\n",
       "</style>\n",
       "<table border=\"1\" class=\"dataframe\">\n",
       "  <thead>\n",
       "    <tr style=\"text-align: right;\">\n",
       "      <th></th>\n",
       "      <th>amt</th>\n",
       "      <th>city_pop</th>\n",
       "      <th>merch_lat</th>\n",
       "      <th>merch_long</th>\n",
       "      <th>category_food_dining</th>\n",
       "      <th>category_gas_transport</th>\n",
       "      <th>category_grocery_net</th>\n",
       "      <th>category_grocery_pos</th>\n",
       "      <th>category_health_fitness</th>\n",
       "      <th>category_home</th>\n",
       "      <th>...</th>\n",
       "      <th>day_4</th>\n",
       "      <th>day_5</th>\n",
       "      <th>day_6</th>\n",
       "      <th>day_7</th>\n",
       "      <th>day_8</th>\n",
       "      <th>day_9</th>\n",
       "      <th>hour_22-23</th>\n",
       "      <th>hour_4-21</th>\n",
       "      <th>amt_new_500-1500</th>\n",
       "      <th>amt_new_others</th>\n",
       "    </tr>\n",
       "  </thead>\n",
       "  <tbody>\n",
       "    <tr>\n",
       "      <th>0</th>\n",
       "      <td>0.304317</td>\n",
       "      <td>-0.325420</td>\n",
       "      <td>2.089860</td>\n",
       "      <td>-2.129411</td>\n",
       "      <td>-0.281159</td>\n",
       "      <td>-0.321577</td>\n",
       "      <td>-0.229068</td>\n",
       "      <td>3.239760</td>\n",
       "      <td>-0.26141</td>\n",
       "      <td>-0.311104</td>\n",
       "      <td>...</td>\n",
       "      <td>-0.178194</td>\n",
       "      <td>-0.17874</td>\n",
       "      <td>-0.18385</td>\n",
       "      <td>-0.18925</td>\n",
       "      <td>-0.18862</td>\n",
       "      <td>-0.182693</td>\n",
       "      <td>-0.369313</td>\n",
       "      <td>-1.915375</td>\n",
       "      <td>-0.095034</td>\n",
       "      <td>-0.036037</td>\n",
       "    </tr>\n",
       "    <tr>\n",
       "      <th>1</th>\n",
       "      <td>-0.184624</td>\n",
       "      <td>0.009595</td>\n",
       "      <td>0.400023</td>\n",
       "      <td>1.203262</td>\n",
       "      <td>-0.281159</td>\n",
       "      <td>-0.321577</td>\n",
       "      <td>-0.229068</td>\n",
       "      <td>3.239760</td>\n",
       "      <td>-0.26141</td>\n",
       "      <td>-0.311104</td>\n",
       "      <td>...</td>\n",
       "      <td>-0.178194</td>\n",
       "      <td>-0.17874</td>\n",
       "      <td>-0.18385</td>\n",
       "      <td>-0.18925</td>\n",
       "      <td>-0.18862</td>\n",
       "      <td>-0.182693</td>\n",
       "      <td>-0.369313</td>\n",
       "      <td>-1.915375</td>\n",
       "      <td>-0.095034</td>\n",
       "      <td>-0.036037</td>\n",
       "    </tr>\n",
       "    <tr>\n",
       "      <th>2</th>\n",
       "      <td>-0.172345</td>\n",
       "      <td>-0.133952</td>\n",
       "      <td>0.389284</td>\n",
       "      <td>1.250932</td>\n",
       "      <td>-0.281159</td>\n",
       "      <td>-0.321577</td>\n",
       "      <td>4.365518</td>\n",
       "      <td>-0.308665</td>\n",
       "      <td>-0.26141</td>\n",
       "      <td>-0.311104</td>\n",
       "      <td>...</td>\n",
       "      <td>-0.178194</td>\n",
       "      <td>-0.17874</td>\n",
       "      <td>-0.18385</td>\n",
       "      <td>-0.18925</td>\n",
       "      <td>-0.18862</td>\n",
       "      <td>-0.182693</td>\n",
       "      <td>-0.369313</td>\n",
       "      <td>-1.915375</td>\n",
       "      <td>-0.095034</td>\n",
       "      <td>-0.036037</td>\n",
       "    </tr>\n",
       "    <tr>\n",
       "      <th>3</th>\n",
       "      <td>-0.033062</td>\n",
       "      <td>-0.241233</td>\n",
       "      <td>0.824525</td>\n",
       "      <td>0.533916</td>\n",
       "      <td>-0.281159</td>\n",
       "      <td>-0.321577</td>\n",
       "      <td>-0.229068</td>\n",
       "      <td>3.239760</td>\n",
       "      <td>-0.26141</td>\n",
       "      <td>-0.311104</td>\n",
       "      <td>...</td>\n",
       "      <td>-0.178194</td>\n",
       "      <td>-0.17874</td>\n",
       "      <td>-0.18385</td>\n",
       "      <td>-0.18925</td>\n",
       "      <td>-0.18862</td>\n",
       "      <td>-0.182693</td>\n",
       "      <td>-0.369313</td>\n",
       "      <td>-1.915375</td>\n",
       "      <td>-0.095034</td>\n",
       "      <td>-0.036037</td>\n",
       "    </tr>\n",
       "    <tr>\n",
       "      <th>4</th>\n",
       "      <td>-0.334231</td>\n",
       "      <td>0.691181</td>\n",
       "      <td>-1.524823</td>\n",
       "      <td>-0.027513</td>\n",
       "      <td>-0.281159</td>\n",
       "      <td>-0.321577</td>\n",
       "      <td>-0.229068</td>\n",
       "      <td>-0.308665</td>\n",
       "      <td>-0.26141</td>\n",
       "      <td>-0.311104</td>\n",
       "      <td>...</td>\n",
       "      <td>-0.178194</td>\n",
       "      <td>-0.17874</td>\n",
       "      <td>-0.18385</td>\n",
       "      <td>-0.18925</td>\n",
       "      <td>-0.18862</td>\n",
       "      <td>-0.182693</td>\n",
       "      <td>-0.369313</td>\n",
       "      <td>-1.915375</td>\n",
       "      <td>-0.095034</td>\n",
       "      <td>-0.036037</td>\n",
       "    </tr>\n",
       "    <tr>\n",
       "      <th>...</th>\n",
       "      <td>...</td>\n",
       "      <td>...</td>\n",
       "      <td>...</td>\n",
       "      <td>...</td>\n",
       "      <td>...</td>\n",
       "      <td>...</td>\n",
       "      <td>...</td>\n",
       "      <td>...</td>\n",
       "      <td>...</td>\n",
       "      <td>...</td>\n",
       "      <td>...</td>\n",
       "      <td>...</td>\n",
       "      <td>...</td>\n",
       "      <td>...</td>\n",
       "      <td>...</td>\n",
       "      <td>...</td>\n",
       "      <td>...</td>\n",
       "      <td>...</td>\n",
       "      <td>...</td>\n",
       "      <td>...</td>\n",
       "      <td>...</td>\n",
       "    </tr>\n",
       "    <tr>\n",
       "      <th>491129</th>\n",
       "      <td>0.515706</td>\n",
       "      <td>0.173785</td>\n",
       "      <td>-0.572638</td>\n",
       "      <td>0.909810</td>\n",
       "      <td>-0.281159</td>\n",
       "      <td>-0.321577</td>\n",
       "      <td>-0.229068</td>\n",
       "      <td>-0.308665</td>\n",
       "      <td>-0.26141</td>\n",
       "      <td>3.214361</td>\n",
       "      <td>...</td>\n",
       "      <td>-0.178194</td>\n",
       "      <td>-0.17874</td>\n",
       "      <td>-0.18385</td>\n",
       "      <td>-0.18925</td>\n",
       "      <td>-0.18862</td>\n",
       "      <td>-0.182693</td>\n",
       "      <td>2.707728</td>\n",
       "      <td>-1.915375</td>\n",
       "      <td>-0.095034</td>\n",
       "      <td>-0.036037</td>\n",
       "    </tr>\n",
       "    <tr>\n",
       "      <th>491130</th>\n",
       "      <td>-0.334935</td>\n",
       "      <td>-0.321732</td>\n",
       "      <td>-0.543727</td>\n",
       "      <td>0.693648</td>\n",
       "      <td>-0.281159</td>\n",
       "      <td>-0.321577</td>\n",
       "      <td>-0.229068</td>\n",
       "      <td>-0.308665</td>\n",
       "      <td>-0.26141</td>\n",
       "      <td>-0.311104</td>\n",
       "      <td>...</td>\n",
       "      <td>-0.178194</td>\n",
       "      <td>-0.17874</td>\n",
       "      <td>-0.18385</td>\n",
       "      <td>-0.18925</td>\n",
       "      <td>-0.18862</td>\n",
       "      <td>-0.182693</td>\n",
       "      <td>2.707728</td>\n",
       "      <td>-1.915375</td>\n",
       "      <td>-0.095034</td>\n",
       "      <td>-0.036037</td>\n",
       "    </tr>\n",
       "    <tr>\n",
       "      <th>491131</th>\n",
       "      <td>0.340369</td>\n",
       "      <td>-0.248684</td>\n",
       "      <td>-1.539038</td>\n",
       "      <td>-0.437649</td>\n",
       "      <td>-0.281159</td>\n",
       "      <td>-0.321577</td>\n",
       "      <td>-0.229068</td>\n",
       "      <td>-0.308665</td>\n",
       "      <td>-0.26141</td>\n",
       "      <td>-0.311104</td>\n",
       "      <td>...</td>\n",
       "      <td>-0.178194</td>\n",
       "      <td>-0.17874</td>\n",
       "      <td>-0.18385</td>\n",
       "      <td>-0.18925</td>\n",
       "      <td>-0.18862</td>\n",
       "      <td>-0.182693</td>\n",
       "      <td>2.707728</td>\n",
       "      <td>-1.915375</td>\n",
       "      <td>-0.095034</td>\n",
       "      <td>-0.036037</td>\n",
       "    </tr>\n",
       "    <tr>\n",
       "      <th>491132</th>\n",
       "      <td>0.145169</td>\n",
       "      <td>-0.315932</td>\n",
       "      <td>1.624437</td>\n",
       "      <td>-2.246958</td>\n",
       "      <td>-0.281159</td>\n",
       "      <td>-0.321577</td>\n",
       "      <td>-0.229068</td>\n",
       "      <td>-0.308665</td>\n",
       "      <td>-0.26141</td>\n",
       "      <td>-0.311104</td>\n",
       "      <td>...</td>\n",
       "      <td>-0.178194</td>\n",
       "      <td>-0.17874</td>\n",
       "      <td>-0.18385</td>\n",
       "      <td>-0.18925</td>\n",
       "      <td>-0.18862</td>\n",
       "      <td>-0.182693</td>\n",
       "      <td>2.707728</td>\n",
       "      <td>-1.915375</td>\n",
       "      <td>-0.095034</td>\n",
       "      <td>-0.036037</td>\n",
       "    </tr>\n",
       "    <tr>\n",
       "      <th>491133</th>\n",
       "      <td>-0.236083</td>\n",
       "      <td>-0.014470</td>\n",
       "      <td>-0.320153</td>\n",
       "      <td>-0.502993</td>\n",
       "      <td>-0.281159</td>\n",
       "      <td>-0.321577</td>\n",
       "      <td>-0.229068</td>\n",
       "      <td>-0.308665</td>\n",
       "      <td>-0.26141</td>\n",
       "      <td>-0.311104</td>\n",
       "      <td>...</td>\n",
       "      <td>-0.178194</td>\n",
       "      <td>-0.17874</td>\n",
       "      <td>-0.18385</td>\n",
       "      <td>-0.18925</td>\n",
       "      <td>-0.18862</td>\n",
       "      <td>-0.182693</td>\n",
       "      <td>2.707728</td>\n",
       "      <td>-1.915375</td>\n",
       "      <td>-0.095034</td>\n",
       "      <td>-0.036037</td>\n",
       "    </tr>\n",
       "  </tbody>\n",
       "</table>\n",
       "<p>491134 rows × 64 columns</p>\n",
       "</div>"
      ],
      "text/plain": [
       "             amt  city_pop  merch_lat  merch_long  category_food_dining  \\\n",
       "0       0.304317 -0.325420   2.089860   -2.129411             -0.281159   \n",
       "1      -0.184624  0.009595   0.400023    1.203262             -0.281159   \n",
       "2      -0.172345 -0.133952   0.389284    1.250932             -0.281159   \n",
       "3      -0.033062 -0.241233   0.824525    0.533916             -0.281159   \n",
       "4      -0.334231  0.691181  -1.524823   -0.027513             -0.281159   \n",
       "...          ...       ...        ...         ...                   ...   \n",
       "491129  0.515706  0.173785  -0.572638    0.909810             -0.281159   \n",
       "491130 -0.334935 -0.321732  -0.543727    0.693648             -0.281159   \n",
       "491131  0.340369 -0.248684  -1.539038   -0.437649             -0.281159   \n",
       "491132  0.145169 -0.315932   1.624437   -2.246958             -0.281159   \n",
       "491133 -0.236083 -0.014470  -0.320153   -0.502993             -0.281159   \n",
       "\n",
       "        category_gas_transport  category_grocery_net  category_grocery_pos  \\\n",
       "0                    -0.321577             -0.229068              3.239760   \n",
       "1                    -0.321577             -0.229068              3.239760   \n",
       "2                    -0.321577              4.365518             -0.308665   \n",
       "3                    -0.321577             -0.229068              3.239760   \n",
       "4                    -0.321577             -0.229068             -0.308665   \n",
       "...                        ...                   ...                   ...   \n",
       "491129               -0.321577             -0.229068             -0.308665   \n",
       "491130               -0.321577             -0.229068             -0.308665   \n",
       "491131               -0.321577             -0.229068             -0.308665   \n",
       "491132               -0.321577             -0.229068             -0.308665   \n",
       "491133               -0.321577             -0.229068             -0.308665   \n",
       "\n",
       "        category_health_fitness  category_home  ...     day_4    day_5  \\\n",
       "0                      -0.26141      -0.311104  ... -0.178194 -0.17874   \n",
       "1                      -0.26141      -0.311104  ... -0.178194 -0.17874   \n",
       "2                      -0.26141      -0.311104  ... -0.178194 -0.17874   \n",
       "3                      -0.26141      -0.311104  ... -0.178194 -0.17874   \n",
       "4                      -0.26141      -0.311104  ... -0.178194 -0.17874   \n",
       "...                         ...            ...  ...       ...      ...   \n",
       "491129                 -0.26141       3.214361  ... -0.178194 -0.17874   \n",
       "491130                 -0.26141      -0.311104  ... -0.178194 -0.17874   \n",
       "491131                 -0.26141      -0.311104  ... -0.178194 -0.17874   \n",
       "491132                 -0.26141      -0.311104  ... -0.178194 -0.17874   \n",
       "491133                 -0.26141      -0.311104  ... -0.178194 -0.17874   \n",
       "\n",
       "          day_6    day_7    day_8     day_9  hour_22-23  hour_4-21  \\\n",
       "0      -0.18385 -0.18925 -0.18862 -0.182693   -0.369313  -1.915375   \n",
       "1      -0.18385 -0.18925 -0.18862 -0.182693   -0.369313  -1.915375   \n",
       "2      -0.18385 -0.18925 -0.18862 -0.182693   -0.369313  -1.915375   \n",
       "3      -0.18385 -0.18925 -0.18862 -0.182693   -0.369313  -1.915375   \n",
       "4      -0.18385 -0.18925 -0.18862 -0.182693   -0.369313  -1.915375   \n",
       "...         ...      ...      ...       ...         ...        ...   \n",
       "491129 -0.18385 -0.18925 -0.18862 -0.182693    2.707728  -1.915375   \n",
       "491130 -0.18385 -0.18925 -0.18862 -0.182693    2.707728  -1.915375   \n",
       "491131 -0.18385 -0.18925 -0.18862 -0.182693    2.707728  -1.915375   \n",
       "491132 -0.18385 -0.18925 -0.18862 -0.182693    2.707728  -1.915375   \n",
       "491133 -0.18385 -0.18925 -0.18862 -0.182693    2.707728  -1.915375   \n",
       "\n",
       "        amt_new_500-1500  amt_new_others  \n",
       "0              -0.095034       -0.036037  \n",
       "1              -0.095034       -0.036037  \n",
       "2              -0.095034       -0.036037  \n",
       "3              -0.095034       -0.036037  \n",
       "4              -0.095034       -0.036037  \n",
       "...                  ...             ...  \n",
       "491129         -0.095034       -0.036037  \n",
       "491130         -0.095034       -0.036037  \n",
       "491131         -0.095034       -0.036037  \n",
       "491132         -0.095034       -0.036037  \n",
       "491133         -0.095034       -0.036037  \n",
       "\n",
       "[491134 rows x 64 columns]"
      ]
     },
     "execution_count": 103,
     "metadata": {},
     "output_type": "execute_result"
    }
   ],
   "source": [
    "ss_df = pd.DataFrame(ss.transform(data_fraud_x), columns = data_fraud_x.columns)\n",
    "ss_df"
   ]
  },
  {
   "cell_type": "code",
   "execution_count": null,
   "id": "ce43dd1c",
   "metadata": {},
   "outputs": [],
   "source": [
    "# from sklearn.decomposition import PCA\n",
    "\n",
    "# pca= PCA(2)\n",
    "\n",
    "# pca.fit(data_fraud_x)\n",
    "\n",
    "# pca.explained_variance_ratio_"
   ]
  },
  {
   "cell_type": "code",
   "execution_count": null,
   "id": "1423fb92",
   "metadata": {},
   "outputs": [],
   "source": []
  }
 ],
 "metadata": {
  "kernelspec": {
   "display_name": "Python 3 (ipykernel)",
   "language": "python",
   "name": "python3"
  },
  "language_info": {
   "codemirror_mode": {
    "name": "ipython",
    "version": 3
   },
   "file_extension": ".py",
   "mimetype": "text/x-python",
   "name": "python",
   "nbconvert_exporter": "python",
   "pygments_lexer": "ipython3",
   "version": "3.9.7"
  }
 },
 "nbformat": 4,
 "nbformat_minor": 5
}
