{
 "cells": [
  {
   "cell_type": "code",
   "execution_count": 1,
   "id": "0a3b2645",
   "metadata": {},
   "outputs": [],
   "source": [
    "import time\n",
    "import random\n",
    "import pandas as pd\n",
    "import numpy as np\n",
    "\n",
    "from tqdm import tqdm\n",
    "from sklearn.preprocessing import LabelEncoder\n",
    "from sklearn.model_selection import train_test_split\n",
    "\n",
    "import tensorflow as tf\n",
    "from tensorflow.keras import backend as K\n",
    "from tensorflow.keras.models import Model\n",
    "from tensorflow.keras.layers import Layer, MaxPooling2D, Conv2D, Dropout, Lambda, Dense, Flatten, Activation, Input, Embedding, BatchNormalization\n",
    "from tensorflow.keras.initializers import glorot_normal, Zeros, TruncatedNormal\n",
    "from tensorflow.keras.regularizers import l2\n",
    "\n",
    "\n",
    "from tensorflow.keras.optimizers import Adam\n",
    "from tensorflow.keras.losses import BinaryCrossentropy\n",
    "from tensorflow.keras.metrics import BinaryAccuracy\n",
    "\n",
    "\n",
    "from tensorflow.keras.optimizers import Adam\n",
    "from collections import defaultdict\n",
    "import math"
   ]
  },
  {
   "cell_type": "code",
   "execution_count": 2,
   "id": "40fac9ee",
   "metadata": {},
   "outputs": [],
   "source": [
    "data_path = './autoint/ml-1m'"
   ]
  },
  {
   "cell_type": "code",
   "execution_count": 3,
   "id": "6138bb93",
   "metadata": {},
   "outputs": [
    {
     "name": "stdout",
     "output_type": "stream",
     "text": [
      "(1000209, 15)\n"
     ]
    },
    {
     "data": {
      "text/html": [
       "<div>\n",
       "<style scoped>\n",
       "    .dataframe tbody tr th:only-of-type {\n",
       "        vertical-align: middle;\n",
       "    }\n",
       "\n",
       "    .dataframe tbody tr th {\n",
       "        vertical-align: top;\n",
       "    }\n",
       "\n",
       "    .dataframe thead th {\n",
       "        text-align: right;\n",
       "    }\n",
       "</style>\n",
       "<table border=\"1\" class=\"dataframe\">\n",
       "  <thead>\n",
       "    <tr style=\"text-align: right;\">\n",
       "      <th></th>\n",
       "      <th>user_id</th>\n",
       "      <th>movie_id</th>\n",
       "      <th>movie_decade</th>\n",
       "      <th>movie_year</th>\n",
       "      <th>rating_year</th>\n",
       "      <th>rating_month</th>\n",
       "      <th>rating_decade</th>\n",
       "      <th>genre1</th>\n",
       "      <th>genre2</th>\n",
       "      <th>genre3</th>\n",
       "      <th>gender</th>\n",
       "      <th>age</th>\n",
       "      <th>occupation</th>\n",
       "      <th>zip</th>\n",
       "      <th>label</th>\n",
       "    </tr>\n",
       "  </thead>\n",
       "  <tbody>\n",
       "    <tr>\n",
       "      <th>0</th>\n",
       "      <td>1</td>\n",
       "      <td>1193</td>\n",
       "      <td>1970s</td>\n",
       "      <td>1975</td>\n",
       "      <td>2000</td>\n",
       "      <td>12</td>\n",
       "      <td>2000s</td>\n",
       "      <td>Drama</td>\n",
       "      <td>no</td>\n",
       "      <td>no</td>\n",
       "      <td>F</td>\n",
       "      <td>1</td>\n",
       "      <td>10</td>\n",
       "      <td>48067</td>\n",
       "      <td>1</td>\n",
       "    </tr>\n",
       "    <tr>\n",
       "      <th>1</th>\n",
       "      <td>1</td>\n",
       "      <td>661</td>\n",
       "      <td>1990s</td>\n",
       "      <td>1996</td>\n",
       "      <td>2000</td>\n",
       "      <td>12</td>\n",
       "      <td>2000s</td>\n",
       "      <td>Animation</td>\n",
       "      <td>Children's</td>\n",
       "      <td>Musical</td>\n",
       "      <td>F</td>\n",
       "      <td>1</td>\n",
       "      <td>10</td>\n",
       "      <td>48067</td>\n",
       "      <td>0</td>\n",
       "    </tr>\n",
       "    <tr>\n",
       "      <th>2</th>\n",
       "      <td>1</td>\n",
       "      <td>914</td>\n",
       "      <td>1960s</td>\n",
       "      <td>1964</td>\n",
       "      <td>2000</td>\n",
       "      <td>12</td>\n",
       "      <td>2000s</td>\n",
       "      <td>Musical</td>\n",
       "      <td>Romance</td>\n",
       "      <td>no</td>\n",
       "      <td>F</td>\n",
       "      <td>1</td>\n",
       "      <td>10</td>\n",
       "      <td>48067</td>\n",
       "      <td>0</td>\n",
       "    </tr>\n",
       "    <tr>\n",
       "      <th>3</th>\n",
       "      <td>1</td>\n",
       "      <td>3408</td>\n",
       "      <td>2000s</td>\n",
       "      <td>2000</td>\n",
       "      <td>2000</td>\n",
       "      <td>12</td>\n",
       "      <td>2000s</td>\n",
       "      <td>Drama</td>\n",
       "      <td>no</td>\n",
       "      <td>no</td>\n",
       "      <td>F</td>\n",
       "      <td>1</td>\n",
       "      <td>10</td>\n",
       "      <td>48067</td>\n",
       "      <td>1</td>\n",
       "    </tr>\n",
       "    <tr>\n",
       "      <th>4</th>\n",
       "      <td>1</td>\n",
       "      <td>2355</td>\n",
       "      <td>1990s</td>\n",
       "      <td>1998</td>\n",
       "      <td>2001</td>\n",
       "      <td>1</td>\n",
       "      <td>2000s</td>\n",
       "      <td>Animation</td>\n",
       "      <td>Children's</td>\n",
       "      <td>Comedy</td>\n",
       "      <td>F</td>\n",
       "      <td>1</td>\n",
       "      <td>10</td>\n",
       "      <td>48067</td>\n",
       "      <td>1</td>\n",
       "    </tr>\n",
       "  </tbody>\n",
       "</table>\n",
       "</div>"
      ],
      "text/plain": [
       "  user_id movie_id movie_decade movie_year rating_year rating_month  \\\n",
       "0       1     1193        1970s       1975        2000           12   \n",
       "1       1      661        1990s       1996        2000           12   \n",
       "2       1      914        1960s       1964        2000           12   \n",
       "3       1     3408        2000s       2000        2000           12   \n",
       "4       1     2355        1990s       1998        2001            1   \n",
       "\n",
       "  rating_decade     genre1      genre2   genre3 gender age occupation    zip  \\\n",
       "0         2000s      Drama          no       no      F   1         10  48067   \n",
       "1         2000s  Animation  Children's  Musical      F   1         10  48067   \n",
       "2         2000s    Musical     Romance       no      F   1         10  48067   \n",
       "3         2000s      Drama          no       no      F   1         10  48067   \n",
       "4         2000s  Animation  Children's   Comedy      F   1         10  48067   \n",
       "\n",
       "  label  \n",
       "0     1  \n",
       "1     0  \n",
       "2     0  \n",
       "3     1  \n",
       "4     1  "
      ]
     },
     "execution_count": 3,
     "metadata": {},
     "output_type": "execute_result"
    }
   ],
   "source": [
    "# 1. 데이터 불러오기\n",
    "# csv 데이터이므로 read_csv로 가져옵니다.\n",
    "movielens_rcmm = pd.read_csv(f\"{data_path}/movielens_rcmm_v2.csv\", dtype=str)\n",
    "print(movielens_rcmm.shape)\n",
    "movielens_rcmm.head()"
   ]
  },
  {
   "cell_type": "code",
   "execution_count": 4,
   "id": "0e1f035d",
   "metadata": {},
   "outputs": [],
   "source": [
    "# 2. 라벨 인코더(label encoder)\n",
    "# sklearn의 LabelEncoder(https://scikit-learn.org/stable/modules/generated/sklearn.preprocessing.LabelEncoder.html)\n",
    "# label은 제외한 각 컬럼을 돌면서 각각의 고윳값들을 0부터 n까지 매핑시킵니다.\n",
    "label_encoders = {col: LabelEncoder() for col in movielens_rcmm.columns[:-1]} # label은 제외\n",
    "\n",
    "for col, le in label_encoders.items():\n",
    "    movielens_rcmm[col] = le.fit_transform(movielens_rcmm[col])"
   ]
  },
  {
   "cell_type": "code",
   "execution_count": 5,
   "id": "2ea0d943",
   "metadata": {},
   "outputs": [],
   "source": [
    "movielens_rcmm['label'] = movielens_rcmm['label'].astype(np.float32)"
   ]
  },
  {
   "cell_type": "code",
   "execution_count": 6,
   "id": "c835bf3f",
   "metadata": {},
   "outputs": [],
   "source": [
    "# 3. 학습 데이터와 테스트데이터로 분리, 0.2 정도로 분리\n",
    "train_df, test_df = train_test_split(movielens_rcmm, test_size=0.2, random_state=42)"
   ]
  },
  {
   "cell_type": "code",
   "execution_count": 7,
   "id": "13ae85c2",
   "metadata": {},
   "outputs": [
    {
     "data": {
      "text/plain": [
       "array([6040, 3706,   10,   81,    4,   12,    1,   18,   18,   16,    2,\n",
       "          7,   21, 3439])"
      ]
     },
     "execution_count": 7,
     "metadata": {},
     "output_type": "execute_result"
    }
   ],
   "source": [
    "# 필요 컬럼들과 레이블 정의\n",
    "# 필드의 각 고유 개수를 정의하는 field_dims를 정의합니다. 이는  임베딩 때 활용됩니다. \n",
    "u_i_feature = ['user_id', 'movie_id']\n",
    "meta_features = ['movie_decade', 'movie_year', 'rating_year', 'rating_month', 'rating_decade', 'genre1','genre2', 'genre3', 'gender', 'age', 'occupation', 'zip']\n",
    "label = 'label'\n",
    "field_dims = np.max(movielens_rcmm[u_i_feature + meta_features].astype(np.int64).values, axis=0) + 1\n",
    "field_dims"
   ]
  },
  {
   "cell_type": "code",
   "execution_count": 8,
   "id": "df1233c2",
   "metadata": {},
   "outputs": [],
   "source": [
    "# 에포크, 학습률, 드롭아웃, 배치사이즈, 임베딩 크기 등 정의\n",
    "epochs=5\n",
    "learning_rate= 0.0001\n",
    "dropout= 0.4\n",
    "batch_size = 2048\n",
    "embed_dim= 16"
   ]
  },
  {
   "cell_type": "code",
   "execution_count": 9,
   "id": "643a072c",
   "metadata": {},
   "outputs": [],
   "source": [
    "class AutoIntMLP(Layer): \n",
    "    def __init__(self, field_dims, embedding_size, att_layer_num=3, att_head_num=2, att_res=True, dnn_hidden_units=(32, 32), dnn_activation='relu',\n",
    "                 l2_reg_dnn=0, l2_reg_embedding=1e-5, dnn_use_bn=False, dnn_dropout=0.4, init_std=0.0001):\n",
    "        super(AutoIntMLP, self).__init__()\n",
    "        self.embedding = FeaturesEmbedding(field_dims, embedding_size)\n",
    "        self.num_fields = len(field_dims)\n",
    "        self.embedding_size = embedding_size\n",
    "\n",
    "        self.final_layer = Dense(1, use_bias=False, kernel_initializer=tf.random_normal_initializer(stddev=init_std))\n",
    "        \n",
    "        self.dnn = MultiLayerPerceptron(self.embed_output_dim, dnn_hidden_units,\n",
    "                           activation=dnn_activation, l2_reg=l2_reg_dnn, dropout_rate=dnn_dropout, use_bn=dnn_use_bn,\n",
    "                           init_std=init_std, output_layer=True, device=device)\n",
    "        \n",
    "        self.int_layers = [MultiHeadSelfAttention(att_embedding_size=embedding_size, head_num=att_head_num, use_res=att_res) for _ in range(att_layer_num)]\n",
    "\n",
    "    def call(self, inputs):\n",
    "        embed_x = self.embedding(inputs)\n",
    "        dnn_embed = tf.reshape(embed_x, shape=(-1, self.embedding_size * self.num_fields))\n",
    "\n",
    "        att_input = embed_x\n",
    "        for layer in self.int_layers:\n",
    "            att_input = layer(att_input)\n",
    "\n",
    "        att_output = Flatten()(att_input)\n",
    "        att_output = self.final_layer(att_output)\n",
    "        \n",
    "        dnn_output = self.dnn(dnn_embed.view(-1, self.embed_output_dim))\n",
    "        y_pred = torch.sigmoid(att_output + dnn_output)\n",
    "        \n",
    "        return y_pred"
   ]
  },
  {
   "cell_type": "code",
   "execution_count": 10,
   "id": "8534db91",
   "metadata": {},
   "outputs": [],
   "source": [
    "class AutoIntMLPModel(Model):\n",
    "    def __init__(self, field_dims, embedding_size, att_layer_num=3, att_head_num=2, att_res=True, \n",
    "                 l2_reg_dnn=0, l2_reg_embedding=1e-5, dnn_use_bn=False, dnn_dropout=0.4, init_std=0.0001):\n",
    "        super(AutoIntMLPModel, self).__init__()\n",
    "        # 임베딩 레이어를 정의합니다. \n",
    "        self.embedding = FeaturesEmbedding(field_dims, embedding_size)\n",
    "        self.num_fields = len(field_dims)\n",
    "        self.embedding_size = embedding_size\n",
    "        # 마지막 출력 레이어를 정의합니다.\n",
    "        self.final_layer = Dense(1, use_bias=False, kernel_initializer=tf.random_normal_initializer(stddev=init_std))\n",
    "        # 멀티 레이어 퍼셉트론 레이어를 정의합니다.\n",
    "        self.int_layers = [MultiHeadSelfAttention(att_embedding_size=embedding_size, head_num=att_head_num, use_res=att_res) for _ in range(att_layer_num)]\n",
    "\n",
    "    def call(self, inputs):\n",
    "        # input 데이터에 해당되는 embedding 값을 가져옵니다.\n",
    "        att_input = self.embedding(inputs)\n",
    "        # 멀티 헤드 셀프 어텐션 레이어에서 상호작용을 수행합니다.\n",
    "        for layer in self.int_layers:\n",
    "            att_input = layer(att_input)\n",
    "\n",
    "        att_output = Flatten()(att_input)\n",
    "        # 최종 출력입니다. \n",
    "        att_output = self.final_layer(att_output)\n",
    "        # sigmoid로 예측값을 출력합니다.\n",
    "        y_pred = tf.nn.sigmoid(att_output)\n",
    "\n",
    "        return y_pred"
   ]
  },
  {
   "cell_type": "code",
   "execution_count": 11,
   "id": "09d0d8ec",
   "metadata": {},
   "outputs": [],
   "source": [
    "class FeaturesEmbedding(Layer):  \n",
    "    '''\n",
    "    임베딩 레이어입니다. \n",
    "    - 만약 피처(feature) 3개가 각각 10개, 20개, 30개의 고유값을 가진다면 feature_dims는 [10, 20, 30] 형태를 띄게 됩니다.\n",
    "    - 전체 임베딩을 해야 할 개수는 10+20+30 = 60이므로 '60 x 임베딩_차원_크기'의 행렬이 생성되게 됩니다.\n",
    "    '''\n",
    "    def __init__(self, field_dims, embed_dim, **kwargs):\n",
    "        super(FeaturesEmbedding, self).__init__(**kwargs)\n",
    "        self.total_dim = sum(field_dims)\n",
    "        self.embed_dim = embed_dim\n",
    "        self.offsets = np.array((0, *np.cumsum(field_dims)[:-1]), dtype=np.longlong)\n",
    "        self.embedding = tf.keras.layers.Embedding(input_dim=self.total_dim, output_dim=self.embed_dim)\n",
    "\n",
    "    def build(self, input_shape):\n",
    "        # 임베딩을 빌드하고 초기화합니다.\n",
    "        self.embedding.build(input_shape)\n",
    "        self.embedding.set_weights([tf.keras.initializers.GlorotUniform()(shape=self.embedding.weights[0].shape)])\n",
    "\n",
    "    def call(self, x):\n",
    "        # 들어온 입력의 임베딩을 가져니다.\n",
    "        x = x + tf.constant(self.offsets)\n",
    "        return self.embedding(x)"
   ]
  },
  {
   "cell_type": "code",
   "execution_count": 12,
   "id": "ae9c3814",
   "metadata": {},
   "outputs": [],
   "source": [
    "class MultiHeadSelfAttention(Layer):  \n",
    "    '''\n",
    "    멀티 헤드 셀프 어텐션 레이어입니다.\n",
    "    - 위에 작성한 수식과 같이 동작됩니다.\n",
    "    - 필요에 따라 잔차 연결(residual connection)도 진행합니다.\n",
    "    '''\n",
    "    def __init__(self, att_embedding_size=8, head_num=2, use_res=True, scaling=False, seed=1024, **kwargs):\n",
    "        if head_num <= 0:\n",
    "            raise ValueError('head_num must be a int > 0')\n",
    "        self.att_embedding_size = att_embedding_size\n",
    "        self.head_num = head_num\n",
    "        self.use_res = use_res\n",
    "        self.seed = seed\n",
    "        self.scaling = scaling\n",
    "        super(MultiHeadSelfAttention, self).__init__(**kwargs)\n",
    "\n",
    "    def build(self, input_shape):\n",
    "        if len(input_shape) != 3:\n",
    "            raise ValueError(\n",
    "                \"Unexpected inputs dimensions %d, expect to be 3 dimensions\" % (len(input_shape)))\n",
    "        embedding_size = int(input_shape[-1])\n",
    "        # 쿼리에 해당하는 매트릭스입니다. \n",
    "        self.W_Query = self.add_weight(name='query', shape=[embedding_size, self.att_embedding_size * self.head_num],\n",
    "                                       dtype=tf.float32,\n",
    "                                       initializer=TruncatedNormal(seed=self.seed))\n",
    "        # 키에 해당되는 매트릭스입니다.\n",
    "        self.W_key = self.add_weight(name='key', shape=[embedding_size, self.att_embedding_size * self.head_num],\n",
    "                                     dtype=tf.float32,\n",
    "                                     initializer=TruncatedNormal(seed=self.seed + 1))\n",
    "        # 값(value)에 해당되는 매트릭스입니다.\n",
    "        self.W_Value = self.add_weight(name='value', shape=[embedding_size, self.att_embedding_size * self.head_num],\n",
    "                                       dtype=tf.float32,\n",
    "                                       initializer=TruncatedNormal(seed=self.seed + 2))\n",
    "        # 필요하다면 잔차 연결도 할 수 있습니다.\n",
    "        if self.use_res:\n",
    "            self.W_Res = self.add_weight(name='res', shape=[embedding_size, self.att_embedding_size * self.head_num],\n",
    "                                         dtype=tf.float32,\n",
    "                                         initializer=TruncatedNormal(seed=self.seed))\n",
    "\n",
    "        super(MultiHeadSelfAttention, self).build(input_shape)\n",
    "\n",
    "    def call(self, inputs, **kwargs):\n",
    "        if K.ndim(inputs) != 3:\n",
    "            raise ValueError(\"Unexpected inputs dimensions %d, expect to be 3 dimensions\" % (K.ndim(inputs)))\n",
    "        \n",
    "        # 입력이 들어오면 쿼리, 키, 값(value)에 매칭되어 각각의 값을 가지고 옵니다.\n",
    "        querys = tf.tensordot(inputs, self.W_Query, axes=(-1, 0))  \n",
    "        keys = tf.tensordot(inputs, self.W_key, axes=(-1, 0))\n",
    "        values = tf.tensordot(inputs, self.W_Value, axes=(-1, 0))\n",
    "\n",
    "        # 헤드 개수에 따라 데이터를 분리해줍니다.\n",
    "        querys = tf.stack(tf.split(querys, self.head_num, axis=2))\n",
    "        keys = tf.stack(tf.split(keys, self.head_num, axis=2))\n",
    "        values = tf.stack(tf.split(values, self.head_num, axis=2))\n",
    "        \n",
    "        # 쿼리와 키를 먼저 곱해줍니다. 위 이미지의 식 (5)와 같습니다.\n",
    "        inner_product = tf.matmul(querys, keys, transpose_b=True)\n",
    "        if self.scaling:\n",
    "            inner_product /= self.att_embedding_size ** 0.5\n",
    "        self.normalized_att_scores =  tf.nn.softmax(inner_product)\n",
    "        \n",
    "        # 쿼리와 키에서 나온 어텐션 값을 값(value)에 곱해줍니다. 식 (6)과 같습니다.\n",
    "        result = tf.matmul(self.normalized_att_scores, values)\n",
    "        # 식 (7)과 같이 쪼개어진 멀테 헤드를 모아줍니다.\n",
    "        result = tf.concat(tf.split(result, self.head_num, ), axis=-1)\n",
    "        result = tf.squeeze(result, axis=0) \n",
    "\n",
    "        if self.use_res:\n",
    "            result += tf.tensordot(inputs, self.W_Res, axes=(-1, 0))\n",
    "        result = tf.nn.relu(result)\n",
    "        \n",
    "        # 그 결과 값을 리턴합니다.\n",
    "\n",
    "        return result\n",
    "\n",
    "    def compute_output_shape(self, input_shape):\n",
    "\n",
    "        return (None, input_shape[1], self.att_embedding_size * self.head_num)\n",
    "\n",
    "    def get_config(self, ):\n",
    "        config = {'att_embedding_size': self.att_embedding_size, 'head_num': self.head_num, 'use_res': self.use_res,'seed': self.seed}\n",
    "        base_config = super(MultiHeadSelfAttention, self).get_config()\n",
    "        base_config.update(config)\n",
    "        return base_config"
   ]
  },
  {
   "cell_type": "code",
   "execution_count": 13,
   "id": "18b78146",
   "metadata": {},
   "outputs": [],
   "source": [
    "autoIntMLP_model = AutoIntMLPModel(field_dims, embed_dim, att_layer_num=3, att_head_num=2, att_res=True,\n",
    "                             l2_reg_dnn=0, l2_reg_embedding=1e-5, dnn_use_bn=False\n",
    "                             , dnn_dropout=dropout, init_std=0.0001)"
   ]
  },
  {
   "cell_type": "code",
   "execution_count": 14,
   "id": "1e735823",
   "metadata": {},
   "outputs": [],
   "source": [
    "optimizer = Adam(learning_rate=learning_rate)\n",
    "loss_fn = BinaryCrossentropy(from_logits=False)\n",
    "# 모델 컴파일\n",
    "autoIntMLP_model.compile(optimizer=optimizer, loss=loss_fn, metrics=['binary_crossentropy'])"
   ]
  },
  {
   "cell_type": "code",
   "execution_count": 15,
   "id": "59d590eb",
   "metadata": {},
   "outputs": [
    {
     "name": "stdout",
     "output_type": "stream",
     "text": [
      "Epoch 1/5\n",
      "352/352 [==============================] - 7s 14ms/step - loss: 0.6738 - binary_crossentropy: 0.6738 - val_loss: 0.6328 - val_binary_crossentropy: 0.6328\n",
      "Epoch 2/5\n",
      "352/352 [==============================] - 4s 12ms/step - loss: 0.6054 - binary_crossentropy: 0.6054 - val_loss: 0.5939 - val_binary_crossentropy: 0.5939\n",
      "Epoch 3/5\n",
      "352/352 [==============================] - 4s 12ms/step - loss: 0.5717 - binary_crossentropy: 0.5717 - val_loss: 0.5568 - val_binary_crossentropy: 0.5568\n",
      "Epoch 4/5\n",
      "352/352 [==============================] - 4s 12ms/step - loss: 0.5413 - binary_crossentropy: 0.5413 - val_loss: 0.5464 - val_binary_crossentropy: 0.5464\n",
      "Epoch 5/5\n",
      "352/352 [==============================] - 4s 12ms/step - loss: 0.5350 - binary_crossentropy: 0.5350 - val_loss: 0.5437 - val_binary_crossentropy: 0.5437\n"
     ]
    }
   ],
   "source": [
    "history = autoIntMLP_model.fit(train_df[u_i_feature + meta_features], train_df[label], epochs=epochs, batch_size=batch_size, validation_split=0.1)"
   ]
  },
  {
   "cell_type": "code",
   "execution_count": 16,
   "id": "1a5fa0f8",
   "metadata": {},
   "outputs": [],
   "source": [
    "def test_model(model, test_df):\n",
    "    '''모델 테스트'''\n",
    "    user_pred_info = defaultdict(list)\n",
    "    total_rows = len(test_df)\n",
    "    for i in range(0, total_rows, batch_size):\n",
    "        features = test_df.iloc[i:i + batch_size, :-1].values\n",
    "        y_pred = model.predict(features, verbose=False)\n",
    "        for feature, p in zip(features, y_pred):\n",
    "            u_i = feature[:2]\n",
    "            user_pred_info[int(u_i[0])].append((int(u_i[1]), float(p)))\n",
    "    return user_pred_info"
   ]
  },
  {
   "cell_type": "code",
   "execution_count": 17,
   "id": "d21532bf",
   "metadata": {},
   "outputs": [
    {
     "name": "stderr",
     "output_type": "stream",
     "text": [
      "100%|██████████| 6035/6035 [00:00<00:00, 76173.55it/s]\n"
     ]
    }
   ],
   "source": [
    "# 사용자에게 예측된 정보를 저장하는 딕셔너리 \n",
    "user_pred_info = {}\n",
    "# top10개\n",
    "top = 10\n",
    "# 테스트 값을 가지고 옵니다. \n",
    "mymodel_user_pred_info = test_model(autoIntMLP_model, test_df)\n",
    "# 사용자마다 돌면서 예측 데이터 중 가장 높은 top 10만 가져옵니다. \n",
    "for user, data_info in tqdm(mymodel_user_pred_info.items(), total=len(mymodel_user_pred_info), position=0, leave=True):\n",
    "    ranklist = sorted(data_info, key=lambda s : s[1], reverse=True)[:top]\n",
    "    ranklist = list(dict.fromkeys([r[0] for r in ranklist]))\n",
    "    user_pred_info[str(user)] = ranklist\n",
    "# 원본 테스트 데이터에서 label이 1인 사용자 별 영화 정보를 가져옵니다.\n",
    "test_data = test_df[test_df['label']==1].groupby('user_id')['movie_id'].apply(list)"
   ]
  },
  {
   "cell_type": "code",
   "execution_count": 18,
   "id": "051611e6",
   "metadata": {},
   "outputs": [],
   "source": [
    "def get_DCG(ranklist, y_true):\n",
    "    dcg = 0.0\n",
    "    for i in range(len(ranklist)):\n",
    "        item = ranklist[i]\n",
    "        if item in y_true:\n",
    "            dcg += 1.0 / math.log(i + 2)\n",
    "    return  dcg\n",
    "\n",
    "def get_IDCG(ranklist, y_true):\n",
    "    idcg = 0.0\n",
    "    i = 0\n",
    "    for item in y_true:\n",
    "        if item in ranklist:\n",
    "            idcg += 1.0 / math.log(i + 2)\n",
    "            i += 1\n",
    "    return idcg\n",
    "\n",
    "def get_NDCG(ranklist, y_true):\n",
    "    '''NDCG 평가 지표'''\n",
    "    ranklist = np.array(ranklist).astype(int)\n",
    "    y_true = np.array(y_true).astype(int)\n",
    "    dcg = get_DCG(ranklist, y_true)\n",
    "    idcg = get_IDCG(y_true, y_true)\n",
    "    if idcg == 0:\n",
    "        return 0\n",
    "    return round( (dcg / idcg), 5)\n",
    "\n",
    "def get_hit_rate(ranklist, y_true):\n",
    "    '''hitrate 평가 지표'''\n",
    "    c = 0\n",
    "    for y in y_true:\n",
    "        if y in ranklist:\n",
    "            c += 1\n",
    "    return round( c / len(y_true), 5 )"
   ]
  },
  {
   "cell_type": "code",
   "execution_count": 19,
   "id": "eb75ec00",
   "metadata": {},
   "outputs": [
    {
     "name": "stderr",
     "output_type": "stream",
     "text": [
      "100%|██████████| 5994/5994 [00:00<00:00, 8548.20it/s]\n",
      "100%|██████████| 5994/5994 [00:00<00:00, 29121.31it/s]\n"
     ]
    }
   ],
   "source": [
    "mymodel_ndcg_result = {}\n",
    "mymodel_hitrate_result = {}\n",
    "\n",
    "# 모델 예측값과 원본 테스트 데이터를 비교해서 어느정도 성능이 나왔는지 NDCG와 Hitrate를 비교합니다.\n",
    "# [[YOUR CODE]]\n",
    "\n",
    "# NDCG \n",
    "for user, data_info in tqdm(test_data.items(), total=len(test_data), position=0, leave=True):\n",
    "    mymodel_pred = user_pred_info.get(str(user))\n",
    "\n",
    "    testset = list(set(np.array(data_info).astype(int)))\n",
    "    mymodel_pred = mymodel_pred[:top]\n",
    "\n",
    "    # NDCG 값 구하기\n",
    "    user_ndcg = get_NDCG(mymodel_pred, testset)\n",
    "\n",
    "    mymodel_ndcg_result[user] = user_ndcg\n",
    "    \n",
    "# Hitrate\n",
    "for user, data_info in tqdm(test_data.items(), total=len(test_data), position=0, leave=True):\n",
    "    mymodel_pred = user_pred_info.get(str(user))\n",
    "\n",
    "    testset = list(set(np.array(data_info).astype(int)))\n",
    "    mymodel_pred = mymodel_pred[:top]\n",
    "\n",
    "    # hitrate 값 구하기\n",
    "    user_hitrate = get_hit_rate(mymodel_pred, testset)\n",
    "\n",
    "    # 사용자 hitrate 결과 저장\n",
    "    mymodel_hitrate_result[user] = user_hitrate"
   ]
  },
  {
   "cell_type": "code",
   "execution_count": 20,
   "id": "57debba2",
   "metadata": {},
   "outputs": [
    {
     "name": "stdout",
     "output_type": "stream",
     "text": [
      " mymodel ndcg :  0.66275\n",
      " mymodel hitrate :  0.63281\n"
     ]
    }
   ],
   "source": [
    "print(\" mymodel ndcg : \", round(np.mean(list(mymodel_ndcg_result.values())), 5))\n",
    "print(\" mymodel hitrate : \", round(np.mean(list(mymodel_hitrate_result.values())), 5))"
   ]
  },
  {
   "cell_type": "code",
   "execution_count": 21,
   "id": "6cfd024c",
   "metadata": {},
   "outputs": [],
   "source": [
    "np.save('./autoint/field_dims_mlp.npy', field_dims)"
   ]
  },
  {
   "cell_type": "code",
   "execution_count": 22,
   "id": "1307d53b",
   "metadata": {},
   "outputs": [],
   "source": [
    "autoIntMLP_model.save_weights('./autoint/autoIntMLP_model_weights.h5')"
   ]
  },
  {
   "cell_type": "code",
   "execution_count": 23,
   "id": "cf645fa2",
   "metadata": {},
   "outputs": [
    {
     "data": {
      "text/plain": [
       "['./autoint/autoIntMLP_label_encoders.pkl']"
      ]
     },
     "execution_count": 23,
     "metadata": {},
     "output_type": "execute_result"
    }
   ],
   "source": [
    "import joblib \n",
    "\n",
    "joblib.dump(label_encoders, './autoint/autoIntMLP_label_encoders.pkl')"
   ]
  },
  {
   "cell_type": "code",
   "execution_count": 30,
   "id": "8332e8cd",
   "metadata": {},
   "outputs": [],
   "source": [
    "# 에포크, 학습률, 드롭아웃, 배치사이즈, 임베딩 크기 등 정의\n",
    "epochs=10\n",
    "learning_rate= 0.0001\n",
    "dropout= 0.4\n",
    "batch_size = 2048\n",
    "embed_dim= 16"
   ]
  },
  {
   "cell_type": "code",
   "execution_count": 31,
   "id": "e0bc6ee7",
   "metadata": {},
   "outputs": [
    {
     "name": "stdout",
     "output_type": "stream",
     "text": [
      "Epoch 1/10\n",
      "352/352 [==============================] - 6s 14ms/step - loss: 0.6737 - binary_crossentropy: 0.6737 - val_loss: 0.6314 - val_binary_crossentropy: 0.6314\n",
      "Epoch 2/10\n",
      "352/352 [==============================] - 4s 12ms/step - loss: 0.6044 - binary_crossentropy: 0.6044 - val_loss: 0.5940 - val_binary_crossentropy: 0.5940\n",
      "Epoch 3/10\n",
      "352/352 [==============================] - 4s 12ms/step - loss: 0.5769 - binary_crossentropy: 0.5769 - val_loss: 0.5643 - val_binary_crossentropy: 0.5643\n",
      "Epoch 4/10\n",
      "352/352 [==============================] - 4s 12ms/step - loss: 0.5448 - binary_crossentropy: 0.5448 - val_loss: 0.5476 - val_binary_crossentropy: 0.5476\n",
      "Epoch 5/10\n",
      "352/352 [==============================] - 4s 13ms/step - loss: 0.5363 - binary_crossentropy: 0.5363 - val_loss: 0.5448 - val_binary_crossentropy: 0.5448\n",
      "Epoch 6/10\n",
      "352/352 [==============================] - 4s 13ms/step - loss: 0.5335 - binary_crossentropy: 0.5335 - val_loss: 0.5431 - val_binary_crossentropy: 0.5431\n",
      "Epoch 7/10\n",
      "352/352 [==============================] - 4s 13ms/step - loss: 0.5320 - binary_crossentropy: 0.5320 - val_loss: 0.5424 - val_binary_crossentropy: 0.5424\n",
      "Epoch 8/10\n",
      "352/352 [==============================] - 4s 13ms/step - loss: 0.5311 - binary_crossentropy: 0.5311 - val_loss: 0.5423 - val_binary_crossentropy: 0.5423\n",
      "Epoch 9/10\n",
      "352/352 [==============================] - 4s 12ms/step - loss: 0.5305 - binary_crossentropy: 0.5305 - val_loss: 0.5418 - val_binary_crossentropy: 0.5418\n",
      "Epoch 10/10\n",
      "352/352 [==============================] - 4s 12ms/step - loss: 0.5302 - binary_crossentropy: 0.5302 - val_loss: 0.5417 - val_binary_crossentropy: 0.5417\n"
     ]
    },
    {
     "name": "stderr",
     "output_type": "stream",
     "text": [
      "100%|██████████| 6035/6035 [00:00<00:00, 73188.55it/s]\n",
      "100%|██████████| 5994/5994 [00:00<00:00, 8455.92it/s]\n",
      "100%|██████████| 5994/5994 [00:00<00:00, 24790.00it/s]"
     ]
    },
    {
     "name": "stdout",
     "output_type": "stream",
     "text": [
      " mymodel ndcg :  0.6627\n",
      " mymodel hitrate :  0.63302\n"
     ]
    },
    {
     "name": "stderr",
     "output_type": "stream",
     "text": [
      "\n"
     ]
    }
   ],
   "source": [
    "autoIntMLP_model = AutoIntMLPModel(field_dims, embed_dim, att_layer_num=3, att_head_num=2, att_res=True,\n",
    "                             l2_reg_dnn=0, l2_reg_embedding=1e-5, dnn_use_bn=False\n",
    "                             , dnn_dropout=dropout, init_std=0.0001)\n",
    "\n",
    "optimizer = Adam(learning_rate=learning_rate)\n",
    "\n",
    "loss_fn = BinaryCrossentropy(from_logits=False)\n",
    "\n",
    "# 모델 컴파일\n",
    "autoIntMLP_model.compile(optimizer=optimizer, loss=loss_fn, metrics=['binary_crossentropy'])\n",
    "history = autoIntMLP_model.fit(train_df[u_i_feature + meta_features], train_df[label], epochs=epochs, batch_size=batch_size, validation_split=0.1)\n",
    "\n",
    "# 사용자에게 예측된 정보를 저장하는 딕셔너리 \n",
    "user_pred_info = {}\n",
    "# top10개\n",
    "top = 10\n",
    "# 테스트 값을 가지고 옵니다. \n",
    "mymodel_user_pred_info = test_model(autoIntMLP_model, test_df)\n",
    "\n",
    "# 사용자마다 돌면서 예측 데이터 중 가장 높은 top 10만 가져옵니다. \n",
    "for user, data_info in tqdm(mymodel_user_pred_info.items(), total=len(mymodel_user_pred_info), position=0, leave=True):\n",
    "    ranklist = sorted(data_info, key=lambda s : s[1], reverse=True)[:top]\n",
    "    ranklist = list(dict.fromkeys([r[0] for r in ranklist]))\n",
    "    user_pred_info[str(user)] = ranklist\n",
    "    \n",
    "# 원본 테스트 데이터에서 label이 1인 사용자 별 영화 정보를 가져옵니다.\n",
    "test_data = test_df[test_df['label']==1].groupby('user_id')['movie_id'].apply(list)\n",
    "mymodel_ndcg_result = {}\n",
    "mymodel_hitrate_result = {}\n",
    "\n",
    "# 모델 예측값과 원본 테스트 데이터를 비교해서 어느정도 성능이 나왔는지 NDCG와 Hitrate를 비교합니다.\n",
    "# [[YOUR CODE]]\n",
    "\n",
    "# NDCG \n",
    "for user, data_info in tqdm(test_data.items(), total=len(test_data), position=0, leave=True):\n",
    "    mymodel_pred = user_pred_info.get(str(user))\n",
    "\n",
    "    testset = list(set(np.array(data_info).astype(int)))\n",
    "    mymodel_pred = mymodel_pred[:top]\n",
    "\n",
    "    # NDCG 값 구하기\n",
    "    user_ndcg = get_NDCG(mymodel_pred, testset)\n",
    "\n",
    "    mymodel_ndcg_result[user] = user_ndcg\n",
    "    \n",
    "# Hitrate\n",
    "for user, data_info in tqdm(test_data.items(), total=len(test_data), position=0, leave=True):\n",
    "    mymodel_pred = user_pred_info.get(str(user))\n",
    "\n",
    "    testset = list(set(np.array(data_info).astype(int)))\n",
    "    mymodel_pred = mymodel_pred[:top]\n",
    "\n",
    "    # hitrate 값 구하기\n",
    "    user_hitrate = get_hit_rate(mymodel_pred, testset)\n",
    "\n",
    "    # 사용자 hitrate 결과 저장\n",
    "    mymodel_hitrate_result[user] = user_hitrate\n",
    "print(\" mymodel ndcg : \", round(np.mean(list(mymodel_ndcg_result.values())), 5))\n",
    "print(\" mymodel hitrate : \", round(np.mean(list(mymodel_hitrate_result.values())), 5))    "
   ]
  },
  {
   "cell_type": "code",
   "execution_count": 32,
   "id": "6cdd24ba",
   "metadata": {},
   "outputs": [
    {
     "name": "stdout",
     "output_type": "stream",
     "text": [
      "\n",
      "Running with params: epochs=5, lr=0.0001, dropout=0.3, batch_size=1024, embed_dim=16\n",
      "Epoch 1/5\n",
      "704/704 [==============================] - 7s 8ms/step - loss: 0.6451 - binary_crossentropy: 0.6451 - val_loss: 0.5982 - val_binary_crossentropy: 0.5982\n",
      "Epoch 2/5\n",
      "704/704 [==============================] - 5s 8ms/step - loss: 0.5675 - binary_crossentropy: 0.5675 - val_loss: 0.5504 - val_binary_crossentropy: 0.5504\n",
      "Epoch 3/5\n",
      "704/704 [==============================] - 5s 8ms/step - loss: 0.5390 - binary_crossentropy: 0.5390 - val_loss: 0.5449 - val_binary_crossentropy: 0.5449\n",
      "Epoch 4/5\n",
      "704/704 [==============================] - 5s 8ms/step - loss: 0.5344 - binary_crossentropy: 0.5344 - val_loss: 0.5427 - val_binary_crossentropy: 0.5427\n",
      "Epoch 5/5\n",
      "704/704 [==============================] - 5s 8ms/step - loss: 0.5329 - binary_crossentropy: 0.5329 - val_loss: 0.5422 - val_binary_crossentropy: 0.5422\n"
     ]
    },
    {
     "name": "stderr",
     "output_type": "stream",
     "text": [
      "100%|██████████| 6035/6035 [00:00<00:00, 73104.84it/s]\n",
      "100%|██████████| 5994/5994 [00:00<00:00, 6876.39it/s]\n"
     ]
    },
    {
     "name": "stdout",
     "output_type": "stream",
     "text": [
      "Results -> NDCG: 0.66277, Hitrate: 0.63283\n",
      "\n",
      "Running with params: epochs=5, lr=0.0001, dropout=0.3, batch_size=1024, embed_dim=32\n",
      "Epoch 1/5\n",
      "704/704 [==============================] - 9s 10ms/step - loss: 0.6243 - binary_crossentropy: 0.6243 - val_loss: 0.5617 - val_binary_crossentropy: 0.5617\n",
      "Epoch 2/5\n",
      "704/704 [==============================] - 7s 10ms/step - loss: 0.5434 - binary_crossentropy: 0.5434 - val_loss: 0.5448 - val_binary_crossentropy: 0.5448\n",
      "Epoch 3/5\n",
      "704/704 [==============================] - 7s 10ms/step - loss: 0.5355 - binary_crossentropy: 0.5355 - val_loss: 0.5429 - val_binary_crossentropy: 0.5429\n",
      "Epoch 4/5\n",
      "704/704 [==============================] - 7s 10ms/step - loss: 0.5335 - binary_crossentropy: 0.5335 - val_loss: 0.5425 - val_binary_crossentropy: 0.5425\n",
      "Epoch 5/5\n",
      "704/704 [==============================] - 7s 10ms/step - loss: 0.5323 - binary_crossentropy: 0.5323 - val_loss: 0.5415 - val_binary_crossentropy: 0.5415\n"
     ]
    },
    {
     "name": "stderr",
     "output_type": "stream",
     "text": [
      "100%|██████████| 6035/6035 [00:00<00:00, 78581.59it/s]\n",
      "100%|██████████| 5994/5994 [00:00<00:00, 7057.56it/s]\n"
     ]
    },
    {
     "name": "stdout",
     "output_type": "stream",
     "text": [
      "Results -> NDCG: 0.66258, Hitrate: 0.6328\n",
      "\n",
      "Running with params: epochs=5, lr=0.0001, dropout=0.3, batch_size=2048, embed_dim=16\n",
      "Epoch 1/5\n",
      "352/352 [==============================] - 6s 13ms/step - loss: 0.6747 - binary_crossentropy: 0.6747 - val_loss: 0.6340 - val_binary_crossentropy: 0.6340\n",
      "Epoch 2/5\n",
      "352/352 [==============================] - 4s 12ms/step - loss: 0.6062 - binary_crossentropy: 0.6062 - val_loss: 0.5962 - val_binary_crossentropy: 0.5962\n",
      "Epoch 3/5\n",
      "352/352 [==============================] - 4s 12ms/step - loss: 0.5796 - binary_crossentropy: 0.5796 - val_loss: 0.5625 - val_binary_crossentropy: 0.5625\n",
      "Epoch 4/5\n",
      "352/352 [==============================] - 4s 12ms/step - loss: 0.5429 - binary_crossentropy: 0.5429 - val_loss: 0.5468 - val_binary_crossentropy: 0.5468\n",
      "Epoch 5/5\n",
      "352/352 [==============================] - 4s 12ms/step - loss: 0.5355 - binary_crossentropy: 0.5355 - val_loss: 0.5440 - val_binary_crossentropy: 0.5440\n"
     ]
    },
    {
     "name": "stderr",
     "output_type": "stream",
     "text": [
      "100%|██████████| 6035/6035 [00:00<00:00, 75703.57it/s]\n",
      "100%|██████████| 5994/5994 [00:00<00:00, 7083.03it/s]\n"
     ]
    },
    {
     "name": "stdout",
     "output_type": "stream",
     "text": [
      "Results -> NDCG: 0.66316, Hitrate: 0.63307\n",
      "\n",
      "Running with params: epochs=5, lr=0.0001, dropout=0.3, batch_size=2048, embed_dim=32\n",
      "Epoch 1/5\n",
      "352/352 [==============================] - 8s 18ms/step - loss: 0.6527 - binary_crossentropy: 0.6527 - val_loss: 0.6012 - val_binary_crossentropy: 0.6012\n",
      "Epoch 2/5\n",
      "352/352 [==============================] - 6s 17ms/step - loss: 0.5682 - binary_crossentropy: 0.5682 - val_loss: 0.5491 - val_binary_crossentropy: 0.5491\n",
      "Epoch 3/5\n",
      "352/352 [==============================] - 6s 17ms/step - loss: 0.5380 - binary_crossentropy: 0.5380 - val_loss: 0.5437 - val_binary_crossentropy: 0.5437\n",
      "Epoch 4/5\n",
      "352/352 [==============================] - 6s 17ms/step - loss: 0.5340 - binary_crossentropy: 0.5340 - val_loss: 0.5425 - val_binary_crossentropy: 0.5425\n",
      "Epoch 5/5\n",
      "352/352 [==============================] - 6s 17ms/step - loss: 0.5325 - binary_crossentropy: 0.5325 - val_loss: 0.5422 - val_binary_crossentropy: 0.5422\n"
     ]
    },
    {
     "name": "stderr",
     "output_type": "stream",
     "text": [
      "100%|██████████| 6035/6035 [00:00<00:00, 71294.13it/s]\n",
      "100%|██████████| 5994/5994 [00:00<00:00, 6881.99it/s]\n"
     ]
    },
    {
     "name": "stdout",
     "output_type": "stream",
     "text": [
      "Results -> NDCG: 0.66247, Hitrate: 0.63311\n",
      "\n",
      "Running with params: epochs=5, lr=0.0001, dropout=0.4, batch_size=1024, embed_dim=16\n",
      "Epoch 1/5\n",
      "704/704 [==============================] - 7s 8ms/step - loss: 0.6471 - binary_crossentropy: 0.6471 - val_loss: 0.5992 - val_binary_crossentropy: 0.5992\n",
      "Epoch 2/5\n",
      "704/704 [==============================] - 5s 8ms/step - loss: 0.5658 - binary_crossentropy: 0.5658 - val_loss: 0.5506 - val_binary_crossentropy: 0.5506\n",
      "Epoch 3/5\n",
      "704/704 [==============================] - 5s 8ms/step - loss: 0.5388 - binary_crossentropy: 0.5388 - val_loss: 0.5443 - val_binary_crossentropy: 0.5443\n",
      "Epoch 4/5\n",
      "704/704 [==============================] - 5s 8ms/step - loss: 0.5340 - binary_crossentropy: 0.5340 - val_loss: 0.5424 - val_binary_crossentropy: 0.5424\n",
      "Epoch 5/5\n",
      "704/704 [==============================] - 5s 8ms/step - loss: 0.5322 - binary_crossentropy: 0.5322 - val_loss: 0.5422 - val_binary_crossentropy: 0.5422\n"
     ]
    },
    {
     "name": "stderr",
     "output_type": "stream",
     "text": [
      "100%|██████████| 6035/6035 [00:00<00:00, 70747.35it/s]\n",
      "100%|██████████| 5994/5994 [00:00<00:00, 7139.08it/s]\n"
     ]
    },
    {
     "name": "stdout",
     "output_type": "stream",
     "text": [
      "Results -> NDCG: 0.66237, Hitrate: 0.6329\n",
      "\n",
      "Running with params: epochs=5, lr=0.0001, dropout=0.4, batch_size=1024, embed_dim=32\n",
      "Epoch 1/5\n",
      "704/704 [==============================] - 9s 11ms/step - loss: 0.6216 - binary_crossentropy: 0.6216 - val_loss: 0.5568 - val_binary_crossentropy: 0.5568\n",
      "Epoch 2/5\n",
      "704/704 [==============================] - 7s 10ms/step - loss: 0.5422 - binary_crossentropy: 0.5422 - val_loss: 0.5444 - val_binary_crossentropy: 0.5444\n",
      "Epoch 3/5\n",
      "704/704 [==============================] - 7s 10ms/step - loss: 0.5356 - binary_crossentropy: 0.5356 - val_loss: 0.5424 - val_binary_crossentropy: 0.5424\n",
      "Epoch 4/5\n",
      "704/704 [==============================] - 7s 10ms/step - loss: 0.5338 - binary_crossentropy: 0.5338 - val_loss: 0.5422 - val_binary_crossentropy: 0.5422\n",
      "Epoch 5/5\n",
      "704/704 [==============================] - 7s 10ms/step - loss: 0.5328 - binary_crossentropy: 0.5328 - val_loss: 0.5417 - val_binary_crossentropy: 0.5417\n"
     ]
    },
    {
     "name": "stderr",
     "output_type": "stream",
     "text": [
      "100%|██████████| 6035/6035 [00:00<00:00, 73815.39it/s]\n",
      "100%|██████████| 5994/5994 [00:00<00:00, 7008.72it/s]\n"
     ]
    },
    {
     "name": "stdout",
     "output_type": "stream",
     "text": [
      "Results -> NDCG: 0.66213, Hitrate: 0.63289\n",
      "\n",
      "Running with params: epochs=5, lr=0.0001, dropout=0.4, batch_size=2048, embed_dim=16\n",
      "Epoch 1/5\n",
      "352/352 [==============================] - 6s 13ms/step - loss: 0.6738 - binary_crossentropy: 0.6738 - val_loss: 0.6321 - val_binary_crossentropy: 0.6321\n",
      "Epoch 2/5\n",
      "352/352 [==============================] - 4s 12ms/step - loss: 0.6049 - binary_crossentropy: 0.6049 - val_loss: 0.5946 - val_binary_crossentropy: 0.5946\n",
      "Epoch 3/5\n",
      "352/352 [==============================] - 4s 12ms/step - loss: 0.5772 - binary_crossentropy: 0.5772 - val_loss: 0.5632 - val_binary_crossentropy: 0.5632\n",
      "Epoch 4/5\n",
      "352/352 [==============================] - 4s 12ms/step - loss: 0.5437 - binary_crossentropy: 0.5437 - val_loss: 0.5474 - val_binary_crossentropy: 0.5474\n",
      "Epoch 5/5\n",
      "352/352 [==============================] - 4s 12ms/step - loss: 0.5358 - binary_crossentropy: 0.5358 - val_loss: 0.5446 - val_binary_crossentropy: 0.5446\n"
     ]
    },
    {
     "name": "stderr",
     "output_type": "stream",
     "text": [
      "100%|██████████| 6035/6035 [00:00<00:00, 73276.05it/s]\n",
      "100%|██████████| 5994/5994 [00:00<00:00, 7116.77it/s]\n"
     ]
    },
    {
     "name": "stdout",
     "output_type": "stream",
     "text": [
      "Results -> NDCG: 0.6632, Hitrate: 0.63307\n",
      "\n",
      "Running with params: epochs=5, lr=0.0001, dropout=0.4, batch_size=2048, embed_dim=32\n",
      "Epoch 1/5\n",
      "352/352 [==============================] - 8s 18ms/step - loss: 0.6540 - binary_crossentropy: 0.6540 - val_loss: 0.6019 - val_binary_crossentropy: 0.6019\n",
      "Epoch 2/5\n",
      "352/352 [==============================] - 6s 17ms/step - loss: 0.5680 - binary_crossentropy: 0.5680 - val_loss: 0.5494 - val_binary_crossentropy: 0.5494\n",
      "Epoch 3/5\n",
      "704/704 [==============================] - 5s 8ms/step - loss: 0.5178 - binary_crossentropy: 0.5178 - val_loss: 0.5321 - val_binary_crossentropy: 0.5321\n"
     ]
    },
    {
     "name": "stderr",
     "output_type": "stream",
     "text": [
      "100%|██████████| 6035/6035 [00:00<00:00, 76487.98it/s]\n",
      "100%|██████████| 5994/5994 [00:00<00:00, 7148.90it/s]\n"
     ]
    },
    {
     "name": "stdout",
     "output_type": "stream",
     "text": [
      "Results -> NDCG: 0.66703, Hitrate: 0.6348\n",
      "\n",
      "Running with params: epochs=5, lr=0.001, dropout=0.3, batch_size=1024, embed_dim=32\n",
      "Epoch 1/5\n",
      "704/704 [==============================] - 9s 10ms/step - loss: 0.5653 - binary_crossentropy: 0.5653 - val_loss: 0.5425 - val_binary_crossentropy: 0.5425\n",
      "Epoch 2/5\n",
      "704/704 [==============================] - 7s 10ms/step - loss: 0.5324 - binary_crossentropy: 0.5324 - val_loss: 0.5387 - val_binary_crossentropy: 0.5387\n",
      "Epoch 3/5\n",
      "704/704 [==============================] - 7s 10ms/step - loss: 0.5245 - binary_crossentropy: 0.5245 - val_loss: 0.5342 - val_binary_crossentropy: 0.5342\n",
      "Epoch 4/5\n",
      "704/704 [==============================] - 7s 10ms/step - loss: 0.5190 - binary_crossentropy: 0.5190 - val_loss: 0.5301 - val_binary_crossentropy: 0.5301\n",
      "Epoch 5/5\n",
      "704/704 [==============================] - 7s 10ms/step - loss: 0.5129 - binary_crossentropy: 0.5129 - val_loss: 0.5284 - val_binary_crossentropy: 0.5284\n"
     ]
    },
    {
     "name": "stderr",
     "output_type": "stream",
     "text": [
      "100%|██████████| 6035/6035 [00:00<00:00, 73273.08it/s]\n",
      "100%|██████████| 5994/5994 [00:00<00:00, 7119.99it/s]\n"
     ]
    },
    {
     "name": "stdout",
     "output_type": "stream",
     "text": [
      "Results -> NDCG: 0.66929, Hitrate: 0.63638\n",
      "\n",
      "Running with params: epochs=5, lr=0.001, dropout=0.3, batch_size=2048, embed_dim=16\n",
      "Epoch 1/5\n",
      "352/352 [==============================] - 6s 13ms/step - loss: 0.5921 - binary_crossentropy: 0.5921 - val_loss: 0.5471 - val_binary_crossentropy: 0.5471\n",
      "Epoch 2/5\n",
      "352/352 [==============================] - 4s 12ms/step - loss: 0.5376 - binary_crossentropy: 0.5376 - val_loss: 0.5400 - val_binary_crossentropy: 0.5400\n",
      "Epoch 3/5\n",
      "352/352 [==============================] - 4s 12ms/step - loss: 0.5294 - binary_crossentropy: 0.5294 - val_loss: 0.5355 - val_binary_crossentropy: 0.5355\n",
      "Epoch 4/5\n",
      "352/352 [==============================] - 4s 12ms/step - loss: 0.5237 - binary_crossentropy: 0.5237 - val_loss: 0.5336 - val_binary_crossentropy: 0.5336\n",
      "Epoch 5/5\n",
      "352/352 [==============================] - 4s 12ms/step - loss: 0.5203 - binary_crossentropy: 0.5203 - val_loss: 0.5328 - val_binary_crossentropy: 0.5328\n"
     ]
    },
    {
     "name": "stderr",
     "output_type": "stream",
     "text": [
      "100%|██████████| 6035/6035 [00:00<00:00, 72446.39it/s]\n",
      "100%|██████████| 5994/5994 [00:00<00:00, 7000.16it/s]\n"
     ]
    },
    {
     "name": "stdout",
     "output_type": "stream",
     "text": [
      "Results -> NDCG: 0.6644, Hitrate: 0.63392\n",
      "\n",
      "Running with params: epochs=5, lr=0.001, dropout=0.3, batch_size=2048, embed_dim=32\n",
      "Epoch 1/5\n",
      "352/352 [==============================] - 8s 18ms/step - loss: 0.5773 - binary_crossentropy: 0.5773 - val_loss: 0.5444 - val_binary_crossentropy: 0.5444\n",
      "Epoch 2/5\n",
      "352/352 [==============================] - 6s 17ms/step - loss: 0.5348 - binary_crossentropy: 0.5348 - val_loss: 0.5366 - val_binary_crossentropy: 0.5366\n",
      "Epoch 3/5\n",
      "352/352 [==============================] - 6s 17ms/step - loss: 0.5263 - binary_crossentropy: 0.5263 - val_loss: 0.5333 - val_binary_crossentropy: 0.5333\n",
      "Epoch 4/5\n",
      "352/352 [==============================] - 6s 17ms/step - loss: 0.5209 - binary_crossentropy: 0.5209 - val_loss: 0.5319 - val_binary_crossentropy: 0.5319\n",
      "Epoch 5/5\n",
      "352/352 [==============================] - 6s 17ms/step - loss: 0.5167 - binary_crossentropy: 0.5167 - val_loss: 0.5305 - val_binary_crossentropy: 0.5305\n"
     ]
    },
    {
     "name": "stderr",
     "output_type": "stream",
     "text": [
      "100%|██████████| 6035/6035 [00:00<00:00, 72767.33it/s]\n",
      "100%|██████████| 5994/5994 [00:00<00:00, 7203.63it/s]\n"
     ]
    },
    {
     "name": "stdout",
     "output_type": "stream",
     "text": [
      "Results -> NDCG: 0.6677, Hitrate: 0.63566\n",
      "\n",
      "Running with params: epochs=5, lr=0.001, dropout=0.4, batch_size=1024, embed_dim=16\n",
      "Epoch 1/5\n",
      "704/704 [==============================] - 7s 8ms/step - loss: 0.5711 - binary_crossentropy: 0.5711 - val_loss: 0.5431 - val_binary_crossentropy: 0.5431\n",
      "Epoch 2/5\n",
      "704/704 [==============================] - 5s 7ms/step - loss: 0.5340 - binary_crossentropy: 0.5340 - val_loss: 0.5356 - val_binary_crossentropy: 0.5356\n",
      "Epoch 3/5\n",
      "704/704 [==============================] - 5s 8ms/step - loss: 0.5259 - binary_crossentropy: 0.5259 - val_loss: 0.5344 - val_binary_crossentropy: 0.5344\n",
      "Epoch 4/5\n",
      "704/704 [==============================] - 5s 8ms/step - loss: 0.5215 - binary_crossentropy: 0.5215 - val_loss: 0.5333 - val_binary_crossentropy: 0.5333\n",
      "Epoch 5/5\n",
      "704/704 [==============================] - 5s 8ms/step - loss: 0.5182 - binary_crossentropy: 0.5182 - val_loss: 0.5316 - val_binary_crossentropy: 0.5316\n"
     ]
    },
    {
     "name": "stderr",
     "output_type": "stream",
     "text": [
      "100%|██████████| 6035/6035 [00:00<00:00, 73583.85it/s]\n",
      "100%|██████████| 5994/5994 [00:00<00:00, 6903.30it/s]\n"
     ]
    },
    {
     "name": "stdout",
     "output_type": "stream",
     "text": [
      "Results -> NDCG: 0.66705, Hitrate: 0.63591\n",
      "\n",
      "Running with params: epochs=5, lr=0.001, dropout=0.4, batch_size=1024, embed_dim=32\n",
      "Epoch 1/5\n",
      "704/704 [==============================] - 9s 10ms/step - loss: 0.5660 - binary_crossentropy: 0.5660 - val_loss: 0.5453 - val_binary_crossentropy: 0.5453\n",
      "Epoch 2/5\n",
      "704/704 [==============================] - 7s 10ms/step - loss: 0.5338 - binary_crossentropy: 0.5338 - val_loss: 0.5364 - val_binary_crossentropy: 0.5364\n",
      "Epoch 3/5\n",
      "704/704 [==============================] - 7s 10ms/step - loss: 0.5252 - binary_crossentropy: 0.5252 - val_loss: 0.5334 - val_binary_crossentropy: 0.5334\n",
      "Epoch 4/5\n",
      "704/704 [==============================] - 7s 10ms/step - loss: 0.5198 - binary_crossentropy: 0.5198 - val_loss: 0.5334 - val_binary_crossentropy: 0.5334\n",
      "Epoch 5/5\n",
      "704/704 [==============================] - 7s 10ms/step - loss: 0.5145 - binary_crossentropy: 0.5145 - val_loss: 0.5282 - val_binary_crossentropy: 0.5282\n"
     ]
    },
    {
     "name": "stderr",
     "output_type": "stream",
     "text": [
      "100%|██████████| 6035/6035 [00:00<00:00, 76060.03it/s]\n",
      "100%|██████████| 5994/5994 [00:00<00:00, 7012.44it/s]\n"
     ]
    },
    {
     "name": "stdout",
     "output_type": "stream",
     "text": [
      "Results -> NDCG: 0.66931, Hitrate: 0.63697\n",
      "\n",
      "Running with params: epochs=5, lr=0.001, dropout=0.4, batch_size=2048, embed_dim=16\n",
      "Epoch 1/5\n",
      "352/352 [==============================] - 6s 13ms/step - loss: 0.5893 - binary_crossentropy: 0.5893 - val_loss: 0.5465 - val_binary_crossentropy: 0.5465\n",
      "Epoch 2/5\n",
      "352/352 [==============================] - 4s 12ms/step - loss: 0.5374 - binary_crossentropy: 0.5374 - val_loss: 0.5401 - val_binary_crossentropy: 0.5401\n",
      "Epoch 3/5\n",
      "352/352 [==============================] - 4s 12ms/step - loss: 0.5298 - binary_crossentropy: 0.5298 - val_loss: 0.5350 - val_binary_crossentropy: 0.5350\n",
      "Epoch 4/5\n",
      "352/352 [==============================] - 4s 12ms/step - loss: 0.5239 - binary_crossentropy: 0.5239 - val_loss: 0.5339 - val_binary_crossentropy: 0.5339\n",
      "Epoch 5/5\n",
      "352/352 [==============================] - 4s 12ms/step - loss: 0.5201 - binary_crossentropy: 0.5201 - val_loss: 0.5322 - val_binary_crossentropy: 0.5322\n"
     ]
    },
    {
     "name": "stderr",
     "output_type": "stream",
     "text": [
      "100%|██████████| 6035/6035 [00:00<00:00, 66526.56it/s]\n",
      "100%|██████████| 5994/5994 [00:00<00:00, 7220.28it/s]\n"
     ]
    },
    {
     "name": "stdout",
     "output_type": "stream",
     "text": [
      "Results -> NDCG: 0.66511, Hitrate: 0.63404\n",
      "\n",
      "Running with params: epochs=5, lr=0.001, dropout=0.4, batch_size=2048, embed_dim=32\n",
      "Epoch 1/5\n",
      "352/352 [==============================] - 7s 18ms/step - loss: 0.5778 - binary_crossentropy: 0.5778 - val_loss: 0.5452 - val_binary_crossentropy: 0.5452\n",
      "Epoch 2/5\n",
      "352/352 [==============================] - 6s 17ms/step - loss: 0.5362 - binary_crossentropy: 0.5362 - val_loss: 0.5386 - val_binary_crossentropy: 0.5386\n",
      "Epoch 3/5\n",
      "352/352 [==============================] - 6s 17ms/step - loss: 0.5277 - binary_crossentropy: 0.5277 - val_loss: 0.5341 - val_binary_crossentropy: 0.5341\n",
      "Epoch 4/5\n",
      "352/352 [==============================] - 6s 17ms/step - loss: 0.5222 - binary_crossentropy: 0.5222 - val_loss: 0.5333 - val_binary_crossentropy: 0.5333\n",
      "Epoch 5/5\n",
      "352/352 [==============================] - 6s 17ms/step - loss: 0.5181 - binary_crossentropy: 0.5181 - val_loss: 0.5310 - val_binary_crossentropy: 0.5310\n"
     ]
    },
    {
     "name": "stderr",
     "output_type": "stream",
     "text": [
      "100%|██████████| 6035/6035 [00:00<00:00, 76813.39it/s]\n",
      "100%|██████████| 5994/5994 [00:00<00:00, 7167.39it/s]\n"
     ]
    },
    {
     "name": "stdout",
     "output_type": "stream",
     "text": [
      "Results -> NDCG: 0.66727, Hitrate: 0.63553\n",
      "\n",
      "Running with params: epochs=10, lr=0.0001, dropout=0.3, batch_size=1024, embed_dim=16\n",
      "Epoch 1/10\n",
      "704/704 [==============================] - 7s 9ms/step - loss: 0.6467 - binary_crossentropy: 0.6467 - val_loss: 0.5963 - val_binary_crossentropy: 0.5963\n",
      "Epoch 2/10\n",
      "704/704 [==============================] - 5s 8ms/step - loss: 0.5592 - binary_crossentropy: 0.5592 - val_loss: 0.5487 - val_binary_crossentropy: 0.5487\n",
      "Epoch 3/10\n",
      "704/704 [==============================] - 5s 8ms/step - loss: 0.5375 - binary_crossentropy: 0.5375 - val_loss: 0.5437 - val_binary_crossentropy: 0.5437\n",
      "Epoch 4/10\n",
      "704/704 [==============================] - 5s 8ms/step - loss: 0.5335 - binary_crossentropy: 0.5335 - val_loss: 0.5422 - val_binary_crossentropy: 0.5422\n",
      "Epoch 5/10\n",
      "704/704 [==============================] - 5s 8ms/step - loss: 0.5320 - binary_crossentropy: 0.5320 - val_loss: 0.5419 - val_binary_crossentropy: 0.5419\n",
      "Epoch 6/10\n",
      "704/704 [==============================] - 5s 8ms/step - loss: 0.5310 - binary_crossentropy: 0.5310 - val_loss: 0.5411 - val_binary_crossentropy: 0.5411\n",
      "Epoch 7/10\n",
      "704/704 [==============================] - 5s 8ms/step - loss: 0.5304 - binary_crossentropy: 0.5304 - val_loss: 0.5407 - val_binary_crossentropy: 0.5407\n",
      "Epoch 8/10\n",
      "704/704 [==============================] - 5s 8ms/step - loss: 0.5298 - binary_crossentropy: 0.5298 - val_loss: 0.5404 - val_binary_crossentropy: 0.5404\n",
      "Epoch 9/10\n",
      "704/704 [==============================] - 5s 8ms/step - loss: 0.5293 - binary_crossentropy: 0.5293 - val_loss: 0.5406 - val_binary_crossentropy: 0.5406\n",
      "Epoch 10/10\n",
      "704/704 [==============================] - 5s 8ms/step - loss: 0.5288 - binary_crossentropy: 0.5288 - val_loss: 0.5399 - val_binary_crossentropy: 0.5399\n"
     ]
    },
    {
     "name": "stderr",
     "output_type": "stream",
     "text": [
      "100%|██████████| 6035/6035 [00:00<00:00, 75261.95it/s]\n",
      "100%|██████████| 5994/5994 [00:00<00:00, 7204.58it/s]\n"
     ]
    },
    {
     "name": "stdout",
     "output_type": "stream",
     "text": [
      "Results -> NDCG: 0.66229, Hitrate: 0.63258\n",
      "\n",
      "Running with params: epochs=10, lr=0.0001, dropout=0.3, batch_size=1024, embed_dim=32\n",
      "Epoch 1/10\n",
      "704/704 [==============================] - 8s 10ms/step - loss: 0.6221 - binary_crossentropy: 0.6221 - val_loss: 0.5578 - val_binary_crossentropy: 0.5578\n",
      "Epoch 2/10\n",
      "704/704 [==============================] - 7s 10ms/step - loss: 0.5424 - binary_crossentropy: 0.5424 - val_loss: 0.5445 - val_binary_crossentropy: 0.5445\n",
      "Epoch 3/10\n",
      "704/704 [==============================] - 7s 10ms/step - loss: 0.5351 - binary_crossentropy: 0.5351 - val_loss: 0.5419 - val_binary_crossentropy: 0.5419\n",
      "Epoch 4/10\n",
      "704/704 [==============================] - 7s 10ms/step - loss: 0.5330 - binary_crossentropy: 0.5330 - val_loss: 0.5411 - val_binary_crossentropy: 0.5411\n",
      "Epoch 5/10\n",
      "704/704 [==============================] - 7s 10ms/step - loss: 0.5318 - binary_crossentropy: 0.5318 - val_loss: 0.5409 - val_binary_crossentropy: 0.5409\n",
      "Epoch 6/10\n",
      "704/704 [==============================] - 7s 10ms/step - loss: 0.5308 - binary_crossentropy: 0.5308 - val_loss: 0.5405 - val_binary_crossentropy: 0.5405\n",
      "Epoch 7/10\n",
      "704/704 [==============================] - 7s 10ms/step - loss: 0.5299 - binary_crossentropy: 0.5299 - val_loss: 0.5402 - val_binary_crossentropy: 0.5402\n",
      "Epoch 8/10\n",
      "704/704 [==============================] - 7s 10ms/step - loss: 0.5289 - binary_crossentropy: 0.5289 - val_loss: 0.5389 - val_binary_crossentropy: 0.5389\n",
      "Epoch 9/10\n",
      "704/704 [==============================] - 7s 10ms/step - loss: 0.5274 - binary_crossentropy: 0.5274 - val_loss: 0.5376 - val_binary_crossentropy: 0.5376\n",
      "Epoch 10/10\n",
      "704/704 [==============================] - 7s 10ms/step - loss: 0.5252 - binary_crossentropy: 0.5252 - val_loss: 0.5361 - val_binary_crossentropy: 0.5361\n"
     ]
    },
    {
     "name": "stderr",
     "output_type": "stream",
     "text": [
      "100%|██████████| 6035/6035 [00:00<00:00, 76939.47it/s]\n",
      "100%|██████████| 5994/5994 [00:00<00:00, 7058.95it/s]\n"
     ]
    },
    {
     "name": "stdout",
     "output_type": "stream",
     "text": [
      "Results -> NDCG: 0.66273, Hitrate: 0.63291\n",
      "\n",
      "Running with params: epochs=10, lr=0.0001, dropout=0.3, batch_size=2048, embed_dim=16\n",
      "Epoch 1/10\n",
      "352/352 [==============================] - 6s 13ms/step - loss: 0.6740 - binary_crossentropy: 0.6740 - val_loss: 0.6327 - val_binary_crossentropy: 0.6327\n",
      "Epoch 2/10\n",
      "352/352 [==============================] - 4s 12ms/step - loss: 0.6051 - binary_crossentropy: 0.6051 - val_loss: 0.5937 - val_binary_crossentropy: 0.5937\n",
      "Epoch 3/10\n",
      "352/352 [==============================] - 4s 12ms/step - loss: 0.5729 - binary_crossentropy: 0.5729 - val_loss: 0.5577 - val_binary_crossentropy: 0.5577\n",
      "Epoch 4/10\n",
      "352/352 [==============================] - 4s 12ms/step - loss: 0.5420 - binary_crossentropy: 0.5420 - val_loss: 0.5463 - val_binary_crossentropy: 0.5463\n",
      "Epoch 5/10\n",
      "352/352 [==============================] - 4s 12ms/step - loss: 0.5353 - binary_crossentropy: 0.5353 - val_loss: 0.5438 - val_binary_crossentropy: 0.5438\n",
      "Epoch 6/10\n",
      "352/352 [==============================] - 4s 12ms/step - loss: 0.5325 - binary_crossentropy: 0.5325 - val_loss: 0.5425 - val_binary_crossentropy: 0.5425\n",
      "Epoch 7/10\n",
      "352/352 [==============================] - 4s 12ms/step - loss: 0.5312 - binary_crossentropy: 0.5312 - val_loss: 0.5422 - val_binary_crossentropy: 0.5422\n",
      "Epoch 8/10\n",
      "221/352 [=================>............] - ETA: 1s - loss: 0.5298 - binary_crossentropy: 0.5298Epoch 1/10\n",
      "704/704 [==============================] - 7s 8ms/step - loss: 0.6462 - binary_crossentropy: 0.6462 - val_loss: 0.6002 - val_binary_crossentropy: 0.6002\n",
      "Epoch 2/10\n",
      "704/704 [==============================] - 5s 8ms/step - loss: 0.5729 - binary_crossentropy: 0.5729 - val_loss: 0.5512 - val_binary_crossentropy: 0.5512\n",
      "Epoch 3/10\n",
      "704/704 [==============================] - 5s 8ms/step - loss: 0.5393 - binary_crossentropy: 0.5393 - val_loss: 0.5445 - val_binary_crossentropy: 0.5445\n",
      "Epoch 4/10\n",
      "704/704 [==============================] - 5s 8ms/step - loss: 0.5345 - binary_crossentropy: 0.5345 - val_loss: 0.5430 - val_binary_crossentropy: 0.5430\n",
      "Epoch 5/10\n",
      "704/704 [==============================] - 5s 8ms/step - loss: 0.5328 - binary_crossentropy: 0.5328 - val_loss: 0.5423 - val_binary_crossentropy: 0.5423\n",
      "Epoch 6/10\n",
      "704/704 [==============================] - 5s 8ms/step - loss: 0.5319 - binary_crossentropy: 0.5319 - val_loss: 0.5418 - val_binary_crossentropy: 0.5418\n",
      "Epoch 7/10\n",
      "704/704 [==============================] - 5s 8ms/step - loss: 0.5314 - binary_crossentropy: 0.5314 - val_loss: 0.5423 - val_binary_crossentropy: 0.5423\n",
      "Epoch 8/10\n",
      "704/704 [==============================] - 5s 8ms/step - loss: 0.5311 - binary_crossentropy: 0.5311 - val_loss: 0.5420 - val_binary_crossentropy: 0.5420\n",
      "Epoch 9/10\n",
      "704/704 [==============================] - 5s 8ms/step - loss: 0.5307 - binary_crossentropy: 0.5307 - val_loss: 0.5417 - val_binary_crossentropy: 0.5417\n",
      "Epoch 10/10\n",
      "704/704 [==============================] - 5s 8ms/step - loss: 0.5305 - binary_crossentropy: 0.5305 - val_loss: 0.5416 - val_binary_crossentropy: 0.5416\n"
     ]
    },
    {
     "name": "stderr",
     "output_type": "stream",
     "text": [
      "100%|██████████| 6035/6035 [00:00<00:00, 74813.28it/s]\n",
      "100%|██████████| 5994/5994 [00:00<00:00, 7192.40it/s]\n"
     ]
    },
    {
     "name": "stdout",
     "output_type": "stream",
     "text": [
      "Results -> NDCG: 0.66233, Hitrate: 0.63296\n",
      "\n",
      "Running with params: epochs=10, lr=0.0001, dropout=0.4, batch_size=1024, embed_dim=32\n",
      "Epoch 1/10\n",
      "352/352 [==============================] - 4s 12ms/step - loss: 0.5499 - binary_crossentropy: 0.5499 - val_loss: 0.5484 - val_binary_crossentropy: 0.5484\n",
      "Epoch 4/10\n",
      "352/352 [==============================] - 4s 12ms/step - loss: 0.5372 - binary_crossentropy: 0.5372 - val_loss: 0.5446 - val_binary_crossentropy: 0.5446\n",
      "Epoch 5/10\n",
      "352/352 [==============================] - 4s 12ms/step - loss: 0.5337 - binary_crossentropy: 0.5337 - val_loss: 0.5435 - val_binary_crossentropy: 0.5435\n",
      "Epoch 6/10\n",
      "352/352 [==============================] - 4s 12ms/step - loss: 0.5321 - binary_crossentropy: 0.5321 - val_loss: 0.5422 - val_binary_crossentropy: 0.5422\n",
      "Epoch 7/10\n",
      "352/352 [==============================] - 4s 12ms/step - loss: 0.5311 - binary_crossentropy: 0.5311 - val_loss: 0.5419 - val_binary_crossentropy: 0.5419\n",
      "Epoch 8/10\n",
      "352/352 [==============================] - 4s 12ms/step - loss: 0.5305 - binary_crossentropy: 0.5305 - val_loss: 0.5419 - val_binary_crossentropy: 0.5419\n",
      "Epoch 9/10\n",
      "352/352 [==============================] - 4s 13ms/step - loss: 0.5300 - binary_crossentropy: 0.5300 - val_loss: 0.5414 - val_binary_crossentropy: 0.5414\n",
      "Epoch 10/10\n",
      "352/352 [==============================] - 4s 12ms/step - loss: 0.5296 - binary_crossentropy: 0.5296 - val_loss: 0.5412 - val_binary_crossentropy: 0.5412\n"
     ]
    },
    {
     "name": "stderr",
     "output_type": "stream",
     "text": [
      "100%|██████████| 6035/6035 [00:00<00:00, 77557.82it/s]\n",
      "100%|██████████| 5994/5994 [00:00<00:00, 7082.59it/s]\n"
     ]
    },
    {
     "name": "stdout",
     "output_type": "stream",
     "text": [
      "Results -> NDCG: 0.66289, Hitrate: 0.63286\n",
      "\n",
      "Running with params: epochs=10, lr=0.0001, dropout=0.4, batch_size=2048, embed_dim=32\n",
      "Epoch 1/10\n",
      "352/352 [==============================] - 7s 18ms/step - loss: 0.6537 - binary_crossentropy: 0.6537 - val_loss: 0.6021 - val_binary_crossentropy: 0.6021\n",
      "Epoch 2/10\n",
      "352/352 [==============================] - 6s 17ms/step - loss: 0.5753 - binary_crossentropy: 0.5753 - val_loss: 0.5519 - val_binary_crossentropy: 0.5519\n",
      "Epoch 3/10\n",
      "352/352 [==============================] - 6s 17ms/step - loss: 0.5394 - binary_crossentropy: 0.5394 - val_loss: 0.5444 - val_binary_crossentropy: 0.5444\n",
      "Epoch 4/10\n",
      "352/352 [==============================] - 6s 17ms/step - loss: 0.5343 - binary_crossentropy: 0.5343 - val_loss: 0.5430 - val_binary_crossentropy: 0.5430\n",
      "Epoch 5/10\n",
      "352/352 [==============================] - 6s 17ms/step - loss: 0.5325 - binary_crossentropy: 0.5325 - val_loss: 0.5418 - val_binary_crossentropy: 0.5418\n",
      "Epoch 6/10\n",
      "352/352 [==============================] - 6s 17ms/step - loss: 0.5315 - binary_crossentropy: 0.5315 - val_loss: 0.5417 - val_binary_crossentropy: 0.5417\n",
      "Epoch 7/10\n",
      "352/352 [==============================] - 6s 17ms/step - loss: 0.5307 - binary_crossentropy: 0.5307 - val_loss: 0.5416 - val_binary_crossentropy: 0.5416\n",
      "Epoch 8/10\n",
      "352/352 [==============================] - 6s 17ms/step - loss: 0.5302 - binary_crossentropy: 0.5302 - val_loss: 0.5411 - val_binary_crossentropy: 0.5411\n",
      "Epoch 9/10\n",
      "352/352 [==============================] - 6s 17ms/step - loss: 0.5296 - binary_crossentropy: 0.5296 - val_loss: 0.5406 - val_binary_crossentropy: 0.5406\n",
      "Epoch 10/10\n",
      "352/352 [==============================] - 6s 17ms/step - loss: 0.5291 - binary_crossentropy: 0.5291 - val_loss: 0.5399 - val_binary_crossentropy: 0.5399\n"
     ]
    },
    {
     "name": "stderr",
     "output_type": "stream",
     "text": [
      "100%|██████████| 6035/6035 [00:00<00:00, 79482.47it/s]\n",
      "100%|██████████| 5994/5994 [00:00<00:00, 7219.72it/s]\n"
     ]
    },
    {
     "name": "stdout",
     "output_type": "stream",
     "text": [
      "Results -> NDCG: 0.66258, Hitrate: 0.63307\n",
      "\n",
      "Running with params: epochs=10, lr=0.001, dropout=0.3, batch_size=1024, embed_dim=16\n",
      "Epoch 1/10\n",
      "704/704 [==============================] - 7s 8ms/step - loss: 0.5718 - binary_crossentropy: 0.5718 - val_loss: 0.5455 - val_binary_crossentropy: 0.5455\n",
      "Epoch 2/10\n",
      "704/704 [==============================] - 5s 8ms/step - loss: 0.5371 - binary_crossentropy: 0.5371 - val_loss: 0.5387 - val_binary_crossentropy: 0.5387\n",
      "Epoch 3/10\n",
      "704/704 [==============================] - 5s 8ms/step - loss: 0.5288 - binary_crossentropy: 0.5288 - val_loss: 0.5350 - val_binary_crossentropy: 0.5350\n",
      "Epoch 4/10\n",
      "704/704 [==============================] - 5s 8ms/step - loss: 0.5234 - binary_crossentropy: 0.5234 - val_loss: 0.5331 - val_binary_crossentropy: 0.5331\n",
      "Epoch 5/10\n",
      "704/704 [==============================] - 5s 8ms/step - loss: 0.5196 - binary_crossentropy: 0.5196 - val_loss: 0.5321 - val_binary_crossentropy: 0.5321\n",
      "Epoch 6/10\n",
      "704/704 [==============================] - 5s 8ms/step - loss: 0.5163 - binary_crossentropy: 0.5163 - val_loss: 0.5305 - val_binary_crossentropy: 0.5305\n",
      "Epoch 7/10\n",
      "704/704 [==============================] - 5s 8ms/step - loss: 0.5124 - binary_crossentropy: 0.5124 - val_loss: 0.5317 - val_binary_crossentropy: 0.5317\n",
      "Epoch 8/10\n",
      "704/704 [==============================] - 5s 8ms/step - loss: 0.5080 - binary_crossentropy: 0.5080 - val_loss: 0.5299 - val_binary_crossentropy: 0.5299\n",
      "Epoch 9/10\n",
      "704/704 [==============================] - 5s 8ms/step - loss: 0.5035 - binary_crossentropy: 0.5035 - val_loss: 0.5286 - val_binary_crossentropy: 0.5286\n",
      "Epoch 10/10\n",
      "704/704 [==============================] - 5s 8ms/step - loss: 0.4988 - binary_crossentropy: 0.4988 - val_loss: 0.5284 - val_binary_crossentropy: 0.5284\n"
     ]
    },
    {
     "name": "stderr",
     "output_type": "stream",
     "text": [
      "100%|██████████| 6035/6035 [00:00<00:00, 73662.87it/s]\n",
      "100%|██████████| 5994/5994 [00:00<00:00, 7065.94it/s]\n"
     ]
    },
    {
     "name": "stdout",
     "output_type": "stream",
     "text": [
      "Results -> NDCG: 0.67207, Hitrate: 0.63747\n",
      "\n",
      "Running with params: epochs=10, lr=0.001, dropout=0.3, batch_size=1024, embed_dim=32\n",
      "Epoch 1/10\n",
      "704/704 [==============================] - 8s 10ms/step - loss: 0.5646 - binary_crossentropy: 0.5646 - val_loss: 0.5411 - val_binary_crossentropy: 0.5411\n",
      "Epoch 2/10\n",
      "704/704 [==============================] - 7s 10ms/step - loss: 0.5317 - binary_crossentropy: 0.5317 - val_loss: 0.5350 - val_binary_crossentropy: 0.5350\n",
      "Epoch 3/10\n",
      "704/704 [==============================] - 7s 10ms/step - loss: 0.5242 - binary_crossentropy: 0.5242 - val_loss: 0.5334 - val_binary_crossentropy: 0.5334\n",
      "Epoch 4/10\n",
      "704/704 [==============================] - 7s 10ms/step - loss: 0.5190 - binary_crossentropy: 0.5190 - val_loss: 0.5315 - val_binary_crossentropy: 0.5315\n",
      "Epoch 5/10\n",
      "704/704 [==============================] - 7s 10ms/step - loss: 0.5134 - binary_crossentropy: 0.5134 - val_loss: 0.5285 - val_binary_crossentropy: 0.5285\n",
      "Epoch 6/10\n",
      "704/704 [==============================] - 7s 10ms/step - loss: 0.5066 - binary_crossentropy: 0.5066 - val_loss: 0.5261 - val_binary_crossentropy: 0.5261\n",
      "Epoch 7/10\n",
      "704/704 [==============================] - 7s 10ms/step - loss: 0.4989 - binary_crossentropy: 0.4989 - val_loss: 0.5249 - val_binary_crossentropy: 0.5249\n",
      "Epoch 8/10\n",
      "704/704 [==============================] - 7s 10ms/step - loss: 0.4908 - binary_crossentropy: 0.4908 - val_loss: 0.5258 - val_binary_crossentropy: 0.5258\n",
      "Epoch 9/10\n",
      "704/704 [==============================] - 7s 10ms/step - loss: 0.4834 - binary_crossentropy: 0.4834 - val_loss: 0.5296 - val_binary_crossentropy: 0.5296\n",
      "Epoch 10/10\n",
      "704/704 [==============================] - 7s 10ms/step - loss: 0.4756 - binary_crossentropy: 0.4756 - val_loss: 0.5309 - val_binary_crossentropy: 0.5309\n"
     ]
    },
    {
     "name": "stderr",
     "output_type": "stream",
     "text": [
      "100%|██████████| 6035/6035 [00:00<00:00, 78799.07it/s]\n",
      "100%|██████████| 5994/5994 [00:00<00:00, 6998.88it/s]\n"
     ]
    },
    {
     "name": "stdout",
     "output_type": "stream",
     "text": [
      "Results -> NDCG: 0.67213, Hitrate: 0.63916\n",
      "\n",
      "Running with params: epochs=10, lr=0.001, dropout=0.3, batch_size=2048, embed_dim=16\n",
      "Epoch 1/10\n",
      "352/352 [==============================] - 6s 13ms/step - loss: 0.5873 - binary_crossentropy: 0.5873 - val_loss: 0.5458 - val_binary_crossentropy: 0.5458\n",
      "Epoch 2/10\n",
      "352/352 [==============================] - 4s 12ms/step - loss: 0.5374 - binary_crossentropy: 0.5374 - val_loss: 0.5410 - val_binary_crossentropy: 0.5410\n",
      "Epoch 3/10\n",
      "352/352 [==============================] - 4s 12ms/step - loss: 0.5301 - binary_crossentropy: 0.5301 - val_loss: 0.5354 - val_binary_crossentropy: 0.5354\n",
      "Epoch 4/10\n",
      "352/352 [==============================] - 4s 12ms/step - loss: 0.5240 - binary_crossentropy: 0.5240 - val_loss: 0.5341 - val_binary_crossentropy: 0.5341\n",
      "Epoch 5/10\n",
      "352/352 [==============================] - 4s 12ms/step - loss: 0.5200 - binary_crossentropy: 0.5200 - val_loss: 0.5326 - val_binary_crossentropy: 0.5326\n",
      "Epoch 6/10\n",
      "352/352 [==============================] - 4s 12ms/step - loss: 0.5173 - binary_crossentropy: 0.5173 - val_loss: 0.5314 - val_binary_crossentropy: 0.5314\n",
      "Epoch 7/10\n",
      "352/352 [==============================] - 4s 12ms/step - loss: 0.5149 - binary_crossentropy: 0.5149 - val_loss: 0.5299 - val_binary_crossentropy: 0.5299\n",
      "Epoch 8/10\n",
      "352/352 [==============================] - 4s 12ms/step - loss: 0.5123 - binary_crossentropy: 0.5123 - val_loss: 0.5292 - val_binary_crossentropy: 0.5292\n",
      "Epoch 9/10\n",
      "352/352 [==============================] - 4s 12ms/step - loss: 0.5092 - binary_crossentropy: 0.5092 - val_loss: 0.5292 - val_binary_crossentropy: 0.5292\n",
      "Epoch 10/10\n",
      "352/352 [==============================] - 4s 13ms/step - loss: 0.5056 - binary_crossentropy: 0.5056 - val_loss: 0.5279 - val_binary_crossentropy: 0.5279\n"
     ]
    },
    {
     "name": "stderr",
     "output_type": "stream",
     "text": [
      "100%|██████████| 6035/6035 [00:00<00:00, 77702.10it/s]\n",
      "100%|██████████| 5994/5994 [00:00<00:00, 7176.33it/s]\n"
     ]
    },
    {
     "name": "stdout",
     "output_type": "stream",
     "text": [
      "Results -> NDCG: 0.6701, Hitrate: 0.63707\n",
      "\n",
      "Running with params: epochs=10, lr=0.001, dropout=0.3, batch_size=2048, embed_dim=32\n",
      "Epoch 1/10\n",
      "352/352 [==============================] - 7s 18ms/step - loss: 0.5765 - binary_crossentropy: 0.5765 - val_loss: 0.5465 - val_binary_crossentropy: 0.5465\n",
      "Epoch 2/10\n",
      "352/352 [==============================] - 6s 17ms/step - loss: 0.5360 - binary_crossentropy: 0.5360 - val_loss: 0.5366 - val_binary_crossentropy: 0.5366\n",
      "Epoch 3/10\n",
      "352/352 [==============================] - 6s 17ms/step - loss: 0.5272 - binary_crossentropy: 0.5272 - val_loss: 0.5345 - val_binary_crossentropy: 0.5345\n",
      "Epoch 4/10\n",
      "352/352 [==============================] - 6s 17ms/step - loss: 0.5221 - binary_crossentropy: 0.5221 - val_loss: 0.5326 - val_binary_crossentropy: 0.5326\n",
      "Epoch 5/10\n",
      "352/352 [==============================] - 6s 17ms/step - loss: 0.5184 - binary_crossentropy: 0.5184 - val_loss: 0.5308 - val_binary_crossentropy: 0.5308\n",
      "Epoch 6/10\n",
      "352/352 [==============================] - 6s 17ms/step - loss: 0.5146 - binary_crossentropy: 0.5146 - val_loss: 0.5296 - val_binary_crossentropy: 0.5296\n",
      "Epoch 7/10\n",
      "352/352 [==============================] - 6s 17ms/step - loss: 0.5106 - binary_crossentropy: 0.5106 - val_loss: 0.5284 - val_binary_crossentropy: 0.5284\n",
      "Epoch 8/10\n",
      "352/352 [==============================] - 6s 17ms/step - loss: 0.5050 - binary_crossentropy: 0.5050 - val_loss: 0.5273 - val_binary_crossentropy: 0.5273\n",
      "Epoch 9/10\n",
      "352/352 [==============================] - 6s 17ms/step - loss: 0.4986 - binary_crossentropy: 0.4986 - val_loss: 0.5267 - val_binary_crossentropy: 0.5267\n",
      "Epoch 10/10\n",
      "352/352 [==============================] - 6s 17ms/step - loss: 0.4917 - binary_crossentropy: 0.4917 - val_loss: 0.5267 - val_binary_crossentropy: 0.5267\n"
     ]
    },
    {
     "name": "stderr",
     "output_type": "stream",
     "text": [
      "100%|██████████| 6035/6035 [00:00<00:00, 75016.82it/s]\n",
      "100%|██████████| 5994/5994 [00:00<00:00, 6720.08it/s]\n"
     ]
    },
    {
     "name": "stdout",
     "output_type": "stream",
     "text": [
      "Results -> NDCG: 0.67241, Hitrate: 0.6382\n",
      "\n",
      "Running with params: epochs=10, lr=0.001, dropout=0.4, batch_size=1024, embed_dim=16\n",
      "Epoch 1/10\n",
      "704/704 [==============================] - 7s 8ms/step - loss: 0.5724 - binary_crossentropy: 0.5724 - val_loss: 0.5440 - val_binary_crossentropy: 0.5440\n",
      "Epoch 2/10\n",
      "704/704 [==============================] - 5s 8ms/step - loss: 0.5353 - binary_crossentropy: 0.5353 - val_loss: 0.5377 - val_binary_crossentropy: 0.5377\n",
      "Epoch 3/10\n",
      "704/704 [==============================] - 5s 8ms/step - loss: 0.5269 - binary_crossentropy: 0.5269 - val_loss: 0.5341 - val_binary_crossentropy: 0.5341\n",
      "Epoch 4/10\n",
      "704/704 [==============================] - 5s 8ms/step - loss: 0.5219 - binary_crossentropy: 0.5219 - val_loss: 0.5328 - val_binary_crossentropy: 0.5328\n",
      "Epoch 5/10\n",
      "704/704 [==============================] - 6s 8ms/step - loss: 0.5185 - binary_crossentropy: 0.5185 - val_loss: 0.5322 - val_binary_crossentropy: 0.5322\n",
      "Epoch 6/10\n",
      "704/704 [==============================] - 6s 8ms/step - loss: 0.5155 - binary_crossentropy: 0.5155 - val_loss: 0.5328 - val_binary_crossentropy: 0.5328\n",
      "Epoch 7/10\n",
      "704/704 [==============================] - 5s 8ms/step - loss: 0.5122 - binary_crossentropy: 0.5122 - val_loss: 0.5305 - val_binary_crossentropy: 0.5305\n",
      "Epoch 8/10\n",
      "704/704 [==============================] - 5s 8ms/step - loss: 0.5083 - binary_crossentropy: 0.5083 - val_loss: 0.5285 - val_binary_crossentropy: 0.5285\n",
      "Epoch 9/10\n",
      "704/704 [==============================] - 6s 8ms/step - loss: 0.5035 - binary_crossentropy: 0.5035 - val_loss: 0.5289 - val_binary_crossentropy: 0.5289\n",
      "Epoch 10/10\n",
      "704/704 [==============================] - 5s 8ms/step - loss: 0.4987 - binary_crossentropy: 0.4987 - val_loss: 0.5289 - val_binary_crossentropy: 0.5289\n"
     ]
    },
    {
     "name": "stderr",
     "output_type": "stream",
     "text": [
      "100%|██████████| 6035/6035 [00:00<00:00, 68248.33it/s]\n",
      "100%|██████████| 5994/5994 [00:00<00:00, 7142.10it/s]\n"
     ]
    },
    {
     "name": "stdout",
     "output_type": "stream",
     "text": [
      "Results -> NDCG: 0.66935, Hitrate: 0.63625\n",
      "\n",
      "Running with params: epochs=10, lr=0.001, dropout=0.4, batch_size=1024, embed_dim=32\n",
      "Epoch 1/10\n",
      "704/704 [==============================] - 9s 11ms/step - loss: 0.5660 - binary_crossentropy: 0.5660 - val_loss: 0.5431 - val_binary_crossentropy: 0.5431\n",
      "Epoch 2/10\n",
      "704/704 [==============================] - 7s 10ms/step - loss: 0.5329 - binary_crossentropy: 0.5329 - val_loss: 0.5368 - val_binary_crossentropy: 0.5368\n",
      "Epoch 3/10\n",
      "704/704 [==============================] - 7s 10ms/step - loss: 0.5250 - binary_crossentropy: 0.5250 - val_loss: 0.5333 - val_binary_crossentropy: 0.5333\n",
      "Epoch 4/10\n",
      "704/704 [==============================] - 7s 10ms/step - loss: 0.5198 - binary_crossentropy: 0.5198 - val_loss: 0.5316 - val_binary_crossentropy: 0.5316\n",
      "Epoch 5/10\n",
      "704/704 [==============================] - 7s 10ms/step - loss: 0.5143 - binary_crossentropy: 0.5143 - val_loss: 0.5284 - val_binary_crossentropy: 0.5284\n",
      "Epoch 6/10\n",
      "704/704 [==============================] - 7s 10ms/step - loss: 0.5074 - binary_crossentropy: 0.5074 - val_loss: 0.5264 - val_binary_crossentropy: 0.5264\n",
      "Epoch 7/10\n",
      "704/704 [==============================] - 7s 10ms/step - loss: 0.5000 - binary_crossentropy: 0.5000 - val_loss: 0.5270 - val_binary_crossentropy: 0.5270\n",
      "Epoch 8/10\n",
      "704/704 [==============================] - 7s 10ms/step - loss: 0.4924 - binary_crossentropy: 0.4924 - val_loss: 0.5294 - val_binary_crossentropy: 0.5294\n",
      "Epoch 9/10\n",
      "704/704 [==============================] - 7s 10ms/step - loss: 0.4847 - binary_crossentropy: 0.4847 - val_loss: 0.5277 - val_binary_crossentropy: 0.5277\n",
      "Epoch 10/10\n",
      "704/704 [==============================] - 7s 10ms/step - loss: 0.4771 - binary_crossentropy: 0.4771 - val_loss: 0.5300 - val_binary_crossentropy: 0.5300\n"
     ]
    },
    {
     "name": "stderr",
     "output_type": "stream",
     "text": [
      "100%|██████████| 6035/6035 [00:00<00:00, 70881.47it/s]\n",
      "100%|██████████| 5994/5994 [00:00<00:00, 6963.90it/s]\n"
     ]
    },
    {
     "name": "stdout",
     "output_type": "stream",
     "text": [
      "Results -> NDCG: 0.67155, Hitrate: 0.63882\n",
      "\n",
      "Running with params: epochs=10, lr=0.001, dropout=0.4, batch_size=2048, embed_dim=16\n",
      "Epoch 1/10\n",
      "352/352 [==============================] - 6s 13ms/step - loss: 0.5908 - binary_crossentropy: 0.5908 - val_loss: 0.5460 - val_binary_crossentropy: 0.5460\n",
      "Epoch 2/10\n",
      "352/352 [==============================] - 4s 12ms/step - loss: 0.5378 - binary_crossentropy: 0.5378 - val_loss: 0.5410 - val_binary_crossentropy: 0.5410\n",
      "Epoch 3/10\n",
      "352/352 [==============================] - 4s 12ms/step - loss: 0.5304 - binary_crossentropy: 0.5304 - val_loss: 0.5351 - val_binary_crossentropy: 0.5351\n",
      "Epoch 4/10\n",
      "352/352 [==============================] - 4s 12ms/step - loss: 0.5240 - binary_crossentropy: 0.5240 - val_loss: 0.5336 - val_binary_crossentropy: 0.5336\n",
      "Epoch 5/10\n",
      "352/352 [==============================] - 4s 12ms/step - loss: 0.5199 - binary_crossentropy: 0.5199 - val_loss: 0.5328 - val_binary_crossentropy: 0.5328\n",
      "Epoch 6/10\n",
      "352/352 [==============================] - 4s 13ms/step - loss: 0.5173 - binary_crossentropy: 0.5173 - val_loss: 0.5321 - val_binary_crossentropy: 0.5321\n",
      "Epoch 7/10\n",
      "352/352 [==============================] - 4s 13ms/step - loss: 0.5147 - binary_crossentropy: 0.5147 - val_loss: 0.5311 - val_binary_crossentropy: 0.5311\n",
      "Epoch 8/10\n",
      "352/352 [==============================] - 4s 13ms/step - loss: 0.5118 - binary_crossentropy: 0.5118 - val_loss: 0.5305 - val_binary_crossentropy: 0.5305\n",
      "Epoch 9/10\n",
      "352/352 [==============================] - 4s 13ms/step - loss: 0.5084 - binary_crossentropy: 0.5084 - val_loss: 0.5290 - val_binary_crossentropy: 0.5290\n",
      "Epoch 10/10\n",
      "352/352 [==============================] - 4s 13ms/step - loss: 0.5049 - binary_crossentropy: 0.5049 - val_loss: 0.5291 - val_binary_crossentropy: 0.5291\n"
     ]
    },
    {
     "name": "stderr",
     "output_type": "stream",
     "text": [
      "100%|██████████| 6035/6035 [00:00<00:00, 69839.49it/s]\n",
      "100%|██████████| 5994/5994 [00:00<00:00, 6899.87it/s]\n"
     ]
    },
    {
     "name": "stdout",
     "output_type": "stream",
     "text": [
      "Results -> NDCG: 0.669, Hitrate: 0.63668\n",
      "\n",
      "Running with params: epochs=10, lr=0.001, dropout=0.4, batch_size=2048, embed_dim=32\n",
      "Epoch 1/10\n",
      "352/352 [==============================] - 8s 18ms/step - loss: 0.5779 - binary_crossentropy: 0.5779 - val_loss: 0.5459 - val_binary_crossentropy: 0.5459\n",
      "Epoch 2/10\n",
      "352/352 [==============================] - 6s 17ms/step - loss: 0.5358 - binary_crossentropy: 0.5358 - val_loss: 0.5376 - val_binary_crossentropy: 0.5376\n",
      "Epoch 3/10\n",
      "352/352 [==============================] - 6s 17ms/step - loss: 0.5270 - binary_crossentropy: 0.5270 - val_loss: 0.5339 - val_binary_crossentropy: 0.5339\n",
      "Epoch 4/10\n",
      "352/352 [==============================] - 6s 17ms/step - loss: 0.5217 - binary_crossentropy: 0.5217 - val_loss: 0.5320 - val_binary_crossentropy: 0.5320\n",
      "Epoch 5/10\n",
      "352/352 [==============================] - 6s 17ms/step - loss: 0.5169 - binary_crossentropy: 0.5169 - val_loss: 0.5312 - val_binary_crossentropy: 0.5312\n",
      "Epoch 6/10\n",
      "352/352 [==============================] - 6s 17ms/step - loss: 0.5118 - binary_crossentropy: 0.5118 - val_loss: 0.5274 - val_binary_crossentropy: 0.5274\n",
      "Epoch 7/10\n",
      "352/352 [==============================] - 6s 17ms/step - loss: 0.5063 - binary_crossentropy: 0.5063 - val_loss: 0.5258 - val_binary_crossentropy: 0.5258\n",
      "Epoch 8/10\n",
      "352/352 [==============================] - 6s 17ms/step - loss: 0.5013 - binary_crossentropy: 0.5013 - val_loss: 0.5240 - val_binary_crossentropy: 0.5240\n",
      "Epoch 9/10\n",
      "352/352 [==============================] - 6s 17ms/step - loss: 0.4961 - binary_crossentropy: 0.4961 - val_loss: 0.5244 - val_binary_crossentropy: 0.5244\n",
      "Epoch 10/10\n",
      "352/352 [==============================] - 6s 17ms/step - loss: 0.4907 - binary_crossentropy: 0.4907 - val_loss: 0.5254 - val_binary_crossentropy: 0.5254\n"
     ]
    },
    {
     "name": "stderr",
     "output_type": "stream",
     "text": [
      "100%|██████████| 6035/6035 [00:00<00:00, 70689.86it/s]\n",
      "100%|██████████| 5994/5994 [00:00<00:00, 7099.61it/s]"
     ]
    },
    {
     "name": "stdout",
     "output_type": "stream",
     "text": [
      "Results -> NDCG: 0.67295, Hitrate: 0.63947\n",
      "\n",
      "Final Results:\n",
      "{'params': (5, 0.0001, 0.3, 1024, 16), 'ndcg': 0.66277, 'hitrate': 0.63283}\n",
      "{'params': (5, 0.0001, 0.3, 1024, 32), 'ndcg': 0.66258, 'hitrate': 0.6328}\n",
      "{'params': (5, 0.0001, 0.3, 2048, 16), 'ndcg': 0.66316, 'hitrate': 0.63307}\n",
      "{'params': (5, 0.0001, 0.3, 2048, 32), 'ndcg': 0.66247, 'hitrate': 0.63311}\n",
      "{'params': (5, 0.0001, 0.4, 1024, 16), 'ndcg': 0.66237, 'hitrate': 0.6329}\n",
      "{'params': (5, 0.0001, 0.4, 1024, 32), 'ndcg': 0.66213, 'hitrate': 0.63289}\n",
      "{'params': (5, 0.0001, 0.4, 2048, 16), 'ndcg': 0.6632, 'hitrate': 0.63307}\n",
      "{'params': (5, 0.0001, 0.4, 2048, 32), 'ndcg': 0.66274, 'hitrate': 0.63323}\n",
      "{'params': (5, 0.001, 0.3, 1024, 16), 'ndcg': 0.66703, 'hitrate': 0.6348}\n",
      "{'params': (5, 0.001, 0.3, 1024, 32), 'ndcg': 0.66929, 'hitrate': 0.63638}\n",
      "{'params': (5, 0.001, 0.3, 2048, 16), 'ndcg': 0.6644, 'hitrate': 0.63392}\n",
      "{'params': (5, 0.001, 0.3, 2048, 32), 'ndcg': 0.6677, 'hitrate': 0.63566}\n",
      "{'params': (5, 0.001, 0.4, 1024, 16), 'ndcg': 0.66705, 'hitrate': 0.63591}\n",
      "{'params': (5, 0.001, 0.4, 1024, 32), 'ndcg': 0.66931, 'hitrate': 0.63697}\n",
      "{'params': (5, 0.001, 0.4, 2048, 16), 'ndcg': 0.66511, 'hitrate': 0.63404}\n",
      "{'params': (5, 0.001, 0.4, 2048, 32), 'ndcg': 0.66727, 'hitrate': 0.63553}\n",
      "{'params': (10, 0.0001, 0.3, 1024, 16), 'ndcg': 0.66229, 'hitrate': 0.63258}\n",
      "{'params': (10, 0.0001, 0.3, 1024, 32), 'ndcg': 0.66273, 'hitrate': 0.63291}\n",
      "{'params': (10, 0.0001, 0.3, 2048, 16), 'ndcg': 0.66224, 'hitrate': 0.63298}\n",
      "{'params': (10, 0.0001, 0.3, 2048, 32), 'ndcg': 0.66256, 'hitrate': 0.63316}\n",
      "{'params': (10, 0.0001, 0.4, 1024, 16), 'ndcg': 0.66233, 'hitrate': 0.63296}\n",
      "{'params': (10, 0.0001, 0.4, 1024, 32), 'ndcg': 0.66314, 'hitrate': 0.63292}\n",
      "{'params': (10, 0.0001, 0.4, 2048, 16), 'ndcg': 0.66289, 'hitrate': 0.63286}\n",
      "{'params': (10, 0.0001, 0.4, 2048, 32), 'ndcg': 0.66258, 'hitrate': 0.63307}\n",
      "{'params': (10, 0.001, 0.3, 1024, 16), 'ndcg': 0.67207, 'hitrate': 0.63747}\n",
      "{'params': (10, 0.001, 0.3, 1024, 32), 'ndcg': 0.67213, 'hitrate': 0.63916}\n",
      "{'params': (10, 0.001, 0.3, 2048, 16), 'ndcg': 0.6701, 'hitrate': 0.63707}\n",
      "{'params': (10, 0.001, 0.3, 2048, 32), 'ndcg': 0.67241, 'hitrate': 0.6382}\n",
      "{'params': (10, 0.001, 0.4, 1024, 16), 'ndcg': 0.66935, 'hitrate': 0.63625}\n",
      "{'params': (10, 0.001, 0.4, 1024, 32), 'ndcg': 0.67155, 'hitrate': 0.63882}\n",
      "{'params': (10, 0.001, 0.4, 2048, 16), 'ndcg': 0.669, 'hitrate': 0.63668}\n",
      "{'params': (10, 0.001, 0.4, 2048, 32), 'ndcg': 0.67295, 'hitrate': 0.63947}\n",
      "\n",
      "Best Parameters:\n",
      "{'params': (10, 0.001, 0.4, 2048, 32), 'ndcg': 0.67295, 'hitrate': 0.63947}\n"
     ]
    },
    {
     "name": "stderr",
     "output_type": "stream",
     "text": [
      "\n"
     ]
    }
   ],
   "source": [
    "from itertools import product\n",
    "from tqdm import tqdm\n",
    "import numpy as np\n",
    "\n",
    "# 하이퍼파라미터 조합 설정\n",
    "param_grid = {\n",
    "    'epochs': [5, 10],\n",
    "    'learning_rate': [0.0001, 0.001],\n",
    "    'dropout': [0.3, 0.4],\n",
    "    'batch_size': [1024, 2048],\n",
    "    'embed_dim': [16, 32]\n",
    "}\n",
    "\n",
    "# 결과 저장 리스트\n",
    "experiment_results = []\n",
    "\n",
    "for params in product(*param_grid.values()):\n",
    "    epochs, learning_rate, dropout, batch_size, embed_dim = params\n",
    "\n",
    "    print(f\"\\nRunning with params: epochs={epochs}, lr={learning_rate}, dropout={dropout}, batch_size={batch_size}, embed_dim={embed_dim}\")\n",
    "\n",
    "    # 모델 초기화 및 컴파일\n",
    "    autoIntMLP_model = AutoIntMLPModel(\n",
    "        field_dims, embed_dim, att_layer_num=3, att_head_num=2, att_res=True,\n",
    "        dnn_dropout=dropout, init_std=0.0001\n",
    "    )\n",
    "    optimizer = Adam(learning_rate=learning_rate)\n",
    "    loss_fn = BinaryCrossentropy(from_logits=False)\n",
    "    autoIntMLP_model.compile(optimizer=optimizer, loss=loss_fn, metrics=['binary_crossentropy'])\n",
    "\n",
    "    # 모델 훈련\n",
    "    history = autoIntMLP_model.fit(\n",
    "        train_df[u_i_feature + meta_features], train_df[label],\n",
    "        epochs=epochs, batch_size=batch_size, validation_split=0.1\n",
    "    )\n",
    "\n",
    "    # 테스트 데이터로 예측 수행\n",
    "    user_pred_info = {}\n",
    "    top = 10\n",
    "    mymodel_user_pred_info = test_model(autoIntMLP_model, test_df)\n",
    "\n",
    "    for user, data_info in tqdm(mymodel_user_pred_info.items(), total=len(mymodel_user_pred_info), position=0, leave=True):\n",
    "        ranklist = sorted(data_info, key=lambda s: s[1], reverse=True)[:top]\n",
    "        ranklist = list(dict.fromkeys([r[0] for r in ranklist]))\n",
    "        user_pred_info[str(user)] = ranklist\n",
    "\n",
    "    # 원본 테스트 데이터에서 label이 1인 사용자별 영화 정보를 가져옴\n",
    "    test_data = test_df[test_df['label'] == 1].groupby('user_id')['movie_id'].apply(list)\n",
    "    mymodel_ndcg_result = {}\n",
    "    mymodel_hitrate_result = {}\n",
    "\n",
    "    # NDCG 및 Hitrate 계산\n",
    "    for user, data_info in tqdm(test_data.items(), total=len(test_data), position=0, leave=True):\n",
    "        mymodel_pred = user_pred_info.get(str(user), [])\n",
    "        mymodel_pred = mymodel_pred[:top]\n",
    "        testset = list(set(np.array(data_info).astype(int)))\n",
    "\n",
    "        # NDCG 값 계산\n",
    "        user_ndcg = get_NDCG(mymodel_pred, testset)\n",
    "        mymodel_ndcg_result[user] = user_ndcg\n",
    "\n",
    "        # Hitrate 값 계산\n",
    "        user_hitrate = get_hit_rate(mymodel_pred, testset)\n",
    "        mymodel_hitrate_result[user] = user_hitrate\n",
    "\n",
    "    # 평균 NDCG 및 Hitrate 계산\n",
    "    avg_ndcg = round(np.mean(list(mymodel_ndcg_result.values())), 5)\n",
    "    avg_hitrate = round(np.mean(list(mymodel_hitrate_result.values())), 5)\n",
    "\n",
    "    # 결과 출력 및 저장\n",
    "    print(f\"Results -> NDCG: {avg_ndcg}, Hitrate: {avg_hitrate}\")\n",
    "\n",
    "    experiment_results.append({\n",
    "        'params': params,\n",
    "        'ndcg': avg_ndcg,\n",
    "        'hitrate': avg_hitrate\n",
    "    })\n",
    "\n",
    "# 최종 결과 출력\n",
    "print(\"\\nFinal Results:\")\n",
    "for result in experiment_results:\n",
    "    print(result)\n",
    "\n",
    "# 최적의 하이퍼파라미터 조합 출력\n",
    "best_result = max(experiment_results, key=lambda x: (x['ndcg'], x['hitrate']))\n",
    "print(\"\\nBest Parameters:\")\n",
    "print(best_result)\n"
   ]
  },
  {
   "cell_type": "code",
   "execution_count": null,
   "id": "a626dc3b",
   "metadata": {},
   "outputs": [],
   "source": []
  }
 ],
 "metadata": {
  "kernelspec": {
   "display_name": "Python 3 (ipykernel)",
   "language": "python",
   "name": "python3"
  },
  "language_info": {
   "codemirror_mode": {
    "name": "ipython",
    "version": 3
   },
   "file_extension": ".py",
   "mimetype": "text/x-python",
   "name": "python",
   "nbconvert_exporter": "python",
   "pygments_lexer": "ipython3",
   "version": "3.9.7"
  }
 },
 "nbformat": 4,
 "nbformat_minor": 5
}
